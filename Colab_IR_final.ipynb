{
  "cells": [
    {
      "cell_type": "markdown",
      "metadata": {
        "id": "C9N5ZOfv-MaQ"
      },
      "source": [
        "<div style=\"direction:rtl;line-height:300%;\">\n",
        "<font face=\"XB Zar\" size=5>\n",
        "<div align=center>\n",
        "<font face=\"B Titr\" size=5>\n",
        "<p></p><p></p>\n",
        "بسمه تعالی\n",
        "<p></p>\n",
        "</font>\n",
        "<p></p>\n",
        "<font>\n",
        "<br>\n",
        "درس بازیابی پیشرفته اطلاعات\n",
        "<br>\n",
        "مدرس: دکتر سلیمانی\n",
        "</font>\n",
        "<p></p>\n",
        "<br>\n",
        "<font>\n",
        "<b>فاز دوم پروژه</b>\n",
        "</font>\n",
        "<br>\n",
        "<br>\n",
        "موعد تحویل: ۵ خرداد ۱۴۰۲ <br>\n",
        "<br>\n",
        "<br>\n",
        "<br>\n",
        "<font>\n",
        "دانشگاه صنعتی شریف\n",
        "<br>\n",
        "دانشکده مهندسی کامپیوتر\n",
        "<br>\n",
        "<br>\n",
        "</font>\n",
        "</div>\n",
        "</font>\n",
        "</div>"
      ]
    },
    {
      "cell_type": "markdown",
      "metadata": {
        "id": "11_5VtrN-MaS"
      },
      "source": [
        "<div dir=\"rtl\">\n",
        "<font face=\"XB Zar\" size=4 >\n",
        "سامانه‌های مبتنی بر یادگیری ماشین در بخش‌های مختلف از روش‌های یادگیری ماشین استفاده می‌کنند. دسته‌بندی و\n",
        "خوشه‌بندی\n",
        "دو کار مورد نیاز این سامانه‌ها هستند. در این تمرین به پیاده‌سازی این کارها با روش‌های مختلف و پیاده‌سازی قابلیت‌های جدید برای سیستم بازیابی روی مقالات علمی می‌پردازیم. دادگان این فاز را می‌توانید از\n",
        "<a href=\"https://www.kaggle.com/datasets/spsayakpaul/arxiv-paper-abstracts?resource=download\">این لینک</a>\n",
        "دانلود کنید.\n",
        "</font>\n",
        "</div>"
      ]
    },
    {
      "cell_type": "markdown",
      "metadata": {
        "id": "67ICoKZQ-MaT"
      },
      "source": [
        "<div dir=\"rtl\">\n",
        "<font face=\"XB Zar\" size=6>\n",
        "    <h1>\n",
        "    <b>دسته‌بندی توسط NaiveBayes (۱۸ نمره)</b>\n",
        "    </h1>\n",
        "    <p></p>\n",
        "    <p></p>\n",
        "</font>\n",
        "<font face=\"XB Zar\" size=3>\n",
        "در این قسمت شما به دسته‌بندی اسناد می‌پردازید. برای این منظور، ابتدا برای هر سند، بردار مربوط به تعداد کلمات کل را بسازید و سپس classifier NaiveBaise را خودتان از پایه پیاده‌سازی کرده و اسناد را دسته‌بندی کنید.\n",
        "در این تسک می‌توانید از کل دیتاست استفاده نکنید ولی باید دیتاست شما شامل هر سه کلاس موجود در دیتاست اصلی باشد.\n",
        "</font>\n",
        "</div>"
      ]
    },
    {
      "cell_type": "code",
      "execution_count": null,
      "metadata": {
        "id": "g11iqMSt-MaT"
      },
      "outputs": [],
      "source": [
        "%pip install torch\n",
        "%pip install scikit-learn\n",
        "%pip install transformers===4.28.0\n",
        "\n",
        "from IPython.display import clear_output\n",
        "clear_output()"
      ]
    },
    {
      "cell_type": "markdown",
      "metadata": {
        "id": "FeoR_e_f-MaU"
      },
      "source": [
        "<div dir=\"rtl\">\n",
        "<font face=\"XB Zar\" size=5>\n",
        "    <h2>\n",
        "    <b>دانلود دیتاست و آشنایی با آن</b>\n",
        "    </h2>\n",
        "    <p></p>\n",
        "    <p></p>\n",
        "</font>\n",
        "<font face=\"XB Zar\" size=3>\n",
        "در این قسمت دیتاست زیر را در kaggle دریافت کرده و ویژگی‌های آن را مشاهده کنید.\n",
        "</font>\n",
        "</div>"
      ]
    },
    {
      "cell_type": "code",
      "execution_count": null,
      "metadata": {
        "id": "qChL30_S-MaU"
      },
      "outputs": [],
      "source": [
        "import torch\n",
        "import nltk\n",
        "import numpy as np\n",
        "import pandas as pd\n",
        "from tqdm import tqdm\n",
        "from nltk import word_tokenize\n",
        "import string\n",
        "from sklearn.model_selection import train_test_split\n",
        "import torch\n",
        "from transformers import (\n",
        "    BertTokenizer,\n",
        "    BertForSequenceClassification,\n",
        "    TrainingArguments,\n",
        "    Trainer,\n",
        ")\n",
        "from sklearn.metrics import precision_recall_fscore_support\n",
        "from sklearn.metrics import recall_score\n",
        "from sklearn.metrics import f1_score\n",
        "from sklearn.metrics import accuracy_score\n",
        "from sklearn.metrics import confusion_matrix, ConfusionMatrixDisplay"
      ]
    },
    {
      "cell_type": "code",
      "execution_count": null,
      "metadata": {
        "id": "ioe_E-J9-MaV"
      },
      "outputs": [],
      "source": [
        "df = pd.read_csv(\"./arxiv_data.csv\")"
      ]
    },
    {
      "cell_type": "code",
      "execution_count": null,
      "metadata": {
        "colab": {
          "base_uri": "https://localhost:8080/",
          "height": 359
        },
        "id": "qkjKQpP6-MaV",
        "outputId": "172d82ed-a825-4b72-b2c5-02436db4b0d5"
      },
      "outputs": [
        {
          "output_type": "execute_result",
          "data": {
            "text/plain": [
              "                                              titles  \\\n",
              "0  Survey on Semantic Stereo Matching / Semantic ...   \n",
              "1  FUTURE-AI: Guiding Principles and Consensus Re...   \n",
              "2  Enforcing Mutual Consistency of Hard Regions f...   \n",
              "3  Parameter Decoupling Strategy for Semi-supervi...   \n",
              "4  Background-Foreground Segmentation for Interio...   \n",
              "5  EdgeFlow: Achieving Practical Interactive Segm...   \n",
              "6  Efficient Hybrid Transformer: Learning Global-...   \n",
              "7  Towards to Robust and Generalized Medical Imag...   \n",
              "8  Semi-supervised Meta-learning with Disentangle...   \n",
              "9  Semi-supervised Contrastive Learning for Label...   \n",
              "\n",
              "                                           summaries  \\\n",
              "0  Stereo matching is one of the widely used tech...   \n",
              "1  The recent advancements in artificial intellig...   \n",
              "2  In this paper, we proposed a novel mutual cons...   \n",
              "3  Consistency training has proven to be an advan...   \n",
              "4  To ensure safety in automated driving, the cor...   \n",
              "5  High-quality training data play a key role in ...   \n",
              "6  Semantic segmentation of fine-resolution urban...   \n",
              "7  To mitigate the radiologist's workload, comput...   \n",
              "8  Generalising deep models to new data from new ...   \n",
              "9  The success of deep learning methods in medica...   \n",
              "\n",
              "                         terms  \n",
              "0           ['cs.CV', 'cs.LG']  \n",
              "1  ['cs.CV', 'cs.AI', 'cs.LG']  \n",
              "2           ['cs.CV', 'cs.AI']  \n",
              "3                    ['cs.CV']  \n",
              "4           ['cs.CV', 'cs.LG']  \n",
              "5           ['cs.CV', 'cs.HC']  \n",
              "6                    ['cs.CV']  \n",
              "7           ['cs.CV', 'cs.AI']  \n",
              "8                    ['cs.CV']  \n",
              "9                    ['cs.CV']  "
            ],
            "text/html": [
              "\n",
              "  <div id=\"df-d6cca021-528f-40c4-998c-6fa64acd4fbc\">\n",
              "    <div class=\"colab-df-container\">\n",
              "      <div>\n",
              "<style scoped>\n",
              "    .dataframe tbody tr th:only-of-type {\n",
              "        vertical-align: middle;\n",
              "    }\n",
              "\n",
              "    .dataframe tbody tr th {\n",
              "        vertical-align: top;\n",
              "    }\n",
              "\n",
              "    .dataframe thead th {\n",
              "        text-align: right;\n",
              "    }\n",
              "</style>\n",
              "<table border=\"1\" class=\"dataframe\">\n",
              "  <thead>\n",
              "    <tr style=\"text-align: right;\">\n",
              "      <th></th>\n",
              "      <th>titles</th>\n",
              "      <th>summaries</th>\n",
              "      <th>terms</th>\n",
              "    </tr>\n",
              "  </thead>\n",
              "  <tbody>\n",
              "    <tr>\n",
              "      <th>0</th>\n",
              "      <td>Survey on Semantic Stereo Matching / Semantic ...</td>\n",
              "      <td>Stereo matching is one of the widely used tech...</td>\n",
              "      <td>['cs.CV', 'cs.LG']</td>\n",
              "    </tr>\n",
              "    <tr>\n",
              "      <th>1</th>\n",
              "      <td>FUTURE-AI: Guiding Principles and Consensus Re...</td>\n",
              "      <td>The recent advancements in artificial intellig...</td>\n",
              "      <td>['cs.CV', 'cs.AI', 'cs.LG']</td>\n",
              "    </tr>\n",
              "    <tr>\n",
              "      <th>2</th>\n",
              "      <td>Enforcing Mutual Consistency of Hard Regions f...</td>\n",
              "      <td>In this paper, we proposed a novel mutual cons...</td>\n",
              "      <td>['cs.CV', 'cs.AI']</td>\n",
              "    </tr>\n",
              "    <tr>\n",
              "      <th>3</th>\n",
              "      <td>Parameter Decoupling Strategy for Semi-supervi...</td>\n",
              "      <td>Consistency training has proven to be an advan...</td>\n",
              "      <td>['cs.CV']</td>\n",
              "    </tr>\n",
              "    <tr>\n",
              "      <th>4</th>\n",
              "      <td>Background-Foreground Segmentation for Interio...</td>\n",
              "      <td>To ensure safety in automated driving, the cor...</td>\n",
              "      <td>['cs.CV', 'cs.LG']</td>\n",
              "    </tr>\n",
              "    <tr>\n",
              "      <th>5</th>\n",
              "      <td>EdgeFlow: Achieving Practical Interactive Segm...</td>\n",
              "      <td>High-quality training data play a key role in ...</td>\n",
              "      <td>['cs.CV', 'cs.HC']</td>\n",
              "    </tr>\n",
              "    <tr>\n",
              "      <th>6</th>\n",
              "      <td>Efficient Hybrid Transformer: Learning Global-...</td>\n",
              "      <td>Semantic segmentation of fine-resolution urban...</td>\n",
              "      <td>['cs.CV']</td>\n",
              "    </tr>\n",
              "    <tr>\n",
              "      <th>7</th>\n",
              "      <td>Towards to Robust and Generalized Medical Imag...</td>\n",
              "      <td>To mitigate the radiologist's workload, comput...</td>\n",
              "      <td>['cs.CV', 'cs.AI']</td>\n",
              "    </tr>\n",
              "    <tr>\n",
              "      <th>8</th>\n",
              "      <td>Semi-supervised Meta-learning with Disentangle...</td>\n",
              "      <td>Generalising deep models to new data from new ...</td>\n",
              "      <td>['cs.CV']</td>\n",
              "    </tr>\n",
              "    <tr>\n",
              "      <th>9</th>\n",
              "      <td>Semi-supervised Contrastive Learning for Label...</td>\n",
              "      <td>The success of deep learning methods in medica...</td>\n",
              "      <td>['cs.CV']</td>\n",
              "    </tr>\n",
              "  </tbody>\n",
              "</table>\n",
              "</div>\n",
              "      <button class=\"colab-df-convert\" onclick=\"convertToInteractive('df-d6cca021-528f-40c4-998c-6fa64acd4fbc')\"\n",
              "              title=\"Convert this dataframe to an interactive table.\"\n",
              "              style=\"display:none;\">\n",
              "        \n",
              "  <svg xmlns=\"http://www.w3.org/2000/svg\" height=\"24px\"viewBox=\"0 0 24 24\"\n",
              "       width=\"24px\">\n",
              "    <path d=\"M0 0h24v24H0V0z\" fill=\"none\"/>\n",
              "    <path d=\"M18.56 5.44l.94 2.06.94-2.06 2.06-.94-2.06-.94-.94-2.06-.94 2.06-2.06.94zm-11 1L8.5 8.5l.94-2.06 2.06-.94-2.06-.94L8.5 2.5l-.94 2.06-2.06.94zm10 10l.94 2.06.94-2.06 2.06-.94-2.06-.94-.94-2.06-.94 2.06-2.06.94z\"/><path d=\"M17.41 7.96l-1.37-1.37c-.4-.4-.92-.59-1.43-.59-.52 0-1.04.2-1.43.59L10.3 9.45l-7.72 7.72c-.78.78-.78 2.05 0 2.83L4 21.41c.39.39.9.59 1.41.59.51 0 1.02-.2 1.41-.59l7.78-7.78 2.81-2.81c.8-.78.8-2.07 0-2.86zM5.41 20L4 18.59l7.72-7.72 1.47 1.35L5.41 20z\"/>\n",
              "  </svg>\n",
              "      </button>\n",
              "      \n",
              "  <style>\n",
              "    .colab-df-container {\n",
              "      display:flex;\n",
              "      flex-wrap:wrap;\n",
              "      gap: 12px;\n",
              "    }\n",
              "\n",
              "    .colab-df-convert {\n",
              "      background-color: #E8F0FE;\n",
              "      border: none;\n",
              "      border-radius: 50%;\n",
              "      cursor: pointer;\n",
              "      display: none;\n",
              "      fill: #1967D2;\n",
              "      height: 32px;\n",
              "      padding: 0 0 0 0;\n",
              "      width: 32px;\n",
              "    }\n",
              "\n",
              "    .colab-df-convert:hover {\n",
              "      background-color: #E2EBFA;\n",
              "      box-shadow: 0px 1px 2px rgba(60, 64, 67, 0.3), 0px 1px 3px 1px rgba(60, 64, 67, 0.15);\n",
              "      fill: #174EA6;\n",
              "    }\n",
              "\n",
              "    [theme=dark] .colab-df-convert {\n",
              "      background-color: #3B4455;\n",
              "      fill: #D2E3FC;\n",
              "    }\n",
              "\n",
              "    [theme=dark] .colab-df-convert:hover {\n",
              "      background-color: #434B5C;\n",
              "      box-shadow: 0px 1px 3px 1px rgba(0, 0, 0, 0.15);\n",
              "      filter: drop-shadow(0px 1px 2px rgba(0, 0, 0, 0.3));\n",
              "      fill: #FFFFFF;\n",
              "    }\n",
              "  </style>\n",
              "\n",
              "      <script>\n",
              "        const buttonEl =\n",
              "          document.querySelector('#df-d6cca021-528f-40c4-998c-6fa64acd4fbc button.colab-df-convert');\n",
              "        buttonEl.style.display =\n",
              "          google.colab.kernel.accessAllowed ? 'block' : 'none';\n",
              "\n",
              "        async function convertToInteractive(key) {\n",
              "          const element = document.querySelector('#df-d6cca021-528f-40c4-998c-6fa64acd4fbc');\n",
              "          const dataTable =\n",
              "            await google.colab.kernel.invokeFunction('convertToInteractive',\n",
              "                                                     [key], {});\n",
              "          if (!dataTable) return;\n",
              "\n",
              "          const docLinkHtml = 'Like what you see? Visit the ' +\n",
              "            '<a target=\"_blank\" href=https://colab.research.google.com/notebooks/data_table.ipynb>data table notebook</a>'\n",
              "            + ' to learn more about interactive tables.';\n",
              "          element.innerHTML = '';\n",
              "          dataTable['output_type'] = 'display_data';\n",
              "          await google.colab.output.renderOutput(dataTable, element);\n",
              "          const docLink = document.createElement('div');\n",
              "          docLink.innerHTML = docLinkHtml;\n",
              "          element.appendChild(docLink);\n",
              "        }\n",
              "      </script>\n",
              "    </div>\n",
              "  </div>\n",
              "  "
            ]
          },
          "metadata": {},
          "execution_count": 6
        }
      ],
      "source": [
        "# Show the first 10 rows of the dataset.\n",
        "df.head(10)"
      ]
    },
    {
      "cell_type": "code",
      "execution_count": null,
      "metadata": {
        "colab": {
          "base_uri": "https://localhost:8080/"
        },
        "id": "BRLaxoAM-MaW",
        "outputId": "26c3db56-8565-4c23-e8d9-e0f18c1829ce"
      },
      "outputs": [
        {
          "output_type": "execute_result",
          "data": {
            "text/plain": [
              "Index(['titles', 'summaries', 'terms'], dtype='object')"
            ]
          },
          "metadata": {},
          "execution_count": 7
        }
      ],
      "source": [
        "# Show the headers of the dataset.\n",
        "df.columns"
      ]
    },
    {
      "cell_type": "code",
      "execution_count": null,
      "metadata": {
        "colab": {
          "base_uri": "https://localhost:8080/"
        },
        "id": "gOrwMVsd-MaX",
        "outputId": "b50311c2-38cb-47cf-cce3-f4ee4083189c"
      },
      "outputs": [
        {
          "output_type": "execute_result",
          "data": {
            "text/plain": [
              "(51774, 3)"
            ]
          },
          "metadata": {},
          "execution_count": 8
        }
      ],
      "source": [
        "# Show the number of rows and columns of the dataset\n",
        "df.shape"
      ]
    },
    {
      "cell_type": "markdown",
      "metadata": {
        "id": "n1MkpSRp-MaY"
      },
      "source": [
        "<div dir=\"rtl\">\n",
        "<font face=\"XB Zar\" size=5>\n",
        "    <h2>\n",
        "    <b>کاهش سایز دیتاست</b>\n",
        "    </h2>\n",
        "    <p></p>\n",
        "    <p></p>\n",
        "</font>\n",
        "<font face=\"XB Zar\" size=3>\n",
        "    در این قسمت می‌توانید سایز دیتاست را به دلخواه کم کرده تا NaiveBayes عملکرد بهتری بتواند از خودش نشان دهد.\n",
        "    کاهش سایز دیتاست می‌تواند باعث افزایش سرعت و حافظه‌ی مورد نیاز شود.\n",
        "</font>\n",
        "</div>"
      ]
    },
    {
      "cell_type": "code",
      "execution_count": null,
      "metadata": {
        "id": "FifKPazG-MaY"
      },
      "outputs": [],
      "source": [
        "# reduce the size of dataset so naive bayes can run\n",
        "df = df.sample(frac=0.2, random_state=1)"
      ]
    },
    {
      "cell_type": "code",
      "execution_count": null,
      "metadata": {
        "colab": {
          "base_uri": "https://localhost:8080/",
          "height": 539
        },
        "id": "n0daFSW--MaY",
        "outputId": "23529d76-6647-4cfc-de14-905d553c2128"
      },
      "outputs": [
        {
          "output_type": "execute_result",
          "data": {
            "text/plain": [
              "                                                  titles  \\\n",
              "931    Self-Learning to Detect and Segment Cysts in L...   \n",
              "40820  Online trajectory recovery from offline handwr...   \n",
              "8930   SpotPatch: Parameter-Efficient Transfer Learni...   \n",
              "46601  Understanding the role of importance weighting...   \n",
              "13852                  Towards Differentiable Resampling   \n",
              "43241  Variational approximations using Fisher diverg...   \n",
              "15644  Learning to Simulate Dynamic Environments with...   \n",
              "14205  Communication-efficient distributed SGD with S...   \n",
              "23277                Multilayer Clustered Graph Learning   \n",
              "26855  Sparse + Low Rank Decomposition of Annihilatin...   \n",
              "\n",
              "                                               summaries  \\\n",
              "931    Image segmentation is a fundamental problem in...   \n",
              "40820  In general, it is straightforward to render an...   \n",
              "8930   Deep learning based object detectors are commo...   \n",
              "46601  The recent paper by Byrd & Lipton (2019), base...   \n",
              "13852  Resampling is a key component of sample-based ...   \n",
              "43241  Modern applications of Bayesian inference invo...   \n",
              "15644  Simulation is a crucial component of any robot...   \n",
              "14205  Large-scale distributed training of neural net...   \n",
              "23277  Multilayer graphs are appealing mathematical t...   \n",
              "26855  Recently, so called annihilating filer-based l...   \n",
              "\n",
              "                                            terms  \n",
              "931                                     ['cs.CV']  \n",
              "40820                          ['cs.CV', 'cs.LG']  \n",
              "8930                                    ['cs.CV']  \n",
              "46601                                   ['cs.LG']  \n",
              "13852               ['cs.LG', 'cs.RO', 'stat.ML']  \n",
              "43241  ['stat.ML', 'cs.LG', 'stat.CO', 'stat.ME']  \n",
              "15644                                   ['cs.CV']  \n",
              "14205    ['cs.LG', 'cs.DC', 'math.OC', 'stat.ML']  \n",
              "23277                                   ['cs.LG']  \n",
              "26855                                   ['cs.CV']  "
            ],
            "text/html": [
              "\n",
              "  <div id=\"df-58772a7d-daaa-412c-bb17-a5bc75a1f4a5\">\n",
              "    <div class=\"colab-df-container\">\n",
              "      <div>\n",
              "<style scoped>\n",
              "    .dataframe tbody tr th:only-of-type {\n",
              "        vertical-align: middle;\n",
              "    }\n",
              "\n",
              "    .dataframe tbody tr th {\n",
              "        vertical-align: top;\n",
              "    }\n",
              "\n",
              "    .dataframe thead th {\n",
              "        text-align: right;\n",
              "    }\n",
              "</style>\n",
              "<table border=\"1\" class=\"dataframe\">\n",
              "  <thead>\n",
              "    <tr style=\"text-align: right;\">\n",
              "      <th></th>\n",
              "      <th>titles</th>\n",
              "      <th>summaries</th>\n",
              "      <th>terms</th>\n",
              "    </tr>\n",
              "  </thead>\n",
              "  <tbody>\n",
              "    <tr>\n",
              "      <th>931</th>\n",
              "      <td>Self-Learning to Detect and Segment Cysts in L...</td>\n",
              "      <td>Image segmentation is a fundamental problem in...</td>\n",
              "      <td>['cs.CV']</td>\n",
              "    </tr>\n",
              "    <tr>\n",
              "      <th>40820</th>\n",
              "      <td>Online trajectory recovery from offline handwr...</td>\n",
              "      <td>In general, it is straightforward to render an...</td>\n",
              "      <td>['cs.CV', 'cs.LG']</td>\n",
              "    </tr>\n",
              "    <tr>\n",
              "      <th>8930</th>\n",
              "      <td>SpotPatch: Parameter-Efficient Transfer Learni...</td>\n",
              "      <td>Deep learning based object detectors are commo...</td>\n",
              "      <td>['cs.CV']</td>\n",
              "    </tr>\n",
              "    <tr>\n",
              "      <th>46601</th>\n",
              "      <td>Understanding the role of importance weighting...</td>\n",
              "      <td>The recent paper by Byrd &amp; Lipton (2019), base...</td>\n",
              "      <td>['cs.LG']</td>\n",
              "    </tr>\n",
              "    <tr>\n",
              "      <th>13852</th>\n",
              "      <td>Towards Differentiable Resampling</td>\n",
              "      <td>Resampling is a key component of sample-based ...</td>\n",
              "      <td>['cs.LG', 'cs.RO', 'stat.ML']</td>\n",
              "    </tr>\n",
              "    <tr>\n",
              "      <th>43241</th>\n",
              "      <td>Variational approximations using Fisher diverg...</td>\n",
              "      <td>Modern applications of Bayesian inference invo...</td>\n",
              "      <td>['stat.ML', 'cs.LG', 'stat.CO', 'stat.ME']</td>\n",
              "    </tr>\n",
              "    <tr>\n",
              "      <th>15644</th>\n",
              "      <td>Learning to Simulate Dynamic Environments with...</td>\n",
              "      <td>Simulation is a crucial component of any robot...</td>\n",
              "      <td>['cs.CV']</td>\n",
              "    </tr>\n",
              "    <tr>\n",
              "      <th>14205</th>\n",
              "      <td>Communication-efficient distributed SGD with S...</td>\n",
              "      <td>Large-scale distributed training of neural net...</td>\n",
              "      <td>['cs.LG', 'cs.DC', 'math.OC', 'stat.ML']</td>\n",
              "    </tr>\n",
              "    <tr>\n",
              "      <th>23277</th>\n",
              "      <td>Multilayer Clustered Graph Learning</td>\n",
              "      <td>Multilayer graphs are appealing mathematical t...</td>\n",
              "      <td>['cs.LG']</td>\n",
              "    </tr>\n",
              "    <tr>\n",
              "      <th>26855</th>\n",
              "      <td>Sparse + Low Rank Decomposition of Annihilatin...</td>\n",
              "      <td>Recently, so called annihilating filer-based l...</td>\n",
              "      <td>['cs.CV']</td>\n",
              "    </tr>\n",
              "  </tbody>\n",
              "</table>\n",
              "</div>\n",
              "      <button class=\"colab-df-convert\" onclick=\"convertToInteractive('df-58772a7d-daaa-412c-bb17-a5bc75a1f4a5')\"\n",
              "              title=\"Convert this dataframe to an interactive table.\"\n",
              "              style=\"display:none;\">\n",
              "        \n",
              "  <svg xmlns=\"http://www.w3.org/2000/svg\" height=\"24px\"viewBox=\"0 0 24 24\"\n",
              "       width=\"24px\">\n",
              "    <path d=\"M0 0h24v24H0V0z\" fill=\"none\"/>\n",
              "    <path d=\"M18.56 5.44l.94 2.06.94-2.06 2.06-.94-2.06-.94-.94-2.06-.94 2.06-2.06.94zm-11 1L8.5 8.5l.94-2.06 2.06-.94-2.06-.94L8.5 2.5l-.94 2.06-2.06.94zm10 10l.94 2.06.94-2.06 2.06-.94-2.06-.94-.94-2.06-.94 2.06-2.06.94z\"/><path d=\"M17.41 7.96l-1.37-1.37c-.4-.4-.92-.59-1.43-.59-.52 0-1.04.2-1.43.59L10.3 9.45l-7.72 7.72c-.78.78-.78 2.05 0 2.83L4 21.41c.39.39.9.59 1.41.59.51 0 1.02-.2 1.41-.59l7.78-7.78 2.81-2.81c.8-.78.8-2.07 0-2.86zM5.41 20L4 18.59l7.72-7.72 1.47 1.35L5.41 20z\"/>\n",
              "  </svg>\n",
              "      </button>\n",
              "      \n",
              "  <style>\n",
              "    .colab-df-container {\n",
              "      display:flex;\n",
              "      flex-wrap:wrap;\n",
              "      gap: 12px;\n",
              "    }\n",
              "\n",
              "    .colab-df-convert {\n",
              "      background-color: #E8F0FE;\n",
              "      border: none;\n",
              "      border-radius: 50%;\n",
              "      cursor: pointer;\n",
              "      display: none;\n",
              "      fill: #1967D2;\n",
              "      height: 32px;\n",
              "      padding: 0 0 0 0;\n",
              "      width: 32px;\n",
              "    }\n",
              "\n",
              "    .colab-df-convert:hover {\n",
              "      background-color: #E2EBFA;\n",
              "      box-shadow: 0px 1px 2px rgba(60, 64, 67, 0.3), 0px 1px 3px 1px rgba(60, 64, 67, 0.15);\n",
              "      fill: #174EA6;\n",
              "    }\n",
              "\n",
              "    [theme=dark] .colab-df-convert {\n",
              "      background-color: #3B4455;\n",
              "      fill: #D2E3FC;\n",
              "    }\n",
              "\n",
              "    [theme=dark] .colab-df-convert:hover {\n",
              "      background-color: #434B5C;\n",
              "      box-shadow: 0px 1px 3px 1px rgba(0, 0, 0, 0.15);\n",
              "      filter: drop-shadow(0px 1px 2px rgba(0, 0, 0, 0.3));\n",
              "      fill: #FFFFFF;\n",
              "    }\n",
              "  </style>\n",
              "\n",
              "      <script>\n",
              "        const buttonEl =\n",
              "          document.querySelector('#df-58772a7d-daaa-412c-bb17-a5bc75a1f4a5 button.colab-df-convert');\n",
              "        buttonEl.style.display =\n",
              "          google.colab.kernel.accessAllowed ? 'block' : 'none';\n",
              "\n",
              "        async function convertToInteractive(key) {\n",
              "          const element = document.querySelector('#df-58772a7d-daaa-412c-bb17-a5bc75a1f4a5');\n",
              "          const dataTable =\n",
              "            await google.colab.kernel.invokeFunction('convertToInteractive',\n",
              "                                                     [key], {});\n",
              "          if (!dataTable) return;\n",
              "\n",
              "          const docLinkHtml = 'Like what you see? Visit the ' +\n",
              "            '<a target=\"_blank\" href=https://colab.research.google.com/notebooks/data_table.ipynb>data table notebook</a>'\n",
              "            + ' to learn more about interactive tables.';\n",
              "          element.innerHTML = '';\n",
              "          dataTable['output_type'] = 'display_data';\n",
              "          await google.colab.output.renderOutput(dataTable, element);\n",
              "          const docLink = document.createElement('div');\n",
              "          docLink.innerHTML = docLinkHtml;\n",
              "          element.appendChild(docLink);\n",
              "        }\n",
              "      </script>\n",
              "    </div>\n",
              "  </div>\n",
              "  "
            ]
          },
          "metadata": {},
          "execution_count": 10
        }
      ],
      "source": [
        "df.head(10)"
      ]
    },
    {
      "cell_type": "code",
      "execution_count": null,
      "metadata": {
        "colab": {
          "base_uri": "https://localhost:8080/"
        },
        "id": "CMsCD5lT-MaZ",
        "outputId": "2724226a-6d04-45be-d648-8d903de35852"
      },
      "outputs": [
        {
          "output_type": "execute_result",
          "data": {
            "text/plain": [
              "(10355, 3)"
            ]
          },
          "metadata": {},
          "execution_count": 11
        }
      ],
      "source": [
        "df.shape"
      ]
    },
    {
      "cell_type": "markdown",
      "metadata": {
        "id": "v7ndQ0Sr-MaZ"
      },
      "source": [
        "<div dir=\"rtl\">\n",
        "<font face=\"XB Zar\" size=5>\n",
        "    <h2>\n",
        "    <b>پیش‌پردازش دیتاست</b>\n",
        "    </h2>\n",
        "    <p></p>\n",
        "    <p></p>\n",
        "</font>\n",
        "<font face=\"XB Zar\" size=3>\n",
        "    در این قسمت می‌توانید با استفاده از تابع زیر یا توابعی که در فاز 1 تعریف کردید به پیش‌پردازش دیتاست بپردازید.\n",
        "    داده‌ای که با آن در این بخش کار می‌کنید چند برچسبی می‌باشند. اما برای این بخش ما تنها برچسب اول از هر مقاله را در نظر می‌گیریم و به صورت تک برچسبی به داده‌ها نگاه می‌کنیم.\n",
        "</font>\n",
        "</div>"
      ]
    },
    {
      "cell_type": "code",
      "execution_count": null,
      "metadata": {
        "colab": {
          "base_uri": "https://localhost:8080/"
        },
        "id": "DpbkVr5i-MaZ",
        "outputId": "04b2fbb2-2186-4860-d988-72b96bc5c476"
      },
      "outputs": [
        {
          "output_type": "stream",
          "name": "stderr",
          "text": [
            "[nltk_data] Downloading package stopwords to /root/nltk_data...\n",
            "[nltk_data]   Package stopwords is already up-to-date!\n",
            "[nltk_data] Downloading package punkt to /root/nltk_data...\n",
            "[nltk_data]   Unzipping tokenizers/punkt.zip.\n"
          ]
        },
        {
          "output_type": "execute_result",
          "data": {
            "text/plain": [
              "True"
            ]
          },
          "metadata": {},
          "execution_count": 15
        }
      ],
      "source": [
        "import nltk\n",
        "import ssl\n",
        "\n",
        "try:\n",
        "    _create_unverified_https_context = ssl._create_unverified_context\n",
        "except AttributeError:\n",
        "    pass\n",
        "else:\n",
        "    ssl._create_default_https_context = _create_unverified_https_context\n",
        "\n",
        "nltk.download(\"stopwords\")\n",
        "nltk.download(\"punkt\")"
      ]
    },
    {
      "cell_type": "code",
      "execution_count": null,
      "metadata": {
        "id": "w0K9igDb-Maa"
      },
      "outputs": [],
      "source": [
        "def preprocess_text(\n",
        "    text,\n",
        "    minimum_length=1,\n",
        "    stopword_removal=True,\n",
        "    stopwords_domain=[],\n",
        "    lower_case=True,\n",
        "    punctuation_removal=True,\n",
        "):\n",
        "    normalized_tokens = word_tokenize(text)\n",
        "\n",
        "    if stopword_removal:\n",
        "        # Remove stopwords in English and also the given domain stopwords\n",
        "        stopwords = [x.lower() for x in nltk.corpus.stopwords.words(\"english\")]\n",
        "        domain_stopwords = [x.lower() for x in stopwords_domain]\n",
        "        normalized_tokens = [\n",
        "            word\n",
        "            for word in normalized_tokens\n",
        "            if word.lower() not in domain_stopwords + stopwords\n",
        "        ]\n",
        "\n",
        "    if punctuation_removal:\n",
        "        # Remove punctuations\n",
        "        normalized_tokens = [\n",
        "            word for word in normalized_tokens if word not in string.punctuation\n",
        "        ]\n",
        "\n",
        "    if lower_case:\n",
        "        # Convert everything to lowercase and filter based on a min length\n",
        "        normalized_tokens = [\n",
        "            word.lower() for word in normalized_tokens if len(word) > minimum_length\n",
        "        ]\n",
        "    else:\n",
        "        normalized_tokens = [\n",
        "            word for word in normalized_tokens if len(word) > minimum_length\n",
        "        ]\n",
        "\n",
        "    return normalized_tokens"
      ]
    },
    {
      "cell_type": "code",
      "execution_count": null,
      "metadata": {
        "id": "oosPMuK--Maa"
      },
      "outputs": [],
      "source": [
        "# pre_process the title and summaries of the dataframe\n",
        "\n",
        "df[\"titles\"] = df[\"titles\"].apply(preprocess_text)\n",
        "df[\"summaries\"] = df[\"summaries\"].apply(preprocess_text)\n",
        "# set the terms (they are in form of '[a.b, c.d]') to a list of terms\n",
        "df[\"terms\"] = df[\"terms\"].apply(lambda x: x[1:-1].split(\", \"))"
      ]
    },
    {
      "cell_type": "code",
      "execution_count": null,
      "metadata": {
        "colab": {
          "base_uri": "https://localhost:8080/",
          "height": 505
        },
        "id": "wpFQm3tg-Maa",
        "outputId": "8852adf6-0d3a-4c01-d37e-95dbc5591f44"
      },
      "outputs": [
        {
          "output_type": "execute_result",
          "data": {
            "text/plain": [
              "                                                  titles  \\\n",
              "931    [self-learning, detect, segment, cysts, lung, ...   \n",
              "40820  [online, trajectory, recovery, offline, handwr...   \n",
              "8930   [spotpatch, parameter-efficient, transfer, lea...   \n",
              "46601  [understanding, role, importance, weighting, d...   \n",
              "13852              [towards, differentiable, resampling]   \n",
              "43241  [variational, approximations, using, fisher, d...   \n",
              "15644  [learning, simulate, dynamic, environments, ga...   \n",
              "14205  [communication-efficient, distributed, sgd, sk...   \n",
              "23277           [multilayer, clustered, graph, learning]   \n",
              "26855  [sparse, low, rank, decomposition, annihilatin...   \n",
              "\n",
              "                                               summaries  \\\n",
              "931    [image, segmentation, fundamental, problem, me...   \n",
              "40820  [general, straightforward, render, offline, ha...   \n",
              "8930   [deep, learning, based, object, detectors, com...   \n",
              "46601  [recent, paper, byrd, lipton, 2019, based, emp...   \n",
              "13852  [resampling, key, component, sample-based, rec...   \n",
              "43241  [modern, applications, bayesian, inference, in...   \n",
              "15644  [simulation, crucial, component, robotic, syst...   \n",
              "14205  [large-scale, distributed, training, neural, n...   \n",
              "23277  [multilayer, graphs, appealing, mathematical, ...   \n",
              "26855  [recently, called, annihilating, filer-based, ...   \n",
              "\n",
              "                                            terms  \n",
              "931                                     ['cs.CV']  \n",
              "40820                          ['cs.CV', 'cs.LG']  \n",
              "8930                                    ['cs.CV']  \n",
              "46601                                   ['cs.LG']  \n",
              "13852               ['cs.LG', 'cs.RO', 'stat.ML']  \n",
              "43241  ['stat.ML', 'cs.LG', 'stat.CO', 'stat.ME']  \n",
              "15644                                   ['cs.CV']  \n",
              "14205    ['cs.LG', 'cs.DC', 'math.OC', 'stat.ML']  \n",
              "23277                                   ['cs.LG']  \n",
              "26855                                   ['cs.CV']  "
            ],
            "text/html": [
              "\n",
              "  <div id=\"df-65a31121-af63-41f5-b52a-3f4ea1fb9464\">\n",
              "    <div class=\"colab-df-container\">\n",
              "      <div>\n",
              "<style scoped>\n",
              "    .dataframe tbody tr th:only-of-type {\n",
              "        vertical-align: middle;\n",
              "    }\n",
              "\n",
              "    .dataframe tbody tr th {\n",
              "        vertical-align: top;\n",
              "    }\n",
              "\n",
              "    .dataframe thead th {\n",
              "        text-align: right;\n",
              "    }\n",
              "</style>\n",
              "<table border=\"1\" class=\"dataframe\">\n",
              "  <thead>\n",
              "    <tr style=\"text-align: right;\">\n",
              "      <th></th>\n",
              "      <th>titles</th>\n",
              "      <th>summaries</th>\n",
              "      <th>terms</th>\n",
              "    </tr>\n",
              "  </thead>\n",
              "  <tbody>\n",
              "    <tr>\n",
              "      <th>931</th>\n",
              "      <td>[self-learning, detect, segment, cysts, lung, ...</td>\n",
              "      <td>[image, segmentation, fundamental, problem, me...</td>\n",
              "      <td>['cs.CV']</td>\n",
              "    </tr>\n",
              "    <tr>\n",
              "      <th>40820</th>\n",
              "      <td>[online, trajectory, recovery, offline, handwr...</td>\n",
              "      <td>[general, straightforward, render, offline, ha...</td>\n",
              "      <td>['cs.CV', 'cs.LG']</td>\n",
              "    </tr>\n",
              "    <tr>\n",
              "      <th>8930</th>\n",
              "      <td>[spotpatch, parameter-efficient, transfer, lea...</td>\n",
              "      <td>[deep, learning, based, object, detectors, com...</td>\n",
              "      <td>['cs.CV']</td>\n",
              "    </tr>\n",
              "    <tr>\n",
              "      <th>46601</th>\n",
              "      <td>[understanding, role, importance, weighting, d...</td>\n",
              "      <td>[recent, paper, byrd, lipton, 2019, based, emp...</td>\n",
              "      <td>['cs.LG']</td>\n",
              "    </tr>\n",
              "    <tr>\n",
              "      <th>13852</th>\n",
              "      <td>[towards, differentiable, resampling]</td>\n",
              "      <td>[resampling, key, component, sample-based, rec...</td>\n",
              "      <td>['cs.LG', 'cs.RO', 'stat.ML']</td>\n",
              "    </tr>\n",
              "    <tr>\n",
              "      <th>43241</th>\n",
              "      <td>[variational, approximations, using, fisher, d...</td>\n",
              "      <td>[modern, applications, bayesian, inference, in...</td>\n",
              "      <td>['stat.ML', 'cs.LG', 'stat.CO', 'stat.ME']</td>\n",
              "    </tr>\n",
              "    <tr>\n",
              "      <th>15644</th>\n",
              "      <td>[learning, simulate, dynamic, environments, ga...</td>\n",
              "      <td>[simulation, crucial, component, robotic, syst...</td>\n",
              "      <td>['cs.CV']</td>\n",
              "    </tr>\n",
              "    <tr>\n",
              "      <th>14205</th>\n",
              "      <td>[communication-efficient, distributed, sgd, sk...</td>\n",
              "      <td>[large-scale, distributed, training, neural, n...</td>\n",
              "      <td>['cs.LG', 'cs.DC', 'math.OC', 'stat.ML']</td>\n",
              "    </tr>\n",
              "    <tr>\n",
              "      <th>23277</th>\n",
              "      <td>[multilayer, clustered, graph, learning]</td>\n",
              "      <td>[multilayer, graphs, appealing, mathematical, ...</td>\n",
              "      <td>['cs.LG']</td>\n",
              "    </tr>\n",
              "    <tr>\n",
              "      <th>26855</th>\n",
              "      <td>[sparse, low, rank, decomposition, annihilatin...</td>\n",
              "      <td>[recently, called, annihilating, filer-based, ...</td>\n",
              "      <td>['cs.CV']</td>\n",
              "    </tr>\n",
              "  </tbody>\n",
              "</table>\n",
              "</div>\n",
              "      <button class=\"colab-df-convert\" onclick=\"convertToInteractive('df-65a31121-af63-41f5-b52a-3f4ea1fb9464')\"\n",
              "              title=\"Convert this dataframe to an interactive table.\"\n",
              "              style=\"display:none;\">\n",
              "        \n",
              "  <svg xmlns=\"http://www.w3.org/2000/svg\" height=\"24px\"viewBox=\"0 0 24 24\"\n",
              "       width=\"24px\">\n",
              "    <path d=\"M0 0h24v24H0V0z\" fill=\"none\"/>\n",
              "    <path d=\"M18.56 5.44l.94 2.06.94-2.06 2.06-.94-2.06-.94-.94-2.06-.94 2.06-2.06.94zm-11 1L8.5 8.5l.94-2.06 2.06-.94-2.06-.94L8.5 2.5l-.94 2.06-2.06.94zm10 10l.94 2.06.94-2.06 2.06-.94-2.06-.94-.94-2.06-.94 2.06-2.06.94z\"/><path d=\"M17.41 7.96l-1.37-1.37c-.4-.4-.92-.59-1.43-.59-.52 0-1.04.2-1.43.59L10.3 9.45l-7.72 7.72c-.78.78-.78 2.05 0 2.83L4 21.41c.39.39.9.59 1.41.59.51 0 1.02-.2 1.41-.59l7.78-7.78 2.81-2.81c.8-.78.8-2.07 0-2.86zM5.41 20L4 18.59l7.72-7.72 1.47 1.35L5.41 20z\"/>\n",
              "  </svg>\n",
              "      </button>\n",
              "      \n",
              "  <style>\n",
              "    .colab-df-container {\n",
              "      display:flex;\n",
              "      flex-wrap:wrap;\n",
              "      gap: 12px;\n",
              "    }\n",
              "\n",
              "    .colab-df-convert {\n",
              "      background-color: #E8F0FE;\n",
              "      border: none;\n",
              "      border-radius: 50%;\n",
              "      cursor: pointer;\n",
              "      display: none;\n",
              "      fill: #1967D2;\n",
              "      height: 32px;\n",
              "      padding: 0 0 0 0;\n",
              "      width: 32px;\n",
              "    }\n",
              "\n",
              "    .colab-df-convert:hover {\n",
              "      background-color: #E2EBFA;\n",
              "      box-shadow: 0px 1px 2px rgba(60, 64, 67, 0.3), 0px 1px 3px 1px rgba(60, 64, 67, 0.15);\n",
              "      fill: #174EA6;\n",
              "    }\n",
              "\n",
              "    [theme=dark] .colab-df-convert {\n",
              "      background-color: #3B4455;\n",
              "      fill: #D2E3FC;\n",
              "    }\n",
              "\n",
              "    [theme=dark] .colab-df-convert:hover {\n",
              "      background-color: #434B5C;\n",
              "      box-shadow: 0px 1px 3px 1px rgba(0, 0, 0, 0.15);\n",
              "      filter: drop-shadow(0px 1px 2px rgba(0, 0, 0, 0.3));\n",
              "      fill: #FFFFFF;\n",
              "    }\n",
              "  </style>\n",
              "\n",
              "      <script>\n",
              "        const buttonEl =\n",
              "          document.querySelector('#df-65a31121-af63-41f5-b52a-3f4ea1fb9464 button.colab-df-convert');\n",
              "        buttonEl.style.display =\n",
              "          google.colab.kernel.accessAllowed ? 'block' : 'none';\n",
              "\n",
              "        async function convertToInteractive(key) {\n",
              "          const element = document.querySelector('#df-65a31121-af63-41f5-b52a-3f4ea1fb9464');\n",
              "          const dataTable =\n",
              "            await google.colab.kernel.invokeFunction('convertToInteractive',\n",
              "                                                     [key], {});\n",
              "          if (!dataTable) return;\n",
              "\n",
              "          const docLinkHtml = 'Like what you see? Visit the ' +\n",
              "            '<a target=\"_blank\" href=https://colab.research.google.com/notebooks/data_table.ipynb>data table notebook</a>'\n",
              "            + ' to learn more about interactive tables.';\n",
              "          element.innerHTML = '';\n",
              "          dataTable['output_type'] = 'display_data';\n",
              "          await google.colab.output.renderOutput(dataTable, element);\n",
              "          const docLink = document.createElement('div');\n",
              "          docLink.innerHTML = docLinkHtml;\n",
              "          element.appendChild(docLink);\n",
              "        }\n",
              "      </script>\n",
              "    </div>\n",
              "  </div>\n",
              "  "
            ]
          },
          "metadata": {},
          "execution_count": 18
        }
      ],
      "source": [
        "df.head(10)"
      ]
    },
    {
      "cell_type": "markdown",
      "metadata": {
        "id": "ZBdWrNW--Maa"
      },
      "source": [
        "<div dir=\"rtl\">\n",
        "<font face=\"XB Zar\" size=5>\n",
        "    <h2>\n",
        "    <b>آماده‌سازی دیتای train و test</b>\n",
        "    </h2>\n",
        "    <p></p>\n",
        "    <p></p>\n",
        "</font>\n",
        "<font face=\"XB Zar\" size=3>\n",
        "    در این قسمت با ساخت ماتریس doc-word می‌توانید دیتای مورد نیاز برای NaiveBayes را آماده کنید. در این ماتریس هر سطر نشان‌دهنده آیدی داکیومنت و هر ستون نشان‌دهنده یک کلمه در کل vocabulary شما می‌باشد.\n",
        "   همچنین می‌توانید از CountVectorizer استفاده کنید. \n",
        "</font>\n",
        "</div>"
      ]
    },
    {
      "cell_type": "code",
      "execution_count": null,
      "metadata": {
        "colab": {
          "base_uri": "https://localhost:8080/"
        },
        "id": "LYaBFpcR-Maa",
        "outputId": "f1b9c048-1536-4e7b-ec30-faad5b95ac65"
      },
      "outputs": [
        {
          "output_type": "execute_result",
          "data": {
            "text/plain": [
              "(10355, 29807)"
            ]
          },
          "metadata": {},
          "execution_count": 19
        }
      ],
      "source": [
        "# TODO\n",
        "from sklearn.feature_extraction.text import CountVectorizer\n",
        "\n",
        "cv = CountVectorizer()\n",
        "joined = df[\"titles\"] + df[\"summaries\"]\n",
        "joined = joined.apply(lambda x: \" \".join(x))\n",
        "word_count_vector = cv.fit_transform(joined)\n",
        "\n",
        "word_count_vector.shape"
      ]
    },
    {
      "cell_type": "markdown",
      "metadata": {
        "id": "tG7jk2XP-Maa"
      },
      "source": [
        "<div dir=\"rtl\">\n",
        "<font face=\"XB Zar\" size=5>\n",
        "    <h2>\n",
        "    <b>دسته‌بندی با استفاده از NaiveBayes</b>\n",
        "    </h2>\n",
        "    در این بخش کلاس زیر را تکمیل نمایید تا classifier NaiveBayes را <u><b>از پایه</b></u> پیاده‌سازی کنید.\n",
        "</font>\n",
        "</div>"
      ]
    },
    {
      "cell_type": "code",
      "execution_count": null,
      "metadata": {
        "id": "7NvqZ3fZ-Mab"
      },
      "outputs": [],
      "source": [
        "from tqdm import tqdm"
      ]
    },
    {
      "cell_type": "code",
      "execution_count": null,
      "metadata": {
        "id": "YSmrGUQF-Mab"
      },
      "outputs": [],
      "source": [
        "class NaiveBayes:\n",
        "    def __init__(self, alpha=1.0):\n",
        "        self.prior = None\n",
        "        self.word_counts = None\n",
        "        self.lk_word = None\n",
        "        self.alpha = alpha\n",
        "\n",
        "    def fit(self, x, y):\n",
        "        \"\"\"\n",
        "        Fit the features and the labels\n",
        "        Calculate prior, word_counts and lk_word\n",
        "\n",
        "        Parameters\n",
        "        ----------\n",
        "        x: np.ndarray\n",
        "            An m * n matrix - m is count\n",
        "            of docs and n is size of vocabulary\n",
        "\n",
        "        y: np.ndarray\n",
        "            The real class label for each doc\n",
        "\n",
        "        Returns\n",
        "        -------\n",
        "        self\n",
        "            Returns self as a classifier\n",
        "        \"\"\"\n",
        "        # TODO\n",
        "        self.prior = {}\n",
        "        self.word_counts = {}\n",
        "        self.lk_word = {}\n",
        "        y_modified = np.copy(y)\n",
        "\n",
        "        # If y label is a list, set the label to the first element\n",
        "        for i in range(len(y_modified)):\n",
        "            if type(y_modified[i]) == list:\n",
        "                y_modified[i] = y_modified[i][0]\n",
        "\n",
        "        # Get unique labels\n",
        "        self.labels = np.unique(y_modified)\n",
        "        print(self.labels)\n",
        "\n",
        "        # Calculate prior probabilities\n",
        "        for label in tqdm(self.labels):\n",
        "            self.prior[label] = np.sum(y_modified == label) / len(y_modified)\n",
        "\n",
        "        # Initialize word counts and likelihood probabilities dictionaries\n",
        "        for label in tqdm(self.labels):\n",
        "            self.word_counts[label] = np.zeros(x.shape[1])\n",
        "            self.lk_word[label] = np.zeros(x.shape[1])\n",
        "\n",
        "        # Update word counts for each class\n",
        "        for label in tqdm(self.labels):\n",
        "            for doc in x[y_modified == label]:\n",
        "                self.word_counts[label] += doc\n",
        "\n",
        "        # Calculate likelihood probabilities with Laplace smoothing\n",
        "        for label in tqdm(self.labels):\n",
        "            self.lk_word[label] = (self.word_counts[label] + self.alpha) / (\n",
        "                np.sum(self.word_counts[label]) + self.alpha * x.shape[1]\n",
        "            )\n",
        "\n",
        "        return self\n",
        "\n",
        "    def predict(self, x):\n",
        "        \"\"\"\n",
        "        Parameters\n",
        "        ----------\n",
        "        x: np.ndarray\n",
        "            An k * n matrix - k is count\n",
        "            of docs and n is vocabulary size\n",
        "\n",
        "        Returns\n",
        "        -------\n",
        "        np.ndarray\n",
        "            Return the predicted class for each doc\n",
        "            with the highest probability (argmax)\n",
        "        \"\"\"\n",
        "\n",
        "        # TODO (use tqdm to show progress bar)\n",
        "        # make it as fast as possible\n",
        "        # Hint: use np.log to avoid underflow\n",
        "        predictions = []\n",
        "        for doc in tqdm(x):\n",
        "            pred = []\n",
        "            for label in self.labels:\n",
        "                pred.append(\n",
        "                    np.log(self.prior[label])\n",
        "                    + np.sum(np.log(self.lk_word[label]) * doc)\n",
        "                )\n",
        "            predictions.append(self.labels[np.argmax(pred)])\n",
        "\n",
        "        self.predictions = predictions\n",
        "        return np.array(predictions)\n",
        "\n",
        "    def get_params(self, deep=True):\n",
        "        return {\"alpha\": self.alpha}"
      ]
    },
    {
      "cell_type": "code",
      "execution_count": null,
      "metadata": {
        "id": "W8xLXznx-Mab",
        "outputId": "1725128d-dccb-4788-801d-6e6beedc655c"
      },
      "outputs": [
        {
          "name": "stdout",
          "output_type": "stream",
          "text": [
            "[\"'cs.CV'\" \"'cs.LG'\" \"'stat.ML'\"]\n"
          ]
        },
        {
          "name": "stderr",
          "output_type": "stream",
          "text": [
            "100%|██████████| 3/3 [00:00<00:00, 2667.00it/s]\n",
            "100%|██████████| 3/3 [00:00<00:00, 5670.53it/s]\n",
            "100%|██████████| 3/3 [00:00<00:00,  5.24it/s]\n",
            "100%|██████████| 3/3 [00:00<00:00, 4580.60it/s]\n"
          ]
        },
        {
          "data": {
            "text/plain": [
              "<__main__.NaiveBayes at 0x281492a40>"
            ]
          },
          "execution_count": 19,
          "metadata": {},
          "output_type": "execute_result"
        }
      ],
      "source": [
        "# use your classifier to fit on the training data\n",
        "# then try to predict classes of test data\n",
        "\n",
        "# TODO\n",
        "X_train, X_test, y_train, y_test = train_test_split(\n",
        "    word_count_vector, df[\"terms\"], test_size=0.1, random_state=1\n",
        ")\n",
        "\n",
        "nb = NaiveBayes()\n",
        "nb.fit(X_train.toarray(), y_train)"
      ]
    },
    {
      "cell_type": "code",
      "execution_count": null,
      "metadata": {
        "id": "Vx_hoxPL-Mab",
        "outputId": "26ef17f9-7858-4ce1-868a-d0fbcf4791f7"
      },
      "outputs": [
        {
          "name": "stderr",
          "output_type": "stream",
          "text": [
            "100%|██████████| 1036/1036 [00:00<00:00, 2967.72it/s]\n"
          ]
        }
      ],
      "source": [
        "y_pred = nb.predict(X_test.toarray())"
      ]
    },
    {
      "cell_type": "code",
      "execution_count": null,
      "metadata": {
        "id": "PTECong4-Mac",
        "outputId": "f0f31a84-6e6a-42a6-a75a-48d33c477c98"
      },
      "outputs": [
        {
          "name": "stdout",
          "output_type": "stream",
          "text": [
            "Actual: [\"'cs.CV'\", \"'eess.SP'\"] , Predicted: 'cs.CV'\n",
            "Actual: [\"'cs.LG'\", \"'math.OC'\"] , Predicted: 'cs.LG'\n",
            "Actual: [\"'cs.CV'\"] , Predicted: 'cs.CV'\n",
            "Actual: [\"'cs.LG'\", \"'cs.NE'\", \"'stat.ML'\"] , Predicted: 'cs.LG'\n",
            "Actual: [\"'cs.LG'\"] , Predicted: 'cs.LG'\n",
            "Actual: [\"'cs.CV'\"] , Predicted: 'cs.CV'\n",
            "Actual: [\"'cs.LG'\", \"'cs.CV'\", \"'stat.ML'\"] , Predicted: 'cs.CV'\n",
            "Actual: [\"'cs.CV'\"] , Predicted: 'cs.CV'\n",
            "Actual: [\"'cs.LG'\", \"'cs.CR'\", \"'stat.ML'\"] , Predicted: 'cs.LG'\n",
            "Actual: [\"'cs.CV'\"] , Predicted: 'cs.CV'\n"
          ]
        }
      ],
      "source": [
        "# print some test labels vs predicted labels\n",
        "for i in range(10):\n",
        "    print(f\"Actual: {y_test.iloc[i]} , Predicted: {y_pred[i]}\")"
      ]
    },
    {
      "cell_type": "markdown",
      "metadata": {
        "id": "E7fnG83s-Mac"
      },
      "source": [
        "<div dir=\"rtl\">\n",
        "<font face=\"XB Zar\" size=5>\n",
        "    <h2>\n",
        "    <b>ارزیابی مدل train شده</b>\n",
        "    </h2>\n",
        "    در این بخش precision، recall، F1 score را در حالت macro و micro\n",
        "    و accuracy مدل\n",
        "    را با استفاده از sklearn به دست آورید.\n",
        "</font>\n",
        "</div>"
      ]
    },
    {
      "cell_type": "code",
      "execution_count": null,
      "metadata": {
        "id": "evcGP5vR-Mac",
        "outputId": "c64586a8-dee5-461a-931e-2e7e479caeba"
      },
      "outputs": [
        {
          "name": "stdout",
          "output_type": "stream",
          "text": [
            "Accuracy is 0.8793436293436293\n",
            "Recall(macro) is 0.6816486465761828\n",
            "Recall(micro) is 0.8793436293436293\n",
            "Precision(macro) is 0.7540515927223773\n",
            "Precision(micro) is 0.8793436293436293\n",
            "F1(macro) is 0.6980808829585702\n",
            "F1(micro) is 0.8793436293436293\n"
          ]
        }
      ],
      "source": [
        "from sklearn.metrics import accuracy_score, recall_score, precision_score, f1_score\n",
        "\n",
        "# make y_test as like as y copy in the last cell (1st label)\n",
        "y_test_modified = np.copy(y_test)\n",
        "for i in range(len(y_test_modified)):\n",
        "    if type(y_test_modified[i]) == list:\n",
        "        y_test_modified[i] = y_test_modified[i][0]\n",
        "\n",
        "# TODO\n",
        "print(f\"Accuracy is {accuracy_score(y_test_modified, y_pred)}\")\n",
        "print(f\"Recall(macro) is {recall_score(y_test_modified, y_pred, average='macro')}\")\n",
        "print(f\"Recall(micro) is {recall_score(y_test_modified, y_pred, average='micro')}\")\n",
        "print(\n",
        "    f\"Precision(macro) is {precision_score(y_test_modified, y_pred, average='macro')}\"\n",
        ")\n",
        "print(\n",
        "    f\"Precision(micro) is {precision_score(y_test_modified, y_pred, average='micro')}\"\n",
        ")\n",
        "print(f\"F1(macro) is {f1_score(y_test_modified, y_pred, average='macro')}\")\n",
        "print(f\"F1(micro) is {f1_score(y_test_modified, y_pred, average='micro')}\")"
      ]
    },
    {
      "cell_type": "markdown",
      "metadata": {
        "id": "WtGxBvRV-Mac"
      },
      "source": [
        "<div dir=\"rtl\">\n",
        "<font face=\"XB Zar\" size=4>\n",
        "در بخش پایین roc curve مربوط به این دسته‌بندی non-binary را به دست آورده و به صورت مختصر تحلیل کنید.\n",
        "</div>\n",
        "</font>"
      ]
    },
    {
      "cell_type": "code",
      "execution_count": null,
      "metadata": {
        "id": "351tdn6n-Mac",
        "outputId": "03ef4804-ec21-42df-8660-715165ac6e77"
      },
      "outputs": [
        {
          "ename": "TypeError",
          "evalue": "list indices must be integers or slices, not tuple",
          "output_type": "error",
          "traceback": [
            "\u001b[0;31m---------------------------------------------------------------------------\u001b[0m",
            "\u001b[0;31mTypeError\u001b[0m                                 Traceback (most recent call last)",
            "Cell \u001b[0;32mIn[20], line 17\u001b[0m\n\u001b[1;32m     15\u001b[0m roc_auc \u001b[39m=\u001b[39m {}\n\u001b[1;32m     16\u001b[0m \u001b[39mfor\u001b[39;00m i \u001b[39min\u001b[39;00m \u001b[39mrange\u001b[39m(\u001b[39mlen\u001b[39m(nb\u001b[39m.\u001b[39mlabels)):\n\u001b[0;32m---> 17\u001b[0m     fpr[i], tpr[i], _ \u001b[39m=\u001b[39m roc_curve(y_test_binarized[:, i], nb\u001b[39m.\u001b[39;49mpredictions[:, i])\n\u001b[1;32m     18\u001b[0m     roc_auc[i] \u001b[39m=\u001b[39m roc_auc_score(y_test_binarized[:, i], nb\u001b[39m.\u001b[39mpredictions[:, i])\n\u001b[1;32m     20\u001b[0m \u001b[39m# Plot all ROC curves\u001b[39;00m\n",
            "\u001b[0;31mTypeError\u001b[0m: list indices must be integers or slices, not tuple"
          ]
        }
      ],
      "source": [
        "from sklearn.metrics import roc_curve, roc_auc_score\n",
        "import matplotlib.pyplot as plt\n",
        "\n",
        "# binarize the labels (for one vs all roc curve)\n",
        "from sklearn.preprocessing import label_binarize\n",
        "\n",
        "y_test_binarized = label_binarize(y_test_modified, classes=nb.labels)\n",
        "\n",
        "# TODO\n",
        "# calculate the roc curve for each class\n",
        "# then plot the roc curve for each class\n",
        "# finally calculate the auc score\n",
        "fpr = {}\n",
        "tpr = {}\n",
        "roc_auc = {}\n",
        "for i in range(len(nb.labels)):\n",
        "    fpr[i], tpr[i], _ = roc_curve(y_test_binarized[:, i], nb.predictions[:, i])\n",
        "    roc_auc[i] = roc_auc_score(y_test_binarized[:, i], nb.predictions[:, i])\n",
        "\n",
        "# Plot all ROC curves\n",
        "plt.figure()\n",
        "for i in range(len(nb.labels)):\n",
        "    plt.plot(\n",
        "        fpr[i], tpr[i], label=f\"ROC curve of class {nb.labels[i]} (area = {roc_auc[i]})\"\n",
        "    )\n",
        "plt.plot([0, 1], [0, 1], \"k--\")\n",
        "plt.xlim([0.0, 1.05])\n",
        "plt.ylim([0.0, 1.05])\n",
        "plt.xlabel(\"False Positive Rate\")\n",
        "plt.ylabel(\"True Positive Rate\")\n",
        "plt.title(\"ROC curve for each class\")\n",
        "plt.legend(loc=\"lower right\")\n",
        "plt.show()"
      ]
    },
    {
      "cell_type": "markdown",
      "metadata": {
        "id": "Hu5BbAyZ-Mac"
      },
      "source": [
        "_Explanation_:\n",
        "..."
      ]
    },
    {
      "cell_type": "markdown",
      "metadata": {
        "id": "HDt08gW6-Mad"
      },
      "source": [
        "<div dir=\"rtl\">\n",
        "<font face=\"XB Zar\" size=4>\n",
        "در این بخش confusion matrix را بدون استفاده از sklearn و به کمک matplotlib و seaborn بکشید.\n",
        "</font>\n",
        "</div>"
      ]
    },
    {
      "cell_type": "code",
      "execution_count": null,
      "metadata": {
        "id": "eMW0glFQ-Mad",
        "outputId": "360c5d1a-f7ec-4d25-a519-5450b115e02b"
      },
      "outputs": [
        {
          "data": {
            "image/png": "[encoded data removed]",
            "text/plain": [
              "<Figure size 1000x800 with 2 Axes>"
            ]
          },
          "metadata": {},
          "output_type": "display_data"
        }
      ],
      "source": [
        "import matplotlib.pyplot as plt\n",
        "import seaborn as sns\n",
        "\n",
        "# TODO confusion matrix without importing confusion_matrix from sklearn.metrics\n",
        "\n",
        "\n",
        "def create_confusion_matrix(y_test, y_pred, labels):\n",
        "    \"\"\"\n",
        "    Parameters\n",
        "    ----------\n",
        "    y_test: np.ndarray\n",
        "        The real class label for each doc\n",
        "\n",
        "    y_pred: np.ndarray\n",
        "        The predicted class label for each doc\n",
        "\n",
        "    labels: np.ndarray\n",
        "        The unique class labels\n",
        "\n",
        "    Returns\n",
        "    -------\n",
        "    np.ndarray\n",
        "        The confusion matrix\n",
        "    \"\"\"\n",
        "    confusion_matrix = np.zeros((len(labels), len(labels)))\n",
        "    for i in range(len(y_test)):\n",
        "        confusion_matrix[\n",
        "            np.where(labels == y_test[i]), np.where(labels == y_pred[i])\n",
        "        ] += 1\n",
        "    return confusion_matrix\n",
        "\n",
        "\n",
        "confusion_matrix = create_confusion_matrix(y_test_modified, y_pred, nb.labels)\n",
        "plt.figure(figsize=(10, 8))\n",
        "sns.heatmap(\n",
        "    confusion_matrix,\n",
        "    annot=True,\n",
        "    cmap=\"Reds\",\n",
        "    xticklabels=nb.labels,\n",
        "    yticklabels=nb.labels,\n",
        ")\n",
        "plt.xlabel(\"Predicted\")\n",
        "plt.ylabel(\"Actual\")\n",
        "plt.title(\"Confusion Matrix\")\n",
        "plt.show()"
      ]
    },
    {
      "cell_type": "markdown",
      "metadata": {
        "id": "HeomKKcx-Mad"
      },
      "source": [
        "<div dir=\"rtl\">\n",
        "<font face=\"XB Zar\" size=5>\n",
        "    <h1>\n",
        "    <b>دسته بندی با شبکه های عصبی (۳۲ نمره)</b>\n",
        "    </h1>\n",
        "    <p></p>\n",
        "    <p></p>\n",
        "</font>\n",
        "<font face=\"XB Zar\" size=3>\n",
        "     <br>\n",
        "    شما یک مجموعه داده از مقالات علمی دارید، هرکدام با یک چکیده و موضوع مربوطه نشان داده شده است. هدف ساختن یک مدل شبکه عصبی است که بتواند بر اساس چکیده مقاله علمی و عنوان آن، موضوع آن را پیش بینی کند.\n",
        "</font>\n",
        "</div>\n",
        "   "
      ]
    },
    {
      "cell_type": "markdown",
      "metadata": {
        "id": "zeB2UmD9-Mad"
      },
      "source": [
        "<div dir=\"rtl\">\n",
        "<font face=\"XB Zar\" size=5>\n",
        "    <h2>\n",
        "    <b>داده ها</b>\n",
        "    </h2>\n",
        "    <p></p>\n",
        "    <p></p>\n",
        "</font>\n",
        "<font face=\"XB Zar\" size=3>\n",
        "     <br>\n",
        "    داده‌ای که با آن در این بخش کار می‌کنید چند برچسبی می‌باشند. اما برای این بخش ما تنها برچسب اول از هر مقاله را در نظر می‌گیریم و به صورت تک برچسبی به داده‌ها نگاه می‌کنیم.\n",
        "</font>\n",
        "</div>\n",
        "   "
      ]
    },
    {
      "cell_type": "markdown",
      "metadata": {
        "id": "CxYCvklh-Mad"
      },
      "source": [
        "## Requirements"
      ]
    },
    {
      "cell_type": "code",
      "execution_count": null,
      "metadata": {
        "id": "vSp1k5-S-Mad"
      },
      "outputs": [],
      "source": [
        "# You may not use all of these imports, but they are here to help you get started\n",
        "# you can add cells if you needed\n",
        "\n",
        "import nltk\n",
        "import numpy as np\n",
        "import pandas as pd\n",
        "from tqdm import tqdm\n",
        "from nltk import word_tokenize\n",
        "import string\n",
        "from sklearn.model_selection import train_test_split\n",
        "import torch\n",
        "from sklearn.metrics import precision_recall_fscore_support\n",
        "from sklearn.metrics import f1_score\n",
        "from sklearn.metrics import accuracy_score\n",
        "from sklearn.metrics import confusion_matrix\n",
        "import fasttext\n",
        "import os\n",
        "import matplotlib.pyplot as plt\n",
        "from sklearn.feature_extraction.text import TfidfVectorizer\n",
        "\n",
        "import torch\n",
        "from torch import nn\n",
        "from torch.utils.data import Dataset, DataLoader\n",
        "from time import time\n",
        "from IPython.display import display"
      ]
    },
    {
      "cell_type": "markdown",
      "metadata": {
        "id": "BY7Qez2k-Mad"
      },
      "source": [
        "## Read and preprocess data"
      ]
    },
    {
      "cell_type": "markdown",
      "metadata": {
        "id": "EEk7F-En-Mad"
      },
      "source": [
        "\n",
        "<div dir=\"rtl\">\n",
        "<font face=\"XB Zar\" size=5>\n",
        "</font>\n",
        "<font face=\"XB Zar\" size=3>\n",
        "     <br>\n",
        "در ابتدا دیتا را لود کنید. آن را تمیز کنید یا به عبارتی EDA مناسب در حدی که داده‌های null یا موارد این‌چنینی نداشته باشیم، بر روی آن انجام دهید.\n",
        " پیش پردازش‌های مورد نیاز که در فاز قبل با آن آشنا شدید را روی داده انجام دهید.\n",
        "    برای کتگوری هر مقاله برچسب اول آن را از دیتاست در نظر بگیرید.\n",
        "</font>\n",
        "</div>"
      ]
    },
    {
      "cell_type": "code",
      "execution_count": 74,
      "metadata": {
        "id": "JjMq2Rds-Mae"
      },
      "outputs": [],
      "source": [
        "# read data\n",
        "df = pd.read_csv(\"./arxiv_data.csv\")"
      ]
    },
    {
      "cell_type": "code",
      "execution_count": 75,
      "metadata": {
        "id": "Z43v6JZM-Mae"
      },
      "outputs": [],
      "source": [
        "df[\"terms\"] = df[\"terms\"].apply(lambda x: x[1:-1].split(\", \"))"
      ]
    },
    {
      "cell_type": "code",
      "execution_count": 78,
      "metadata": {
        "colab": {
          "base_uri": "https://localhost:8080/"
        },
        "id": "8cKEyc6K-Mae",
        "outputId": "b0640cf0-63cf-4808-cd1d-d78e3feea6d6"
      },
      "outputs": [
        {
          "output_type": "execute_result",
          "data": {
            "text/plain": [
              "['an', 'abstract', 'is', 'a', 'summari', 'of', 'the', 'main', 'articl']"
            ]
          },
          "metadata": {},
          "execution_count": 78
        }
      ],
      "source": [
        "def clean_data(text : str):\n",
        "    \"\"\"Preprocesses the text with tokenization, case folding, stemming and lemmatization, and punctuations\n",
        "\n",
        "    Parameters\n",
        "    ----------\n",
        "    text : str\n",
        "        The title or abstract of an article\n",
        "\n",
        "    Returns\n",
        "    -------\n",
        "    list\n",
        "        A list of tokens\n",
        "    \"\"\"\n",
        "\n",
        "    # TODO: tokenize, case_folding, stem, lemmatize, punctuations\n",
        "    tokenized = nltk.word_tokenize(text)\n",
        "    case_folded = [word.lower() for word in tokenized]\n",
        "    stemmer = nltk.stem.PorterStemmer()\n",
        "    stemmed = [stemmer.stem(word) for word in case_folded]\n",
        "    lemmatizer = nltk.stem.WordNetLemmatizer()\n",
        "    lemmatized = [lemmatizer.lemmatize(word) for word in stemmed]\n",
        "    punctuations = [word for word in lemmatized if word.isalpha()]\n",
        "    return punctuations\n",
        "\n",
        "clean_data(\"An abstract is a summary of the main article.\") # return [\"an\", \"abstract\", \"is\", \"a\", \"summary\", \"of\", \"the\", \"main\", \"article\"]"
      ]
    },
    {
      "cell_type": "code",
      "execution_count": 79,
      "metadata": {
        "colab": {
          "base_uri": "https://localhost:8080/"
        },
        "id": "0t8_RzUT-Mae",
        "outputId": "1d62cbf4-b226-4aef-f725-218316e74469"
      },
      "outputs": [
        {
          "output_type": "stream",
          "name": "stdout",
          "text": [
            "[('the', 3), ('is', 2), ('world', 2), ('an', 1), ('abstract', 1), ('a', 1), ('summary', 1), ('of', 1), ('main', 1), ('article', 1), ('hello', 1), ('most', 1), ('common', 1), ('phrase', 1), ('in', 1)]\n"
          ]
        },
        {
          "output_type": "execute_result",
          "data": {
            "text/plain": [
              "[('the', 3),\n",
              " ('is', 2),\n",
              " ('world', 2),\n",
              " ('an', 1),\n",
              " ('abstract', 1),\n",
              " ('a', 1),\n",
              " ('summary', 1),\n",
              " ('of', 1),\n",
              " ('main', 1),\n",
              " ('article', 1),\n",
              " ('hello', 1),\n",
              " ('most', 1),\n",
              " ('common', 1),\n",
              " ('phrase', 1),\n",
              " ('in', 1)]"
            ]
          },
          "metadata": {},
          "execution_count": 79
        }
      ],
      "source": [
        "## 2 points\n",
        "\n",
        "def find_stop_words(all_text : list[str], num_token=30):\n",
        "    \"\"\"Detects stop-words\n",
        "\n",
        "     Parameters\n",
        "    ----------\n",
        "    all_text : list of all tokens\n",
        "        (result of clean_data(text) for all the text)\n",
        "\n",
        "    Returns\n",
        "    -------\n",
        "    Return Value is optional but must print the stop words and number of their occurence\n",
        "    \"\"\"\n",
        "\n",
        "    # TODO: find num_token top most repetitive terms and report them\n",
        "    freq_dist = nltk.FreqDist()\n",
        "    for text in all_text:\n",
        "        for word in text:\n",
        "            freq_dist[word] += 1\n",
        "    \n",
        "    most_commons = freq_dist.most_common(num_token)\n",
        "    print(most_commons)\n",
        "\n",
        "    return most_commons\n",
        "    \n",
        "test = [\n",
        "    [\"an\", \"abstract\", \"is\", \"a\", \"summary\", \"of\", \"the\", \"main\", \"article\"],\n",
        "    [\"hello\", \"world\", \"is\", \"the\", \"most\", \"common\", \"phrase\", \"in\", \"the\", \"world\"],\n",
        "]\n",
        "\n",
        "find_stop_words(test)"
      ]
    },
    {
      "cell_type": "code",
      "execution_count": 80,
      "metadata": {
        "id": "79PadUO1-Mae"
      },
      "outputs": [],
      "source": [
        "# perform data cleaning and eda (you can add cells here)\n",
        "# todo\n",
        "\n",
        "df[\"titles\"] = df[\"titles\"].fillna(\"\")\n",
        "df[\"summaries\"] = df[\"summaries\"].fillna(\"\")\n",
        "\n",
        "original_df = df.copy()"
      ]
    },
    {
      "cell_type": "code",
      "execution_count": 81,
      "metadata": {
        "id": "RM4wEqMN-Maf"
      },
      "outputs": [],
      "source": [
        "def preprocess_text(\n",
        "    text,\n",
        "    minimum_length=1,\n",
        "    stopword_removal=True,\n",
        "    stopwords_domain=[],\n",
        "    lower_case=True,\n",
        "    punctuation_removal=True,\n",
        "):\n",
        "    \"\"\"\n",
        "    preprocess text by removing stopwords, punctuations, and converting to lowercase, and also filter based on a min length\n",
        "    for stopwords use nltk.corpus.stopwords.words('english')\n",
        "    for punctuations use string.punctuation\n",
        "\n",
        "    Parameters\n",
        "    ----------\n",
        "    text: str\n",
        "        text to be preprocessed\n",
        "    minimum_length: int\n",
        "        minimum length of the token\n",
        "    stopword_removal: bool\n",
        "        whether to remove stopwords\n",
        "    stopwords_domain: list\n",
        "        list of stopwords to be removed base on domain\n",
        "    lower_case: bool\n",
        "        whether to convert to lowercase\n",
        "    punctuation_removal: bool\n",
        "        whether to remove punctuations\n",
        "    \"\"\"\n",
        "    # todo\n",
        "    tokenized = nltk.word_tokenize(text)\n",
        "    if lower_case:\n",
        "        tokenized = [word.lower() for word in tokenized]\n",
        "    if stopword_removal:\n",
        "        stop_words = nltk.corpus.stopwords.words(\"english\")\n",
        "        tokenized = [word for word in tokenized if word not in stop_words]\n",
        "    if punctuation_removal:\n",
        "        tokenized = [word for word in tokenized if word not in string.punctuation]\n",
        "    if minimum_length:\n",
        "        tokenized = [word for word in tokenized if len(word) >= minimum_length]\n",
        "    return tokenized"
      ]
    },
    {
      "cell_type": "markdown",
      "metadata": {
        "id": "d0k75ypu-Maf"
      },
      "source": [
        "\n",
        "<div dir=\"rtl\">\n",
        "<font face=\"XB Zar\" size=5>\n",
        "</font>\n",
        "<font face=\"XB Zar\" size=3>\n",
        "     <br>\n",
        "\n",
        "</font>\n",
        "</div>"
      ]
    },
    {
      "cell_type": "code",
      "execution_count": 82,
      "metadata": {
        "id": "XqrxOlLO-Maf"
      },
      "outputs": [],
      "source": [
        "# preprocess text\n",
        "df[\"preprocessed_abstract\"] = df[\"summaries\"].apply(lambda x: preprocess_text(x))\n",
        "df[\"preprocessed_title\"] = df[\"titles\"].apply(lambda x: preprocess_text(x))\n",
        "preprocessed_total = df[\"preprocessed_abstract\"] + df[\"preprocessed_title\"]"
      ]
    },
    {
      "cell_type": "code",
      "execution_count": null,
      "metadata": {
        "colab": {
          "base_uri": "https://localhost:8080/"
        },
        "id": "IPQbjwYx-Maf",
        "outputId": "6dbf6d63-d2a9-4960-c73b-879c3c64e6b8"
      },
      "outputs": [
        {
          "output_type": "execute_result",
          "data": {
            "text/plain": [
              "['stereo', 'matching', 'one', 'widely', 'used']"
            ]
          },
          "metadata": {},
          "execution_count": 28
        }
      ],
      "source": [
        "preprocessed_total[0][:5]"
      ]
    },
    {
      "cell_type": "markdown",
      "metadata": {
        "id": "Nz14fEyn-Maf"
      },
      "source": [
        "## Vectorize data"
      ]
    },
    {
      "cell_type": "markdown",
      "metadata": {
        "id": "8dttgl28-Maf"
      },
      "source": [
        "\n",
        "<div dir=\"rtl\">\n",
        "<font face=\"XB Zar\" size=5>\n",
        "</font>\n",
        "<font face=\"XB Zar\" size=3>\n",
        "     <br>\n",
        "در این قسمت از fasttext کمک می‌گیریم تا به یک embedding اولیه برای هر مقاله برسیم.\n",
        "    با استفاده از داده‌هایی که داریم یک مدل fasttext آموزش دهید که برای هر توکن یک امبدینگ ۱۰۰تایی بدهد.\n",
        "    در مرحله‌ی بعد میانگین وزن دار امبدینگ های fasttext\n",
        "        توکن‌های ورودی (چکیده + عنوان)\n",
        "    را بر اساس tfidif آن‌ها محاسبه کنید و به امبدینگ نهایی متن برسید.\n",
        "    <br>\n",
        "    در واقع به عبارت ساده‌تر بر اساس میانگین وزن‌دار که وزن‌های ما tfidf توکن‌ها می‌باشد به امبدینگ نهایی متن بر اساس fasttext می‌رسیم.\n",
        "    </font>\n",
        "</div>"
      ]
    },
    {
      "cell_type": "code",
      "execution_count": null,
      "metadata": {
        "id": "MxrFi6B6-Maf"
      },
      "outputs": [],
      "source": [
        "class FastText:\n",
        "    def __init__(self, preprocessor=None, method=\"skipgram\"):\n",
        "        self.method = method\n",
        "        self.model = None\n",
        "        self.preprocessor = preprocessor\n",
        "\n",
        "    def train(self, texts):\n",
        "        \"\"\"\n",
        "        train the fasttext model and save it into self.model\n",
        "        Parameters\n",
        "        ----------\n",
        "        texts: list of list of str\n",
        "        \"\"\"\n",
        "        # todo\n",
        "        if self.preprocessor:\n",
        "            for text in texts:\n",
        "                text = [self.preprocessor(word) for word in text]\n",
        "            print(\"Preprocessing done!\")\n",
        "\n",
        "        print(\"Training model...\")\n",
        "        if self.method == \"skipgram\":\n",
        "            self.model = fasttext.train_unsupervised(texts, model=\"skipgram\")\n",
        "        elif self.method == \"cbow\":\n",
        "            self.model = fasttext.train_unsupervised(texts, model=\"cbow\")\n",
        "        else:\n",
        "            raise ValueError(\"Method must be either skipgram or cbow\")\n",
        "        print(\"Training done!\")\n",
        "\n",
        "    def get_word_embedding(self, word):\n",
        "        \"\"\"\n",
        "        get the embedding of a word\n",
        "        Parameters\n",
        "        ----------\n",
        "        word: str\n",
        "        Returns embedding of the word\n",
        "        \"\"\"\n",
        "        # todo\n",
        "        embedding = self.model.get_word_vector(word)\n",
        "        return embedding\n",
        "\n",
        "    def get_query_embedding(self, query, tf_idf_vectorizer):\n",
        "        \"\"\"\n",
        "        get the embedding of the query. You can use the tf_idf_vectorizer to get the weights of the words in the query. preprocess the query using self.preprocessor if it is not None\n",
        "        Parameters\n",
        "        ----------\n",
        "        query: str\n",
        "        tf_idf_vectorizer: TfidfVectorizer\n",
        "        Returns embedding of the query\n",
        "        \"\"\"\n",
        "        # todo\n",
        "        if self.preprocessor:\n",
        "            query = self.preprocessor(query)\n",
        "        query_embed = np.zeros((1, 100))\n",
        "        for word in query:\n",
        "            if word in tf_idf_vectorizer.vocabulary_:\n",
        "                word_embed = self.get_word_embedding(word)\n",
        "                word_weight = tf_idf_vectorizer.idf_[\n",
        "                    tf_idf_vectorizer.vocabulary_[word]\n",
        "                ]\n",
        "                query_embed += word_embed * word_weight\n",
        "        return query_embed\n",
        "\n",
        "    def save_FastText_model(self, path=\"FastText_model.bin\"):\n",
        "        self.model.save_model(path)\n",
        "\n",
        "    def load_FastText_model(self, path=\"FastText_model.bin\"):\n",
        "        self.model = fasttext.load_model(path)\n",
        "\n",
        "    def prepare(self, dataset, mode, save=False):\n",
        "        if mode == \"train\":\n",
        "            self.train(dataset)\n",
        "        if mode == \"load\":\n",
        "            self.load_FastText_model()\n",
        "        if save:\n",
        "            self.save_FastText_model()"
      ]
    },
    {
      "cell_type": "code",
      "execution_count": null,
      "metadata": {
        "id": "YZChpBql-Maf"
      },
      "outputs": [],
      "source": [
        "FastText_model = FastText(preprocessor=preprocess_text)"
      ]
    },
    {
      "cell_type": "code",
      "execution_count": null,
      "metadata": {
        "id": "I7P26ZRp-Mag"
      },
      "outputs": [],
      "source": [
        "# Save the pandas series to a txt file\n",
        "text_list = preprocessed_total.tolist()\n",
        "\n",
        "with open(\"preprocessed_total.txt\", \"w\") as f:\n",
        "    for item in text_list:\n",
        "        f.write(\" \".join(item) + \"\\n\")"
      ]
    },
    {
      "cell_type": "code",
      "execution_count": null,
      "metadata": {
        "id": "LnAHJ01b-Mag",
        "outputId": "267e2d02-063e-4895-dad5-9159af0bee86"
      },
      "outputs": [
        {
          "name": "stderr",
          "output_type": "stream",
          "text": [
            "Warning : `load_model` does not return WordVectorModel or SupervisedModel any more, but a `FastText` object which is very similar.\n"
          ]
        }
      ],
      "source": [
        "# FastText_model.prepare(\"./preprocessed_total.txt\", mode=\"train\", save=True)\n",
        "FastText_model.prepare(preprocessed_total, mode='load')"
      ]
    },
    {
      "cell_type": "code",
      "execution_count": null,
      "metadata": {
        "id": "eaX2yVY1-Mag",
        "outputId": "aa451572-3278-47ef-cfd0-8537a355289e"
      },
      "outputs": [
        {
          "data": {
            "text/plain": [
              "[(0.8873776793479919, 'covid-19'),\n",
              " (0.8581413626670837, 'covid19'),\n",
              " (0.8046349287033081, 'dr-covid'),\n",
              " (0.7988560795783997, 'pandemic'),\n",
              " (0.7684428691864014, 'pandemics'),\n",
              " (0.747352659702301, 'outbreak'),\n",
              " (0.7317118048667908, 'endemic'),\n",
              " (0.7267407774925232, 'outbreaks'),\n",
              " (0.7000961303710938, 'hypoxemia'),\n",
              " (0.6973095536231995, 'covid-related')]"
            ]
          },
          "execution_count": 15,
          "metadata": {},
          "output_type": "execute_result"
        }
      ],
      "source": [
        "text = \"covid\"\n",
        "\n",
        "FastText_model.model.get_nearest_neighbors(text)"
      ]
    },
    {
      "cell_type": "code",
      "execution_count": null,
      "metadata": {
        "id": "x--aw5zG-Mag"
      },
      "outputs": [],
      "source": [
        "class TF_IDF:\n",
        "    def __init__(self):\n",
        "        self.vectorizer = TfidfVectorizer()\n",
        "\n",
        "    def fit_vectorizer(self, data):\n",
        "        \"\"\"\n",
        "        fit the vectorizer on the data\n",
        "        Parameters\n",
        "        ----------\n",
        "        data: list of list of str\n",
        "        \"\"\"\n",
        "        # todo\n",
        "        flattened_data = [\" \".join(text) for text in data]\n",
        "        self.vectorizer.fit(flattened_data)\n",
        "        return self"
      ]
    },
    {
      "cell_type": "code",
      "execution_count": null,
      "metadata": {
        "id": "ePBMZKA3-Mag",
        "outputId": "2d40cf87-d943-4737-a948-62ce66d00da7"
      },
      "outputs": [
        {
          "data": {
            "text/plain": [
              "<__main__.TF_IDF at 0x2b0cf7dc0>"
            ]
          },
          "execution_count": 17,
          "metadata": {},
          "output_type": "execute_result"
        }
      ],
      "source": [
        "TF_IDF_model = TF_IDF()\n",
        "TF_IDF_model.fit_vectorizer(preprocessed_total)"
      ]
    },
    {
      "cell_type": "code",
      "execution_count": null,
      "metadata": {
        "id": "FQSA-7EH-Mag",
        "outputId": "855a1de4-184a-4475-b6f8-a2e2122678c4"
      },
      "outputs": [
        {
          "data": {
            "text/plain": [
              "array([[ 1.61460665, -1.65360045,  1.26062871,  0.08732843, -0.18338009,\n",
              "        -1.50571329, -0.67883593,  1.72764868,  2.60821217,  0.61810635,\n",
              "        -3.3838394 ,  1.27166542,  0.57148305,  0.73514611,  2.1740703 ,\n",
              "         0.17366932,  1.7059285 ,  1.24747679,  0.90337786,  3.79671943,\n",
              "        -2.70416868,  0.98618379,  0.41615663,  5.40333533,  1.13975252,\n",
              "        -1.67530316, -1.94843012,  3.55183524,  1.31366718,  0.85241711,\n",
              "        -1.48689598,  3.29364064, -1.22943958, -2.93269956, -2.36275935,\n",
              "        -2.41381866, -0.4318797 ,  6.05777764, -0.56127417, -2.50565684,\n",
              "        -2.51067221,  1.78529689,  4.72935292,  1.66308981, -0.07644829,\n",
              "        -4.83382249,  5.48113728,  2.67239267, -1.93812156,  3.46176714,\n",
              "         0.38868949, -3.84364295, -3.76700035, -0.86432794, -2.4627789 ,\n",
              "        -0.53371342,  2.73459846,  3.11285448,  2.92089325, -1.50960928,\n",
              "        -0.16807449,  1.65387893,  1.92404107,  2.52339655,  3.09710598,\n",
              "        -1.13881099,  3.87948191, -4.5551585 , -4.27111888, -3.87794393,\n",
              "        -0.13532898,  2.2946561 , -0.42682254, -1.14648288,  0.42657214,\n",
              "         2.88879395,  0.78848559,  3.14491129, -1.8172773 , -4.39310122,\n",
              "        -1.27060413, -1.38489008,  1.18821827, -1.51400387, -0.53371948,\n",
              "         2.78351605, -2.19602495,  0.64531988, -3.09978878, -2.11126302,\n",
              "        -2.03925538, -2.47112121,  2.76702464, -1.56302825,  0.97600783,\n",
              "         1.91921866, -1.13846816,  3.22438759,  4.08980632,  0.22490239]])"
            ]
          },
          "execution_count": 18,
          "metadata": {},
          "output_type": "execute_result"
        }
      ],
      "source": [
        "text = \"backpropagation is good\"\n",
        "TF_IDF_model.vectorizer.transform([\" \".join(text)])\n",
        "FastText_model.get_query_embedding(text, TF_IDF_model.vectorizer)"
      ]
    },
    {
      "cell_type": "markdown",
      "metadata": {
        "id": "WRXz_C_e-Mag"
      },
      "source": [
        "\n",
        "<div dir=\"rtl\">\n",
        "<font face=\"XB Zar\" size=5>\n",
        "</font>\n",
        "<font face=\"XB Zar\" size=3>\n",
        "     <br>\n",
        "حال به کمک مدلی که نوشته‌اید دیتای ورودی شبکه‌ی عصبی را بسازید.\n",
        "    به عبارتی به ازای هر مقاله embedding مربوطه را بدست آورید.\n",
        "    همچنین برچسب‌ها را نیز به عدد تبدیل کنید تا برای شبکه‌ی عصبی قابل فهم باشد.\n",
        "    </font>\n",
        "</div>"
      ]
    },
    {
      "cell_type": "code",
      "execution_count": null,
      "metadata": {
        "id": "wbRwLEQH-Mah"
      },
      "outputs": [],
      "source": [
        "# TODO\n",
        "\n",
        "from enum import Enum\n",
        "\n",
        "\n",
        "class LABELS(Enum):\n",
        "    \"\"\"\n",
        "    Enum class for labels\n",
        "    \"'cs.CV'\" \"'cs.LG'\" \"'stat.ML'\"\n",
        "    \"\"\"\n",
        "    CS_CV = 0\n",
        "    CS_LG = 1\n",
        "    STAT_ML = 2"
      ]
    },
    {
      "cell_type": "code",
      "execution_count": null,
      "metadata": {
        "id": "qyglpfzI-Mah",
        "outputId": "f639954b-0072-44f3-a97f-0c517cb0d244"
      },
      "outputs": [
        {
          "name": "stdout",
          "output_type": "stream",
          "text": [
            "Embeddings loaded!\n"
          ]
        }
      ],
      "source": [
        "loaded = False\n",
        "# if embeddings.npy exists, load it\n",
        "if os.path.exists(\"embeddings.npy\"):\n",
        "    embeddings = np.load(\"embeddings.npy\")\n",
        "    print(\"Embeddings loaded!\")\n",
        "    loaded = True"
      ]
    },
    {
      "cell_type": "code",
      "execution_count": null,
      "metadata": {
        "id": "Sx6ybgRs-Mah"
      },
      "outputs": [],
      "source": [
        "# Make the input data of NN ready using TF-IDF and FastText. It means foreach document, get respective embedding.\n",
        "\n",
        "# get the embedding of each document\n",
        "embeddings = []\n",
        "for text in tqdm(preprocessed_total):\n",
        "    text = \" \".join(text)\n",
        "    embedding = FastText_model.get_query_embedding(text, TF_IDF_model.vectorizer)\n",
        "    embeddings.append(embedding)\n",
        "\n",
        "# convert the list of embeddings to a numpy array\n",
        "embeddings = np.array(embeddings)"
      ]
    },
    {
      "cell_type": "code",
      "execution_count": null,
      "metadata": {
        "id": "Ye4RtfBh-Mah",
        "outputId": "960e5a96-6ba5-41f3-9bd8-fc0678789f4b"
      },
      "outputs": [
        {
          "data": {
            "text/plain": [
              "array([[[ 8.78551499e+01, -1.06131185e+02,  3.02712650e+01,\n",
              "          6.02960014e+01,  1.11076447e+02, -6.70212874e+01,\n",
              "         -1.60198979e+02, -5.41515973e+01,  8.81388549e+01,\n",
              "         -5.88270506e+01, -7.06074292e+00,  6.51722346e+01,\n",
              "          5.02895832e+01, -6.59125542e+01,  6.47233428e+01,\n",
              "         -3.52074872e+01,  4.90375966e+01,  1.92551380e+01,\n",
              "         -4.37161680e+01,  1.66898828e+02,  2.26485435e+01,\n",
              "          4.59685988e+01, -3.26242339e+01,  4.15716421e+01,\n",
              "         -7.08530312e+01,  2.49264485e+00, -1.09773633e+02,\n",
              "          6.03044928e+01, -3.99790597e+01, -5.92568052e+01,\n",
              "         -4.29243384e+01,  7.67956939e+01,  3.76797888e+00,\n",
              "         -6.62259360e+01, -3.87901779e+01, -1.06926248e+01,\n",
              "         -2.71896294e+01,  8.45528371e+01, -9.83527103e+01,\n",
              "          1.87017189e+01,  2.13847090e+01,  2.50679177e+01,\n",
              "         -2.31809441e+00,  9.58921893e+01, -4.63897166e-01,\n",
              "         -7.92668325e+00,  4.38404940e+01, -3.94593304e+01,\n",
              "         -3.04534141e+01,  2.23607283e+01, -2.91391825e+01,\n",
              "         -3.72288846e+01, -3.15362563e+01, -4.88176177e+01,\n",
              "         -4.85604714e+01,  2.43416844e+01,  1.20402823e+02,\n",
              "         -1.45686434e+01,  1.76886648e+01,  1.63400160e+01,\n",
              "         -3.42080378e+01,  7.94163973e+01, -3.75796766e+01,\n",
              "          1.08898057e+02,  1.66283263e+02, -2.59258744e+01,\n",
              "          6.44269190e+00, -8.67669002e+01, -1.61410237e+01,\n",
              "         -5.59418388e+01, -3.41868479e+01, -1.99645589e+01,\n",
              "         -1.34263225e+00, -9.89072037e+01, -5.60764358e+01,\n",
              "         -2.42913433e+01, -1.77384995e+01,  3.58112747e+01,\n",
              "          3.68507239e+01,  1.30436930e+01,  4.16822855e+01,\n",
              "         -4.29322828e-01, -5.70528430e+01,  1.62039295e+00,\n",
              "         -1.34639060e+01, -4.43536521e+01, -2.45240379e+01,\n",
              "          6.44352934e+01, -7.58122180e+00, -3.39754438e+01,\n",
              "          4.29493680e+01, -4.34650322e+01,  1.01950557e+02,\n",
              "         -9.48300081e+01,  2.61307130e+01, -1.15607073e+00,\n",
              "         -1.00405551e+02, -7.42444546e+01,  6.39376732e+01,\n",
              "         -1.98095878e+01]],\n",
              "\n",
              "       [[ 6.09974595e+01, -1.48566627e+02,  1.34896539e+02,\n",
              "          7.21896574e+01,  9.47809696e+01, -7.26723109e+01,\n",
              "         -2.18555412e+02,  3.30172171e+01,  2.63872001e+02,\n",
              "          2.84718977e+01,  7.77873700e+01,  7.47469907e+01,\n",
              "          4.99066594e+01, -2.28562017e+01,  1.43651144e+02,\n",
              "         -4.34891018e+01,  1.00452553e+02,  6.31603625e+01,\n",
              "          4.20075733e+00,  3.31383444e+02, -2.49115234e+01,\n",
              "         -1.08769354e+01, -1.46158411e+01,  1.44747687e+02,\n",
              "         -1.66643636e+02,  3.00790064e+01, -1.05222890e+02,\n",
              "          1.37733584e+02, -5.89175388e+00, -8.60647158e+01,\n",
              "         -3.36742343e+01,  2.30866767e+02,  4.43929682e+01,\n",
              "         -1.13871105e+02, -5.14800497e+01,  1.08701975e+02,\n",
              "         -1.01353573e+02,  1.70370885e+02, -6.86751082e+01,\n",
              "          6.84351683e+01,  1.20599923e+00,  2.17599937e+02,\n",
              "         -1.05858422e+02,  1.27244884e+02,  5.85581915e+01,\n",
              "         -5.04883260e+01,  3.66871190e+01, -8.49749045e+01,\n",
              "         -1.13936428e+02,  1.22478883e+02, -7.19540121e+01,\n",
              "         -4.62831599e+01, -3.27016191e+02, -3.04818011e+02,\n",
              "         -7.70763068e+01, -6.35092044e+01,  3.78784786e+02,\n",
              "          7.68667014e+01,  3.73401622e+01,  1.59027147e+01,\n",
              "         -9.59307284e+01,  1.09029232e+02, -8.78562413e+01,\n",
              "          2.07385117e+02,  2.31224463e+02, -8.78148010e+01,\n",
              "          9.40186058e+00, -1.30811941e+02,  1.09353722e+02,\n",
              "         -1.08383902e+02, -2.62524770e+01, -8.90178239e-01,\n",
              "          1.82257987e+02, -1.64142134e+02, -7.37799780e+01,\n",
              "          1.55498421e+01, -1.10963460e+02, -1.12959309e+01,\n",
              "          2.08745620e+02,  1.55917680e+02, -5.18692246e+01,\n",
              "          1.60864208e+02, -2.10875471e+02, -1.99296729e+02,\n",
              "         -1.20105738e+02,  6.99933505e+01, -1.56547514e+02,\n",
              "          1.66142333e+02,  4.95714055e+01, -1.20102046e+02,\n",
              "         -1.33792712e+01, -1.66524753e+02,  2.37908138e+02,\n",
              "         -3.06600473e+02,  5.85929568e+01, -2.03130622e+01,\n",
              "         -3.42782210e+02, -2.39408274e+02,  1.50172520e+02,\n",
              "         -7.09200086e+01]],\n",
              "\n",
              "       [[ 2.51774519e+01, -1.88896983e+02,  5.32955316e+01,\n",
              "          5.97367856e+01,  9.14965183e+01, -1.05810194e+02,\n",
              "         -2.14764710e+02, -6.54912032e+01,  3.07222445e+02,\n",
              "         -3.97537708e+01,  3.98238943e+01,  1.16317643e+02,\n",
              "          6.31278581e+01, -1.07717245e+02,  9.29020359e+01,\n",
              "          6.57100712e+00,  2.45398046e-01,  1.34185155e+00,\n",
              "          2.62467762e+01,  2.26499497e+02,  6.61350485e+01,\n",
              "          3.05476960e+01,  3.34616755e+01,  1.33314564e+02,\n",
              "         -8.66648705e+01,  3.51849870e+01, -6.59720762e+01,\n",
              "          8.12366722e+01,  2.08283814e+01, -1.53440410e+01,\n",
              "         -3.70769368e+01,  7.49636060e+01, -4.11824925e+01,\n",
              "         -1.13706472e+02, -3.54774757e+01, -2.10903540e+01,\n",
              "         -3.41461827e+01,  1.16627554e+02, -6.07145600e+01,\n",
              "         -2.36765570e+01, -8.41059720e+01,  4.70212684e+01,\n",
              "          6.90306719e+01,  2.49391510e+02, -4.46233704e+01,\n",
              "         -1.29434689e+01,  3.28775287e+01, -8.83580658e+01,\n",
              "         -8.04297520e+01,  7.25242762e+01, -3.30728075e+01,\n",
              "         -1.21381178e+02, -1.06572281e+02, -1.48912535e+02,\n",
              "         -1.27141799e+01,  5.95223030e+01,  1.78636443e+02,\n",
              "         -4.04681008e+00, -1.54664678e+01,  3.54789751e+01,\n",
              "         -5.38786935e+01,  8.20089940e+01, -5.30411604e+01,\n",
              "          9.16102058e+01,  1.94945655e+02, -9.40220405e+01,\n",
              "          1.51392073e+01, -5.97676350e+01, -1.64891712e+01,\n",
              "         -8.43988832e+01, -5.74670756e+01, -3.56330290e+01,\n",
              "         -5.22218983e+01, -3.99185735e+01, -2.95092070e+01,\n",
              "         -3.55032141e+01, -2.63620704e+01,  3.95945876e+01,\n",
              "          4.73553046e+01,  6.77109303e+01,  2.92583900e+01,\n",
              "          9.88362408e+00, -4.16117593e+01, -5.24688107e+01,\n",
              "         -5.52905476e+01, -6.46249697e+01, -4.20809458e+01,\n",
              "          7.01381261e+01, -2.50921595e+01,  4.77002107e+01,\n",
              "         -1.94622035e+01, -5.90058842e+01,  1.30866544e+02,\n",
              "         -1.53333462e+02,  2.33265480e+01, -2.22846738e+01,\n",
              "         -1.54541324e+02, -1.10644330e+02,  5.55775741e+01,\n",
              "         -8.48641906e+00]],\n",
              "\n",
              "       [[ 5.46725972e+01, -1.63563433e+02, -3.36490462e+00,\n",
              "          1.79769600e+01,  1.40218166e+02, -1.12715808e+02,\n",
              "         -1.75769731e+02, -6.65430417e+01,  2.56171696e+02,\n",
              "         -1.07630322e+01,  5.06350114e+01,  1.09139534e+02,\n",
              "          6.36066298e+01, -1.05745392e+02,  7.81038041e+01,\n",
              "          2.66226743e+01,  9.37158977e+00, -8.39180269e+00,\n",
              "         -9.00015280e+00,  2.47068862e+02,  3.73575056e+01,\n",
              "         -1.85553571e+01,  7.02046687e+01,  1.23690720e+02,\n",
              "         -7.81181306e+01,  3.49930517e+01, -7.26415763e+01,\n",
              "          1.12555710e+02,  8.21086821e+00,  2.82144116e+01,\n",
              "         -5.19105393e+00,  7.64936835e+01, -6.33269522e+01,\n",
              "         -1.47019877e+02, -3.30442112e+01, -3.84277327e+01,\n",
              "         -3.44861765e+01,  6.70182000e+01, -6.52009359e+01,\n",
              "         -1.23250887e+01, -8.94290824e+01,  5.48403847e+01,\n",
              "          5.72739680e+01,  2.10124178e+02, -7.60190066e+00,\n",
              "         -4.32749575e+01, -1.75785077e+00, -9.28093489e+01,\n",
              "         -3.78750542e+01,  6.26639066e+01,  1.30204513e+01,\n",
              "         -1.20168174e+02, -8.01192172e+01, -1.33313902e+02,\n",
              "         -6.17539044e+00,  4.49862833e+00,  1.60582787e+02,\n",
              "          1.48542569e+01, -1.20855220e+01, -1.00463972e+00,\n",
              "         -6.08939052e+01,  6.32549846e+01, -6.53603669e+01,\n",
              "          1.42150952e+02,  1.80943127e+02, -6.05556826e+01,\n",
              "         -4.07271176e+00, -6.27780923e+01, -2.32815195e+01,\n",
              "         -7.14677164e+01, -2.63555281e+00, -2.44305313e+01,\n",
              "         -3.37469028e+01, -8.41343074e+01, -2.21009251e+01,\n",
              "         -4.29507998e+01, -1.24272117e+01,  3.48617619e+01,\n",
              "          1.71119684e+01,  1.97635861e+01,  4.79842898e+01,\n",
              "         -1.40744476e+01, -3.89028156e+01, -8.72012381e+01,\n",
              "         -4.62321595e+01, -3.99041651e+01, -6.36519780e+01,\n",
              "          7.43416788e+01, -2.52210659e+01,  6.14417442e+01,\n",
              "          7.75954718e+00, -7.00031779e+01,  1.03859703e+02,\n",
              "         -9.78582002e+01, -1.67739610e+01, -2.29370464e+01,\n",
              "         -1.59554185e+02, -7.34920272e+01,  4.17917521e+01,\n",
              "         -2.78852309e+01]],\n",
              "\n",
              "       [[ 1.31193467e+02, -2.78318047e+02,  3.78103913e+01,\n",
              "          1.22897799e+02,  1.89724792e+02, -1.68227269e+02,\n",
              "         -2.58747069e+02, -4.66962675e+00,  2.23569091e+02,\n",
              "         -1.30486352e+02,  4.96972131e+01,  1.36018731e+02,\n",
              "          1.21747448e+02, -1.30348006e+02,  8.34130495e+01,\n",
              "         -7.38542856e+00,  3.27405652e+01,  1.44026329e+02,\n",
              "          1.48884216e+01,  3.29908338e+02, -9.51262183e-01,\n",
              "          3.86297860e+01,  6.58458866e+01,  2.61981184e+02,\n",
              "         -1.32722070e+02,  1.78257662e+01, -2.01103201e+02,\n",
              "          1.61420665e+02, -2.50801410e+01, -7.24300387e+01,\n",
              "         -2.00482794e+02,  1.54898096e+02, -1.04725024e+01,\n",
              "         -1.60735521e+02, -1.46915349e+02, -1.91561544e+01,\n",
              "         -3.51486953e+01,  2.37395067e+02, -1.10385908e+02,\n",
              "         -2.25870830e+01, -2.46066091e+00,  3.42050992e+01,\n",
              "          3.52035951e+00,  2.02461420e+02,  3.41254162e+01,\n",
              "         -8.60028423e+01,  8.44824786e+01, -1.35848843e+02,\n",
              "         -7.95895418e+01,  1.30267663e+01, -8.91262633e+01,\n",
              "         -1.04364753e+02, -1.10124327e+02, -1.89283344e+02,\n",
              "         -5.18431809e+01,  5.67932470e+00,  2.39225578e+02,\n",
              "          1.80006490e+01,  5.43559343e+00,  4.55674336e+01,\n",
              "         -8.31314334e+01,  3.95358345e+01, -1.28192369e+02,\n",
              "          9.56425569e+01,  2.01711495e+02, -2.71155824e+01,\n",
              "         -2.32184911e+01, -1.21393489e+02,  5.01707156e+01,\n",
              "         -1.00075231e+02, -9.66520367e+01, -3.54461991e+01,\n",
              "          6.45359373e+00, -3.34849315e+01, -8.23205431e+01,\n",
              "         -3.57728874e+01, -1.98534108e+01, -3.02697330e+01,\n",
              "          9.41697359e+01,  1.30327096e+02,  4.89375195e+01,\n",
              "          8.11527458e+01, -8.32228958e+01, -4.48648513e+01,\n",
              "         -7.15283705e+01, -4.84457982e+00, -7.54766263e+01,\n",
              "          9.52648355e+01,  2.75195797e+01, -1.29159836e+01,\n",
              "         -2.05770413e+01, -9.40925925e+01,  1.47167799e+02,\n",
              "         -1.96495027e+02,  3.03634003e+01, -3.48333769e+01,\n",
              "         -2.77558431e+02, -9.83914801e+01,  6.33513508e+01,\n",
              "         -2.37696537e+01]]])"
            ]
          },
          "execution_count": 23,
          "metadata": {},
          "output_type": "execute_result"
        }
      ],
      "source": [
        "embeddings[:5]"
      ]
    },
    {
      "cell_type": "code",
      "execution_count": 87,
      "metadata": {
        "id": "bHu3AavD-Mah"
      },
      "outputs": [],
      "source": [
        "y = df[\"terms\"].values\n",
        "y_modified = np.copy(y)\n",
        "\n",
        "\n",
        "# If y label is a list, set the label to the first element\n",
        "for i in range(len(y_modified)):\n",
        "    if type(y_modified[i]) == list:\n",
        "        y_modified[i] = y_modified[i][0]\n",
        "\n",
        "# Convert the labels to numbers\n",
        "labels = []\n",
        "for label in y_modified:\n",
        "    if label == \"'cs.CV'\":\n",
        "        labels.append(LABELS.CS_CV.value)\n",
        "    elif label == \"'cs.LG'\":\n",
        "        labels.append(LABELS.CS_LG.value)\n",
        "    elif label == \"'stat.ML'\":\n",
        "        labels.append(LABELS.STAT_ML.value)\n",
        "    else:\n",
        "        raise ValueError(\"Label is not valid\")\n",
        "\n",
        "labels = torch.tensor(labels)"
      ]
    },
    {
      "cell_type": "code",
      "execution_count": null,
      "metadata": {
        "id": "DigJN58M-Mah"
      },
      "outputs": [],
      "source": [
        "# save the embeddings to a file\n",
        "if not loaded:\n",
        "    np.save(\"embeddings.npy\", embeddings)\n",
        "    print(\"Embeddings saved!\")"
      ]
    },
    {
      "cell_type": "markdown",
      "metadata": {
        "id": "L1QSy1cg-Mah"
      },
      "source": [
        "## Prepare data for model"
      ]
    },
    {
      "cell_type": "markdown",
      "metadata": {
        "id": "FMXMVCNw-Mai"
      },
      "source": [
        "\n",
        "<div dir=\"rtl\">\n",
        "<font face=\"XB Zar\" size=5>\n",
        "</font>\n",
        "<font face=\"XB Zar\" size=3>\n",
        "     <br>\n",
        "     در این قسمت dataset ورودی شبکه‌ی عصبی را بسازید.\n",
        "     همچنین دیتا‌ را به قسمت‌های train test validation تقسیم کنید.\n",
        "     80% داده برای آموزش\n",
        "     10% را برای  validation\n",
        "     و 10% را برای تست در نظر بگیرید.\n",
        "     در نهایت dataloaderهای مربوطه را بسازید.\n",
        "    </font>\n",
        "</div>"
      ]
    },
    {
      "cell_type": "code",
      "execution_count": 89,
      "metadata": {
        "id": "FtOr8GXC-Mai"
      },
      "outputs": [],
      "source": [
        "class PapersDataSet(Dataset):\n",
        "    def __init__(self, embeddings: list, labels: list):\n",
        "        # todo\n",
        "        self.embeddings = embeddings\n",
        "        self.labels = labels\n",
        "        self.length = len(self.embeddings)\n",
        "\n",
        "    def __len__(self):\n",
        "        # todo\n",
        "        return self.length\n",
        "\n",
        "    def __getitem__(self, i):\n",
        "        # todo\n",
        "        return self.embeddings[i], self.labels[i]"
      ]
    },
    {
      "cell_type": "code",
      "execution_count": 90,
      "metadata": {
        "colab": {
          "base_uri": "https://localhost:8080/"
        },
        "id": "TAlgEFRt-Mai",
        "outputId": "fb90c6af-aca0-4640-a948-1578bc89e64f"
      },
      "outputs": [
        {
          "output_type": "execute_result",
          "data": {
            "text/plain": [
              "array([0, 0, 0, ..., 2, 0, 2])"
            ]
          },
          "metadata": {},
          "execution_count": 90
        }
      ],
      "source": [
        "from sklearn.preprocessing import LabelEncoder\n",
        "\n",
        "labels = LabelEncoder().fit_transform(labels)\n",
        "labels"
      ]
    },
    {
      "cell_type": "code",
      "execution_count": null,
      "metadata": {
        "id": "Aijor9Rf-Mai"
      },
      "outputs": [],
      "source": [
        "dataset = PapersDataSet(embeddings, labels)\n",
        "\n",
        "# split the dataset to train and test\n",
        "train_size = int(0.8 * len(dataset))\n",
        "validation_size = int(0.1 * len(dataset))\n",
        "test_size = len(dataset) - train_size - validation_size\n",
        "\n",
        "train_dataset, validation_dataset, test_dataset = torch.utils.data.random_split(\n",
        "    dataset, [train_size, validation_size, test_size]\n",
        ")\n",
        "\n",
        "# Calculate the labels. Respective label to each embedding in the dataset. use LABELS enum class\n",
        "train_labels = [label for _, label in train_dataset]\n",
        "validation_labels = [label for _, label in validation_dataset]\n",
        "test_labels = [label for _, label in test_dataset]"
      ]
    },
    {
      "cell_type": "code",
      "execution_count": null,
      "metadata": {
        "id": "msAS296t-Mai"
      },
      "outputs": [],
      "source": [
        "# todo split the data into train, val, test and create dataloaders\n",
        "train_loader = DataLoader(train_dataset, batch_size=64, shuffle=True)\n",
        "val_loader = DataLoader(validation_dataset, batch_size=64, shuffle=True)\n",
        "test_loader = DataLoader(test_dataset, batch_size=64, shuffle=True)"
      ]
    },
    {
      "cell_type": "markdown",
      "metadata": {
        "id": "9iOJ07VG-Mai"
      },
      "source": [
        "## Build model"
      ]
    },
    {
      "cell_type": "markdown",
      "metadata": {
        "id": "36N2V3Sg-Mai"
      },
      "source": [
        "\n",
        "<div dir=\"rtl\">\n",
        "<font face=\"XB Zar\" size=5>\n",
        "</font>\n",
        "<font face=\"XB Zar\" size=3>\n",
        "     <br>\n",
        "حال دراین قسمت مدل شبکه‌ی عصبی خود را تعریف کنید.\n",
        "    </font>\n",
        "</div>"
      ]
    },
    {
      "cell_type": "code",
      "execution_count": null,
      "metadata": {
        "id": "Wez19pe3-Mai"
      },
      "outputs": [],
      "source": [
        "class ClassifierModel(nn.Module):\n",
        "    def __init__(self, in_features=100, num_classes=3):\n",
        "        # todo\n",
        "        super(ClassifierModel, self).__init__()\n",
        "        self.fc1 = nn.Linear(in_features, 64)\n",
        "        self.bn1 = nn.BatchNorm1d(64)\n",
        "        self.dropout1 = nn.Dropout(0.5)\n",
        "        self.relu = nn.ReLU()\n",
        "        self.fc2 = nn.Linear(64, 32)\n",
        "        self.bn2 = nn.BatchNorm1d(32)\n",
        "        self.dropout2 = nn.Dropout(0.5)\n",
        "        self.fc3 = nn.Linear(32, num_classes)\n",
        "        self.model = nn.Sequential(\n",
        "            self.fc1,\n",
        "            self.bn1,\n",
        "            self.dropout1,\n",
        "            self.relu,\n",
        "            self.fc2,\n",
        "            self.bn2,\n",
        "            self.dropout2,\n",
        "            self.relu,\n",
        "            self.fc3,\n",
        "        )\n",
        "\n",
        "    def forward(self, x):\n",
        "        # todo\n",
        "        return self.model(x)"
      ]
    },
    {
      "cell_type": "markdown",
      "metadata": {
        "id": "JvxNgshZ-Mai"
      },
      "source": [
        "## Train model"
      ]
    },
    {
      "cell_type": "markdown",
      "metadata": {
        "id": "kiRsi2ww-Maj"
      },
      "source": [
        "\n",
        "\n",
        "<div dir=\"rtl\">\n",
        "<font face=\"XB Zar\" size=5>\n",
        "</font>\n",
        "<font face=\"XB Zar\" size=3>\n",
        "     <br>\n",
        "در این قسمت به کمک داده‌ی آموزش و validation مدل خود را آموزش دهید.\n",
        "اطلاعات مورد نیاز نظیر lossهای train و validation را ذخیره کنید تا در ادامه به کمک نمودار یادگیری مدل خود را ارزیابی کنید.\n",
        "    </font>\n",
        "</div>"
      ]
    },
    {
      "cell_type": "code",
      "execution_count": null,
      "metadata": {
        "id": "NnJZbNgF-Maj",
        "outputId": "f1d4377d-d322-453c-8366-fcd0bec048c7"
      },
      "outputs": [
        {
          "name": "stdout",
          "output_type": "stream",
          "text": [
            "device is mps\n",
            "Model Architecture:\n",
            "ClassifierModel(\n",
            "  (fc1): Linear(in_features=100, out_features=64, bias=True)\n",
            "  (bn1): BatchNorm1d(64, eps=1e-05, momentum=0.1, affine=True, track_running_stats=True)\n",
            "  (dropout1): Dropout(p=0.5, inplace=False)\n",
            "  (relu): ReLU()\n",
            "  (fc2): Linear(in_features=64, out_features=32, bias=True)\n",
            "  (bn2): BatchNorm1d(32, eps=1e-05, momentum=0.1, affine=True, track_running_stats=True)\n",
            "  (dropout2): Dropout(p=0.5, inplace=False)\n",
            "  (fc3): Linear(in_features=32, out_features=3, bias=True)\n",
            "  (model): Sequential(\n",
            "    (0): Linear(in_features=100, out_features=64, bias=True)\n",
            "    (1): BatchNorm1d(64, eps=1e-05, momentum=0.1, affine=True, track_running_stats=True)\n",
            "    (2): Dropout(p=0.5, inplace=False)\n",
            "    (3): ReLU()\n",
            "    (4): Linear(in_features=64, out_features=32, bias=True)\n",
            "    (5): BatchNorm1d(32, eps=1e-05, momentum=0.1, affine=True, track_running_stats=True)\n",
            "    (6): Dropout(p=0.5, inplace=False)\n",
            "    (7): ReLU()\n",
            "    (8): Linear(in_features=32, out_features=3, bias=True)\n",
            "  )\n",
            ")\n"
          ]
        }
      ],
      "source": [
        "device = torch.device(\n",
        "    \"mps\"\n",
        "    if torch.backends.mps.is_available()\n",
        "    else \"cuda:0\"\n",
        "    if torch.cuda.is_available()\n",
        "    else \"cpu\"\n",
        ")\n",
        "model = ClassifierModel().to(device)\n",
        "print(f\"device is {device}\")\n",
        "print(\"Model Architecture:\")\n",
        "print(model)"
      ]
    },
    {
      "cell_type": "code",
      "execution_count": null,
      "metadata": {
        "id": "l2Gs7gv5-Maj"
      },
      "outputs": [],
      "source": [
        "# todo define the loss function and the optimizer. We suggest using Adam optimizer\n",
        "criterion = nn.CrossEntropyLoss()\n",
        "learning_rate = 1e-3\n",
        "optimizer = torch.optim.Adam(model.parameters(), lr=learning_rate)"
      ]
    },
    {
      "cell_type": "code",
      "execution_count": null,
      "metadata": {
        "id": "gFHCX_gS-Maj"
      },
      "outputs": [],
      "source": [
        "def eval_epoch(\n",
        "    model: nn.Module,\n",
        "    criterion: nn.Module,\n",
        "    dataloader: torch.utils.data.DataLoader,\n",
        "    test_mode=False,\n",
        "):\n",
        "    \"\"\"\n",
        "    Evaluate the model on the given dataloader. used for validation and test\n",
        "    Parameters\n",
        "    ----------\n",
        "    model: nn.Module\n",
        "    criterion: nn.Module\n",
        "    dataloader: torch.utils.data.DataLoader\n",
        "    test_mode: bool\n",
        "        If True, the function will print 'Test' instead of 'Validation'\n",
        "    Returns\n",
        "    -------\n",
        "    eval_loss: float\n",
        "        The loss on the given dataloader\n",
        "    predicted_labels: list\n",
        "        The predicted labels\n",
        "    true_labels: list\n",
        "        The true labels\n",
        "    f1_score_macro: float\n",
        "        The f1 score on the given dataloader\n",
        "    \"\"\"\n",
        "    # todo\n",
        "    if test_mode:\n",
        "        print(\"Test\")\n",
        "    else:\n",
        "        print(\"Validation\")\n",
        "\n",
        "    model.eval()\n",
        "    eval_loss = 0\n",
        "    predicted_labels = []\n",
        "    true_labels = []\n",
        "    with torch.no_grad():\n",
        "        for inputs, labels in tqdm(dataloader):\n",
        "            inputs = inputs.to(torch.float32).to(device).view(inputs.shape[0], -1)\n",
        "            labels = labels.to(device)\n",
        "            outputs = model(inputs)\n",
        "            eval_loss += criterion(outputs, labels).item()\n",
        "            _, predicted = torch.max(outputs.data, 1)\n",
        "            predicted_labels.extend(predicted.tolist())\n",
        "            true_labels.extend(labels.tolist())\n",
        "\n",
        "    eval_loss /= len(dataloader)\n",
        "\n",
        "    f1_score_macro = f1_score(true_labels, predicted_labels, average=\"macro\")\n",
        "\n",
        "    return eval_loss, predicted_labels, true_labels, f1_score_macro"
      ]
    },
    {
      "cell_type": "code",
      "execution_count": null,
      "metadata": {
        "id": "743DSkdN-Maj",
        "outputId": "aed1409c-8206-497c-af2d-9bc6db10d68f"
      },
      "outputs": [
        {
          "name": "stderr",
          "output_type": "stream",
          "text": [
            "100%|██████████| 648/648 [00:05<00:00, 123.60it/s]\n"
          ]
        },
        {
          "name": "stdout",
          "output_type": "stream",
          "text": [
            "Validation\n"
          ]
        },
        {
          "name": "stderr",
          "output_type": "stream",
          "text": [
            "100%|██████████| 81/81 [00:00<00:00, 412.48it/s]\n"
          ]
        },
        {
          "name": "stdout",
          "output_type": "stream",
          "text": [
            "Epoch 1 finished in 5.47s\n",
            "[Epoch 1]\tTrain Loss: 0.47789\tValidation Loss: 0.00007\t F1 score macro: 0.599362\n"
          ]
        },
        {
          "name": "stderr",
          "output_type": "stream",
          "text": [
            "100%|██████████| 648/648 [00:05<00:00, 125.21it/s]\n"
          ]
        },
        {
          "name": "stdout",
          "output_type": "stream",
          "text": [
            "Validation\n"
          ]
        },
        {
          "name": "stderr",
          "output_type": "stream",
          "text": [
            "100%|██████████| 81/81 [00:00<00:00, 408.86it/s]\n"
          ]
        },
        {
          "name": "stdout",
          "output_type": "stream",
          "text": [
            "Epoch 2 finished in 5.40s\n",
            "[Epoch 2]\tTrain Loss: 0.39897\tValidation Loss: 0.00007\t F1 score macro: 0.599362\n"
          ]
        },
        {
          "name": "stderr",
          "output_type": "stream",
          "text": [
            "100%|██████████| 648/648 [00:05<00:00, 123.53it/s]\n"
          ]
        },
        {
          "name": "stdout",
          "output_type": "stream",
          "text": [
            "Validation\n"
          ]
        },
        {
          "name": "stderr",
          "output_type": "stream",
          "text": [
            "100%|██████████| 81/81 [00:00<00:00, 387.67it/s]\n"
          ]
        },
        {
          "name": "stdout",
          "output_type": "stream",
          "text": [
            "Epoch 3 finished in 5.49s\n",
            "[Epoch 3]\tTrain Loss: 0.38983\tValidation Loss: 0.00007\t F1 score macro: 0.599362\n"
          ]
        },
        {
          "name": "stderr",
          "output_type": "stream",
          "text": [
            "100%|██████████| 648/648 [00:05<00:00, 126.42it/s]\n"
          ]
        },
        {
          "name": "stdout",
          "output_type": "stream",
          "text": [
            "Validation\n"
          ]
        },
        {
          "name": "stderr",
          "output_type": "stream",
          "text": [
            "100%|██████████| 81/81 [00:00<00:00, 405.26it/s]\n"
          ]
        },
        {
          "name": "stdout",
          "output_type": "stream",
          "text": [
            "Epoch 4 finished in 5.35s\n",
            "[Epoch 4]\tTrain Loss: 0.38405\tValidation Loss: 0.00007\t F1 score macro: 0.599362\n"
          ]
        },
        {
          "name": "stderr",
          "output_type": "stream",
          "text": [
            "100%|██████████| 648/648 [00:05<00:00, 127.72it/s]\n"
          ]
        },
        {
          "name": "stdout",
          "output_type": "stream",
          "text": [
            "Validation\n"
          ]
        },
        {
          "name": "stderr",
          "output_type": "stream",
          "text": [
            "100%|██████████| 81/81 [00:00<00:00, 416.11it/s]"
          ]
        },
        {
          "name": "stdout",
          "output_type": "stream",
          "text": [
            "Epoch 5 finished in 5.30s"
          ]
        },
        {
          "name": "stderr",
          "output_type": "stream",
          "text": [
            "\n"
          ]
        },
        {
          "name": "stdout",
          "output_type": "stream",
          "text": [
            "\n",
            "[Epoch 5]\tTrain Loss: 0.37916\tValidation Loss: 0.00006\t F1 score macro: 0.599362\n"
          ]
        },
        {
          "name": "stderr",
          "output_type": "stream",
          "text": [
            "100%|██████████| 648/648 [00:05<00:00, 128.23it/s]\n"
          ]
        },
        {
          "name": "stdout",
          "output_type": "stream",
          "text": [
            "Validation\n"
          ]
        },
        {
          "name": "stderr",
          "output_type": "stream",
          "text": [
            "100%|██████████| 81/81 [00:00<00:00, 414.24it/s]\n"
          ]
        },
        {
          "name": "stdout",
          "output_type": "stream",
          "text": [
            "Epoch 6 finished in 5.28s\n",
            "[Epoch 6]\tTrain Loss: 0.37252\tValidation Loss: 0.00006\t F1 score macro: 0.599362\n"
          ]
        },
        {
          "name": "stderr",
          "output_type": "stream",
          "text": [
            "100%|██████████| 648/648 [00:05<00:00, 127.98it/s]\n"
          ]
        },
        {
          "name": "stdout",
          "output_type": "stream",
          "text": [
            "Validation\n"
          ]
        },
        {
          "name": "stderr",
          "output_type": "stream",
          "text": [
            "100%|██████████| 81/81 [00:00<00:00, 416.01it/s]"
          ]
        },
        {
          "name": "stdout",
          "output_type": "stream",
          "text": [
            "Epoch 7 finished in 5.29s"
          ]
        },
        {
          "name": "stderr",
          "output_type": "stream",
          "text": [
            "\n"
          ]
        },
        {
          "name": "stdout",
          "output_type": "stream",
          "text": [
            "\n",
            "[Epoch 7]\tTrain Loss: 0.37109\tValidation Loss: 0.00006\t F1 score macro: 0.599362\n"
          ]
        },
        {
          "name": "stderr",
          "output_type": "stream",
          "text": [
            "100%|██████████| 648/648 [00:05<00:00, 122.42it/s]\n"
          ]
        },
        {
          "name": "stdout",
          "output_type": "stream",
          "text": [
            "Validation\n"
          ]
        },
        {
          "name": "stderr",
          "output_type": "stream",
          "text": [
            "100%|██████████| 81/81 [00:00<00:00, 326.36it/s]\n"
          ]
        },
        {
          "name": "stdout",
          "output_type": "stream",
          "text": [
            "Epoch 8 finished in 5.57s\n",
            "[Epoch 8]\tTrain Loss: 0.37181\tValidation Loss: 0.00006\t F1 score macro: 0.599362\n"
          ]
        },
        {
          "name": "stderr",
          "output_type": "stream",
          "text": [
            "100%|██████████| 648/648 [00:06<00:00, 107.40it/s]\n"
          ]
        },
        {
          "name": "stdout",
          "output_type": "stream",
          "text": [
            "Validation\n"
          ]
        },
        {
          "name": "stderr",
          "output_type": "stream",
          "text": [
            "100%|██████████| 81/81 [00:00<00:00, 313.20it/s]\n"
          ]
        },
        {
          "name": "stdout",
          "output_type": "stream",
          "text": [
            "Epoch 9 finished in 6.33s\n",
            "[Epoch 9]\tTrain Loss: 0.36494\tValidation Loss: 0.00006\t F1 score macro: 0.599362\n"
          ]
        },
        {
          "name": "stderr",
          "output_type": "stream",
          "text": [
            "100%|██████████| 648/648 [00:05<00:00, 127.61it/s]\n"
          ]
        },
        {
          "name": "stdout",
          "output_type": "stream",
          "text": [
            "Validation\n"
          ]
        },
        {
          "name": "stderr",
          "output_type": "stream",
          "text": [
            "100%|██████████| 81/81 [00:00<00:00, 437.12it/s]\n"
          ]
        },
        {
          "name": "stdout",
          "output_type": "stream",
          "text": [
            "Epoch 10 finished in 5.29s\n",
            "[Epoch 10]\tTrain Loss: 0.36617\tValidation Loss: 0.00006\t F1 score macro: 0.599362\n"
          ]
        },
        {
          "name": "stderr",
          "output_type": "stream",
          "text": [
            "100%|██████████| 648/648 [00:05<00:00, 128.60it/s]\n"
          ]
        },
        {
          "name": "stdout",
          "output_type": "stream",
          "text": [
            "Validation\n"
          ]
        },
        {
          "name": "stderr",
          "output_type": "stream",
          "text": [
            "100%|██████████| 81/81 [00:00<00:00, 437.66it/s]\n"
          ]
        },
        {
          "name": "stdout",
          "output_type": "stream",
          "text": [
            "Epoch 11 finished in 5.26s\n",
            "[Epoch 11]\tTrain Loss: 0.36553\tValidation Loss: 0.00006\t F1 score macro: 0.599362\n"
          ]
        },
        {
          "name": "stderr",
          "output_type": "stream",
          "text": [
            "100%|██████████| 648/648 [00:05<00:00, 110.16it/s]\n"
          ]
        },
        {
          "name": "stdout",
          "output_type": "stream",
          "text": [
            "Validation\n"
          ]
        },
        {
          "name": "stderr",
          "output_type": "stream",
          "text": [
            "100%|██████████| 81/81 [00:00<00:00, 237.55it/s]\n"
          ]
        },
        {
          "name": "stdout",
          "output_type": "stream",
          "text": [
            "Epoch 12 finished in 6.25s\n",
            "[Epoch 12]\tTrain Loss: 0.35937\tValidation Loss: 0.00006\t F1 score macro: 0.599362\n"
          ]
        },
        {
          "name": "stderr",
          "output_type": "stream",
          "text": [
            "100%|██████████| 648/648 [00:06<00:00, 103.15it/s]\n"
          ]
        },
        {
          "name": "stdout",
          "output_type": "stream",
          "text": [
            "Validation\n"
          ]
        },
        {
          "name": "stderr",
          "output_type": "stream",
          "text": [
            "100%|██████████| 81/81 [00:00<00:00, 290.82it/s]\n"
          ]
        },
        {
          "name": "stdout",
          "output_type": "stream",
          "text": [
            "Epoch 13 finished in 6.59s\n",
            "[Epoch 13]\tTrain Loss: 0.35969\tValidation Loss: 0.00006\t F1 score macro: 0.599362\n"
          ]
        },
        {
          "name": "stderr",
          "output_type": "stream",
          "text": [
            "100%|██████████| 648/648 [00:05<00:00, 111.47it/s]\n"
          ]
        },
        {
          "name": "stdout",
          "output_type": "stream",
          "text": [
            "Validation\n"
          ]
        },
        {
          "name": "stderr",
          "output_type": "stream",
          "text": [
            "100%|██████████| 81/81 [00:00<00:00, 392.74it/s]\n"
          ]
        },
        {
          "name": "stdout",
          "output_type": "stream",
          "text": [
            "Epoch 14 finished in 6.05s\n",
            "[Epoch 14]\tTrain Loss: 0.35929\tValidation Loss: 0.00006\t F1 score macro: 0.599362\n"
          ]
        },
        {
          "name": "stderr",
          "output_type": "stream",
          "text": [
            "100%|██████████| 648/648 [00:05<00:00, 117.59it/s]\n"
          ]
        },
        {
          "name": "stdout",
          "output_type": "stream",
          "text": [
            "Validation\n"
          ]
        },
        {
          "name": "stderr",
          "output_type": "stream",
          "text": [
            "100%|██████████| 81/81 [00:00<00:00, 411.84it/s]\n"
          ]
        },
        {
          "name": "stdout",
          "output_type": "stream",
          "text": [
            "Epoch 15 finished in 5.73s\n",
            "[Epoch 15]\tTrain Loss: 0.35814\tValidation Loss: 0.00006\t F1 score macro: 0.599362\n"
          ]
        },
        {
          "name": "stderr",
          "output_type": "stream",
          "text": [
            "100%|██████████| 648/648 [00:05<00:00, 115.70it/s]\n"
          ]
        },
        {
          "name": "stdout",
          "output_type": "stream",
          "text": [
            "Validation\n"
          ]
        },
        {
          "name": "stderr",
          "output_type": "stream",
          "text": [
            "100%|██████████| 81/81 [00:00<00:00, 259.04it/s]\n"
          ]
        },
        {
          "name": "stdout",
          "output_type": "stream",
          "text": [
            "Epoch 16 finished in 5.95s\n",
            "[Epoch 16]\tTrain Loss: 0.35740\tValidation Loss: 0.00006\t F1 score macro: 0.599362\n"
          ]
        },
        {
          "name": "stderr",
          "output_type": "stream",
          "text": [
            "100%|██████████| 648/648 [00:05<00:00, 110.38it/s]\n"
          ]
        },
        {
          "name": "stdout",
          "output_type": "stream",
          "text": [
            "Validation\n"
          ]
        },
        {
          "name": "stderr",
          "output_type": "stream",
          "text": [
            "100%|██████████| 81/81 [00:00<00:00, 434.65it/s]\n"
          ]
        },
        {
          "name": "stdout",
          "output_type": "stream",
          "text": [
            "Epoch 17 finished in 6.08s\n",
            "[Epoch 17]\tTrain Loss: 0.35492\tValidation Loss: 0.00006\t F1 score macro: 0.599362\n"
          ]
        },
        {
          "name": "stderr",
          "output_type": "stream",
          "text": [
            "100%|██████████| 648/648 [00:05<00:00, 125.19it/s]\n"
          ]
        },
        {
          "name": "stdout",
          "output_type": "stream",
          "text": [
            "Validation\n"
          ]
        },
        {
          "name": "stderr",
          "output_type": "stream",
          "text": [
            "100%|██████████| 81/81 [00:00<00:00, 437.95it/s]\n"
          ]
        },
        {
          "name": "stdout",
          "output_type": "stream",
          "text": [
            "Epoch 18 finished in 5.39s\n",
            "[Epoch 18]\tTrain Loss: 0.35619\tValidation Loss: 0.00006\t F1 score macro: 0.599362\n"
          ]
        },
        {
          "name": "stderr",
          "output_type": "stream",
          "text": [
            "100%|██████████| 648/648 [00:05<00:00, 124.68it/s]\n"
          ]
        },
        {
          "name": "stdout",
          "output_type": "stream",
          "text": [
            "Validation\n"
          ]
        },
        {
          "name": "stderr",
          "output_type": "stream",
          "text": [
            "100%|██████████| 81/81 [00:00<00:00, 407.60it/s]\n"
          ]
        },
        {
          "name": "stdout",
          "output_type": "stream",
          "text": [
            "Epoch 19 finished in 5.42s\n",
            "[Epoch 19]\tTrain Loss: 0.35728\tValidation Loss: 0.00006\t F1 score macro: 0.599362\n"
          ]
        },
        {
          "name": "stderr",
          "output_type": "stream",
          "text": [
            "100%|██████████| 648/648 [00:05<00:00, 125.83it/s]\n"
          ]
        },
        {
          "name": "stdout",
          "output_type": "stream",
          "text": [
            "Validation\n"
          ]
        },
        {
          "name": "stderr",
          "output_type": "stream",
          "text": [
            "100%|██████████| 81/81 [00:00<00:00, 452.66it/s]\n"
          ]
        },
        {
          "name": "stdout",
          "output_type": "stream",
          "text": [
            "Epoch 20 finished in 5.36s\n",
            "[Epoch 20]\tTrain Loss: 0.35173\tValidation Loss: 0.00006\t F1 score macro: 0.599362\n"
          ]
        },
        {
          "name": "stderr",
          "output_type": "stream",
          "text": [
            "100%|██████████| 648/648 [00:05<00:00, 127.46it/s]\n"
          ]
        },
        {
          "name": "stdout",
          "output_type": "stream",
          "text": [
            "Validation\n"
          ]
        },
        {
          "name": "stderr",
          "output_type": "stream",
          "text": [
            "100%|██████████| 81/81 [00:00<00:00, 446.85it/s]\n"
          ]
        },
        {
          "name": "stdout",
          "output_type": "stream",
          "text": [
            "Epoch 21 finished in 5.30s\n",
            "[Epoch 21]\tTrain Loss: 0.35373\tValidation Loss: 0.00006\t F1 score macro: 0.599362\n"
          ]
        },
        {
          "name": "stderr",
          "output_type": "stream",
          "text": [
            "100%|██████████| 648/648 [00:05<00:00, 120.54it/s]\n"
          ]
        },
        {
          "name": "stdout",
          "output_type": "stream",
          "text": [
            "Validation\n"
          ]
        },
        {
          "name": "stderr",
          "output_type": "stream",
          "text": [
            "100%|██████████| 81/81 [00:00<00:00, 433.20it/s]\n"
          ]
        },
        {
          "name": "stdout",
          "output_type": "stream",
          "text": [
            "Epoch 22 finished in 5.60s\n",
            "[Epoch 22]\tTrain Loss: 0.35348\tValidation Loss: 0.00006\t F1 score macro: 0.599362\n"
          ]
        },
        {
          "name": "stderr",
          "output_type": "stream",
          "text": [
            "100%|██████████| 648/648 [00:05<00:00, 115.89it/s]\n"
          ]
        },
        {
          "name": "stdout",
          "output_type": "stream",
          "text": [
            "Validation\n"
          ]
        },
        {
          "name": "stderr",
          "output_type": "stream",
          "text": [
            "100%|██████████| 81/81 [00:00<00:00, 254.06it/s]\n"
          ]
        },
        {
          "name": "stdout",
          "output_type": "stream",
          "text": [
            "Epoch 23 finished in 5.94s\n",
            "[Epoch 23]\tTrain Loss: 0.35214\tValidation Loss: 0.00006\t F1 score macro: 0.599362\n"
          ]
        },
        {
          "name": "stderr",
          "output_type": "stream",
          "text": [
            "100%|██████████| 648/648 [00:05<00:00, 124.39it/s]\n"
          ]
        },
        {
          "name": "stdout",
          "output_type": "stream",
          "text": [
            "Validation\n"
          ]
        },
        {
          "name": "stderr",
          "output_type": "stream",
          "text": [
            "100%|██████████| 81/81 [00:00<00:00, 432.49it/s]\n"
          ]
        },
        {
          "name": "stdout",
          "output_type": "stream",
          "text": [
            "Epoch 24 finished in 5.42s\n",
            "[Epoch 24]\tTrain Loss: 0.35303\tValidation Loss: 0.00006\t F1 score macro: 0.599362\n"
          ]
        },
        {
          "name": "stderr",
          "output_type": "stream",
          "text": [
            "100%|██████████| 648/648 [00:05<00:00, 112.47it/s]\n"
          ]
        },
        {
          "name": "stdout",
          "output_type": "stream",
          "text": [
            "Validation\n"
          ]
        },
        {
          "name": "stderr",
          "output_type": "stream",
          "text": [
            "100%|██████████| 81/81 [00:00<00:00, 449.88it/s]\n"
          ]
        },
        {
          "name": "stdout",
          "output_type": "stream",
          "text": [
            "Epoch 25 finished in 5.97s\n",
            "[Epoch 25]\tTrain Loss: 0.35175\tValidation Loss: 0.00006\t F1 score macro: 0.599362\n"
          ]
        },
        {
          "name": "stderr",
          "output_type": "stream",
          "text": [
            "100%|██████████| 648/648 [00:05<00:00, 122.82it/s]\n"
          ]
        },
        {
          "name": "stdout",
          "output_type": "stream",
          "text": [
            "Validation\n"
          ]
        },
        {
          "name": "stderr",
          "output_type": "stream",
          "text": [
            "100%|██████████| 81/81 [00:00<00:00, 454.90it/s]\n"
          ]
        },
        {
          "name": "stdout",
          "output_type": "stream",
          "text": [
            "Epoch 26 finished in 5.48s\n",
            "[Epoch 26]\tTrain Loss: 0.34922\tValidation Loss: 0.00006\t F1 score macro: 0.599362\n"
          ]
        },
        {
          "name": "stderr",
          "output_type": "stream",
          "text": [
            "100%|██████████| 648/648 [00:04<00:00, 130.38it/s]\n"
          ]
        },
        {
          "name": "stdout",
          "output_type": "stream",
          "text": [
            "Validation\n"
          ]
        },
        {
          "name": "stderr",
          "output_type": "stream",
          "text": [
            "100%|██████████| 81/81 [00:00<00:00, 462.75it/s]\n"
          ]
        },
        {
          "name": "stdout",
          "output_type": "stream",
          "text": [
            "Epoch 27 finished in 5.18s\n",
            "[Epoch 27]\tTrain Loss: 0.34989\tValidation Loss: 0.00006\t F1 score macro: 0.599362\n"
          ]
        },
        {
          "name": "stderr",
          "output_type": "stream",
          "text": [
            "100%|██████████| 648/648 [00:05<00:00, 126.92it/s]\n"
          ]
        },
        {
          "name": "stdout",
          "output_type": "stream",
          "text": [
            "Validation\n"
          ]
        },
        {
          "name": "stderr",
          "output_type": "stream",
          "text": [
            "100%|██████████| 81/81 [00:00<00:00, 437.24it/s]\n"
          ]
        },
        {
          "name": "stdout",
          "output_type": "stream",
          "text": [
            "Epoch 28 finished in 5.32s\n",
            "[Epoch 28]\tTrain Loss: 0.34668\tValidation Loss: 0.00006\t F1 score macro: 0.599362\n"
          ]
        },
        {
          "name": "stderr",
          "output_type": "stream",
          "text": [
            "100%|██████████| 648/648 [00:04<00:00, 129.76it/s]\n"
          ]
        },
        {
          "name": "stdout",
          "output_type": "stream",
          "text": [
            "Validation\n"
          ]
        },
        {
          "name": "stderr",
          "output_type": "stream",
          "text": [
            "100%|██████████| 81/81 [00:00<00:00, 425.54it/s]\n"
          ]
        },
        {
          "name": "stdout",
          "output_type": "stream",
          "text": [
            "Epoch 29 finished in 5.22s\n",
            "[Epoch 29]\tTrain Loss: 0.34993\tValidation Loss: 0.00006\t F1 score macro: 0.599362\n"
          ]
        },
        {
          "name": "stderr",
          "output_type": "stream",
          "text": [
            "100%|██████████| 648/648 [00:05<00:00, 124.38it/s]\n"
          ]
        },
        {
          "name": "stdout",
          "output_type": "stream",
          "text": [
            "Validation\n"
          ]
        },
        {
          "name": "stderr",
          "output_type": "stream",
          "text": [
            "100%|██████████| 81/81 [00:00<00:00, 363.26it/s]\n"
          ]
        },
        {
          "name": "stdout",
          "output_type": "stream",
          "text": [
            "Epoch 30 finished in 5.46s\n",
            "[Epoch 30]\tTrain Loss: 0.34784\tValidation Loss: 0.00006\t F1 score macro: 0.599362\n"
          ]
        },
        {
          "name": "stderr",
          "output_type": "stream",
          "text": [
            "100%|██████████| 648/648 [00:05<00:00, 117.84it/s]\n"
          ]
        },
        {
          "name": "stdout",
          "output_type": "stream",
          "text": [
            "Validation\n"
          ]
        },
        {
          "name": "stderr",
          "output_type": "stream",
          "text": [
            "100%|██████████| 81/81 [00:00<00:00, 412.04it/s]\n"
          ]
        },
        {
          "name": "stdout",
          "output_type": "stream",
          "text": [
            "Epoch 31 finished in 5.72s\n",
            "[Epoch 31]\tTrain Loss: 0.34619\tValidation Loss: 0.00006\t F1 score macro: 0.599362\n"
          ]
        },
        {
          "name": "stderr",
          "output_type": "stream",
          "text": [
            "100%|██████████| 648/648 [00:05<00:00, 121.38it/s]\n"
          ]
        },
        {
          "name": "stdout",
          "output_type": "stream",
          "text": [
            "Validation\n"
          ]
        },
        {
          "name": "stderr",
          "output_type": "stream",
          "text": [
            "100%|██████████| 81/81 [00:00<00:00, 400.14it/s]\n"
          ]
        },
        {
          "name": "stdout",
          "output_type": "stream",
          "text": [
            "Epoch 32 finished in 5.57s\n",
            "[Epoch 32]\tTrain Loss: 0.34588\tValidation Loss: 0.00006\t F1 score macro: 0.599362\n"
          ]
        },
        {
          "name": "stderr",
          "output_type": "stream",
          "text": [
            "100%|██████████| 648/648 [00:05<00:00, 125.47it/s]\n"
          ]
        },
        {
          "name": "stdout",
          "output_type": "stream",
          "text": [
            "Validation\n"
          ]
        },
        {
          "name": "stderr",
          "output_type": "stream",
          "text": [
            "100%|██████████| 81/81 [00:00<00:00, 434.44it/s]\n"
          ]
        },
        {
          "name": "stdout",
          "output_type": "stream",
          "text": [
            "Epoch 33 finished in 5.38s\n",
            "[Epoch 33]\tTrain Loss: 0.34573\tValidation Loss: 0.00006\t F1 score macro: 0.599362\n"
          ]
        },
        {
          "name": "stderr",
          "output_type": "stream",
          "text": [
            "100%|██████████| 648/648 [00:05<00:00, 128.31it/s]\n"
          ]
        },
        {
          "name": "stdout",
          "output_type": "stream",
          "text": [
            "Validation\n"
          ]
        },
        {
          "name": "stderr",
          "output_type": "stream",
          "text": [
            "100%|██████████| 81/81 [00:00<00:00, 408.30it/s]\n"
          ]
        },
        {
          "name": "stdout",
          "output_type": "stream",
          "text": [
            "Epoch 34 finished in 5.28s\n",
            "[Epoch 34]\tTrain Loss: 0.34818\tValidation Loss: 0.00006\t F1 score macro: 0.599362\n"
          ]
        },
        {
          "name": "stderr",
          "output_type": "stream",
          "text": [
            "100%|██████████| 648/648 [00:04<00:00, 129.82it/s]\n"
          ]
        },
        {
          "name": "stdout",
          "output_type": "stream",
          "text": [
            "Validation\n"
          ]
        },
        {
          "name": "stderr",
          "output_type": "stream",
          "text": [
            "100%|██████████| 81/81 [00:00<00:00, 443.55it/s]\n"
          ]
        },
        {
          "name": "stdout",
          "output_type": "stream",
          "text": [
            "Epoch 35 finished in 5.20s\n",
            "[Epoch 35]\tTrain Loss: 0.34599\tValidation Loss: 0.00006\t F1 score macro: 0.599362\n"
          ]
        },
        {
          "name": "stderr",
          "output_type": "stream",
          "text": [
            "100%|██████████| 648/648 [00:04<00:00, 130.32it/s]\n"
          ]
        },
        {
          "name": "stdout",
          "output_type": "stream",
          "text": [
            "Validation\n"
          ]
        },
        {
          "name": "stderr",
          "output_type": "stream",
          "text": [
            "100%|██████████| 81/81 [00:00<00:00, 445.81it/s]\n"
          ]
        },
        {
          "name": "stdout",
          "output_type": "stream",
          "text": [
            "Epoch 36 finished in 5.19s\n",
            "[Epoch 36]\tTrain Loss: 0.34793\tValidation Loss: 0.00006\t F1 score macro: 0.599362\n"
          ]
        },
        {
          "name": "stderr",
          "output_type": "stream",
          "text": [
            "100%|██████████| 648/648 [00:05<00:00, 128.35it/s]\n"
          ]
        },
        {
          "name": "stdout",
          "output_type": "stream",
          "text": [
            "Validation\n"
          ]
        },
        {
          "name": "stderr",
          "output_type": "stream",
          "text": [
            "100%|██████████| 81/81 [00:00<00:00, 338.41it/s]\n"
          ]
        },
        {
          "name": "stdout",
          "output_type": "stream",
          "text": [
            "Epoch 37 finished in 5.31s\n",
            "[Epoch 37]\tTrain Loss: 0.34553\tValidation Loss: 0.00006\t F1 score macro: 0.599362\n"
          ]
        },
        {
          "name": "stderr",
          "output_type": "stream",
          "text": [
            "100%|██████████| 648/648 [00:04<00:00, 133.94it/s]\n"
          ]
        },
        {
          "name": "stdout",
          "output_type": "stream",
          "text": [
            "Validation\n"
          ]
        },
        {
          "name": "stderr",
          "output_type": "stream",
          "text": [
            "100%|██████████| 81/81 [00:00<00:00, 266.13it/s]\n"
          ]
        },
        {
          "name": "stdout",
          "output_type": "stream",
          "text": [
            "Epoch 38 finished in 5.17s\n",
            "[Epoch 38]\tTrain Loss: 0.34155\tValidation Loss: 0.00006\t F1 score macro: 0.599362\n"
          ]
        },
        {
          "name": "stderr",
          "output_type": "stream",
          "text": [
            "100%|██████████| 648/648 [00:05<00:00, 127.90it/s]\n"
          ]
        },
        {
          "name": "stdout",
          "output_type": "stream",
          "text": [
            "Validation\n"
          ]
        },
        {
          "name": "stderr",
          "output_type": "stream",
          "text": [
            "100%|██████████| 81/81 [00:00<00:00, 442.88it/s]\n"
          ]
        },
        {
          "name": "stdout",
          "output_type": "stream",
          "text": [
            "Epoch 39 finished in 5.28s\n",
            "[Epoch 39]\tTrain Loss: 0.33952\tValidation Loss: 0.00006\t F1 score macro: 0.599362\n"
          ]
        },
        {
          "name": "stderr",
          "output_type": "stream",
          "text": [
            "100%|██████████| 648/648 [00:05<00:00, 127.67it/s]\n"
          ]
        },
        {
          "name": "stdout",
          "output_type": "stream",
          "text": [
            "Validation\n"
          ]
        },
        {
          "name": "stderr",
          "output_type": "stream",
          "text": [
            "100%|██████████| 81/81 [00:00<00:00, 448.71it/s]\n"
          ]
        },
        {
          "name": "stdout",
          "output_type": "stream",
          "text": [
            "Epoch 40 finished in 5.28s\n",
            "[Epoch 40]\tTrain Loss: 0.34198\tValidation Loss: 0.00006\t F1 score macro: 0.599362\n"
          ]
        },
        {
          "name": "stderr",
          "output_type": "stream",
          "text": [
            "100%|██████████| 648/648 [00:04<00:00, 130.86it/s]\n"
          ]
        },
        {
          "name": "stdout",
          "output_type": "stream",
          "text": [
            "Validation\n"
          ]
        },
        {
          "name": "stderr",
          "output_type": "stream",
          "text": [
            "100%|██████████| 81/81 [00:00<00:00, 444.58it/s]\n"
          ]
        },
        {
          "name": "stdout",
          "output_type": "stream",
          "text": [
            "Epoch 41 finished in 5.16s\n",
            "[Epoch 41]\tTrain Loss: 0.34140\tValidation Loss: 0.00006\t F1 score macro: 0.599362\n"
          ]
        },
        {
          "name": "stderr",
          "output_type": "stream",
          "text": [
            "100%|██████████| 648/648 [00:04<00:00, 134.99it/s]\n"
          ]
        },
        {
          "name": "stdout",
          "output_type": "stream",
          "text": [
            "Validation\n"
          ]
        },
        {
          "name": "stderr",
          "output_type": "stream",
          "text": [
            "100%|██████████| 81/81 [00:00<00:00, 463.60it/s]\n"
          ]
        },
        {
          "name": "stdout",
          "output_type": "stream",
          "text": [
            "Epoch 42 finished in 5.00s\n",
            "[Epoch 42]\tTrain Loss: 0.34352\tValidation Loss: 0.00006\t F1 score macro: 0.599362\n"
          ]
        },
        {
          "name": "stderr",
          "output_type": "stream",
          "text": [
            "100%|██████████| 648/648 [00:05<00:00, 127.02it/s]\n"
          ]
        },
        {
          "name": "stdout",
          "output_type": "stream",
          "text": [
            "Validation\n"
          ]
        },
        {
          "name": "stderr",
          "output_type": "stream",
          "text": [
            "100%|██████████| 81/81 [00:00<00:00, 441.37it/s]\n"
          ]
        },
        {
          "name": "stdout",
          "output_type": "stream",
          "text": [
            "Epoch 43 finished in 5.31s\n",
            "[Epoch 43]\tTrain Loss: 0.34181\tValidation Loss: 0.00006\t F1 score macro: 0.599362\n"
          ]
        },
        {
          "name": "stderr",
          "output_type": "stream",
          "text": [
            "100%|██████████| 648/648 [00:05<00:00, 127.04it/s]\n"
          ]
        },
        {
          "name": "stdout",
          "output_type": "stream",
          "text": [
            "Validation\n"
          ]
        },
        {
          "name": "stderr",
          "output_type": "stream",
          "text": [
            "100%|██████████| 81/81 [00:00<00:00, 385.82it/s]\n"
          ]
        },
        {
          "name": "stdout",
          "output_type": "stream",
          "text": [
            "Epoch 44 finished in 5.35s\n",
            "[Epoch 44]\tTrain Loss: 0.34202\tValidation Loss: 0.00006\t F1 score macro: 0.599362\n"
          ]
        },
        {
          "name": "stderr",
          "output_type": "stream",
          "text": [
            "100%|██████████| 648/648 [00:05<00:00, 125.02it/s]\n"
          ]
        },
        {
          "name": "stdout",
          "output_type": "stream",
          "text": [
            "Validation\n"
          ]
        },
        {
          "name": "stderr",
          "output_type": "stream",
          "text": [
            "100%|██████████| 81/81 [00:00<00:00, 444.56it/s]\n"
          ]
        },
        {
          "name": "stdout",
          "output_type": "stream",
          "text": [
            "Epoch 45 finished in 5.40s\n",
            "[Epoch 45]\tTrain Loss: 0.33926\tValidation Loss: 0.00006\t F1 score macro: 0.599362\n"
          ]
        },
        {
          "name": "stderr",
          "output_type": "stream",
          "text": [
            "100%|██████████| 648/648 [00:05<00:00, 113.36it/s]\n"
          ]
        },
        {
          "name": "stdout",
          "output_type": "stream",
          "text": [
            "Validation\n"
          ]
        },
        {
          "name": "stderr",
          "output_type": "stream",
          "text": [
            "100%|██████████| 81/81 [00:00<00:00, 374.43it/s]\n"
          ]
        },
        {
          "name": "stdout",
          "output_type": "stream",
          "text": [
            "Epoch 46 finished in 5.96s\n",
            "[Epoch 46]\tTrain Loss: 0.34313\tValidation Loss: 0.00006\t F1 score macro: 0.599362\n"
          ]
        },
        {
          "name": "stderr",
          "output_type": "stream",
          "text": [
            "100%|██████████| 648/648 [00:06<00:00, 105.62it/s]\n"
          ]
        },
        {
          "name": "stdout",
          "output_type": "stream",
          "text": [
            "Validation\n"
          ]
        },
        {
          "name": "stderr",
          "output_type": "stream",
          "text": [
            "100%|██████████| 81/81 [00:00<00:00, 246.42it/s]\n"
          ]
        },
        {
          "name": "stdout",
          "output_type": "stream",
          "text": [
            "Epoch 47 finished in 6.49s\n",
            "[Epoch 47]\tTrain Loss: 0.34120\tValidation Loss: 0.00006\t F1 score macro: 0.599362\n"
          ]
        },
        {
          "name": "stderr",
          "output_type": "stream",
          "text": [
            "100%|██████████| 648/648 [00:05<00:00, 108.44it/s]\n"
          ]
        },
        {
          "name": "stdout",
          "output_type": "stream",
          "text": [
            "Validation\n"
          ]
        },
        {
          "name": "stderr",
          "output_type": "stream",
          "text": [
            "100%|██████████| 81/81 [00:00<00:00, 253.69it/s]\n"
          ]
        },
        {
          "name": "stdout",
          "output_type": "stream",
          "text": [
            "Epoch 48 finished in 6.32s\n",
            "[Epoch 48]\tTrain Loss: 0.34095\tValidation Loss: 0.00006\t F1 score macro: 0.599362\n"
          ]
        },
        {
          "name": "stderr",
          "output_type": "stream",
          "text": [
            "100%|██████████| 648/648 [00:06<00:00, 106.56it/s]\n"
          ]
        },
        {
          "name": "stdout",
          "output_type": "stream",
          "text": [
            "Validation\n"
          ]
        },
        {
          "name": "stderr",
          "output_type": "stream",
          "text": [
            "100%|██████████| 81/81 [00:00<00:00, 292.31it/s]\n"
          ]
        },
        {
          "name": "stdout",
          "output_type": "stream",
          "text": [
            "Epoch 49 finished in 6.40s\n",
            "[Epoch 49]\tTrain Loss: 0.33579\tValidation Loss: 0.00006\t F1 score macro: 0.599362\n"
          ]
        },
        {
          "name": "stderr",
          "output_type": "stream",
          "text": [
            "100%|██████████| 648/648 [00:05<00:00, 109.47it/s]\n"
          ]
        },
        {
          "name": "stdout",
          "output_type": "stream",
          "text": [
            "Validation\n"
          ]
        },
        {
          "name": "stderr",
          "output_type": "stream",
          "text": [
            "100%|██████████| 81/81 [00:00<00:00, 444.93it/s]"
          ]
        },
        {
          "name": "stdout",
          "output_type": "stream",
          "text": [
            "Epoch 50 finished in 6.13s\n",
            "[Epoch 50]\tTrain Loss: 0.33993\tValidation Loss: 0.00006\t F1 score macro: 0.599362\n"
          ]
        },
        {
          "name": "stderr",
          "output_type": "stream",
          "text": [
            "\n"
          ]
        }
      ],
      "source": [
        "\"\"\"\n",
        "Train the model for num_epochs epochs\n",
        "epoch_true and epoch_all are used to calculate the accuracy.\n",
        "epoch_true is the number of correct predictions and epoch_all is the total number of predictions in the epoch\n",
        "\"\"\"\n",
        "num_epochs = 50\n",
        "\n",
        "train_loss_arr, val_loss_arr = [], []\n",
        "f1_macro_scores_train, f1_macro_scores_val = [], []\n",
        "best_val_loss = np.inf\n",
        "best_model = None\n",
        "\n",
        "for epoch in range(num_epochs):\n",
        "    start_time = time()\n",
        "\n",
        "    train_loss, val_loss = 0, 0\n",
        "    epoch_all = 0\n",
        "    epoch_true = 0\n",
        "\n",
        "    predicted_labels = []\n",
        "    true_labels = []\n",
        "\n",
        "    model.train()\n",
        "\n",
        "    with tqdm(enumerate(train_loader), total=len(train_loader)) as pbar:\n",
        "        for i, (x, label) in pbar:\n",
        "            optimizer.zero_grad()\n",
        "            x = x.to(torch.float32).to(device).view(x.shape[0], -1)\n",
        "            label = label.to(device)\n",
        "            y_pred = model(x)\n",
        "            loss = criterion(y_pred, label)\n",
        "            loss.backward()\n",
        "            _, preds = torch.max(y_pred, dim=1)\n",
        "            optimizer.step()\n",
        "            train_loss += loss.item() * x.size(0)\n",
        "\n",
        "            predicted_labels.extend(preds.tolist())\n",
        "            true_labels.extend(label.tolist())\n",
        "\n",
        "    model.eval()\n",
        "    f1_score_macro_train = f1_score(true_labels, predicted_labels, average=\"macro\")\n",
        "    val_loss, predicted_labels, true_labels, f1_score_macro_val = eval_epoch(\n",
        "        model, criterion, val_loader\n",
        "    )\n",
        "\n",
        "    train_loss /= len(train_loader.dataset)\n",
        "    val_loss /= len(val_loader.dataset)\n",
        "    train_loss_arr.append(train_loss)\n",
        "    val_loss_arr.append(val_loss)\n",
        "    f1_macro_scores_train.append(f1_score_macro_train)\n",
        "    f1_macro_scores_val.append(f1_score_macro_val)\n",
        "\n",
        "    if val_loss < best_val_loss:\n",
        "        best_val_loss = val_loss\n",
        "        best_model = model\n",
        "        torch.save(model.state_dict(), \"best_model.pt\")\n",
        "\n",
        "    end_time = time()\n",
        "\n",
        "    print(f\"Epoch {epoch + 1} finished in {end_time - start_time:.2f}s\")\n",
        "\n",
        "    print(\n",
        "        f\"[Epoch {epoch + 1}]\\t\"\n",
        "        f\"Train Loss: {train_loss:.5f}\\t\"\n",
        "        f\"Validation Loss: {val_loss:.5f}\\t F1 score macro: {f1_score_macro:.6f}\"\n",
        "    )"
      ]
    },
    {
      "cell_type": "markdown",
      "metadata": {
        "id": "905b1GLT-Maj"
      },
      "source": [
        "<div dir=\"rtl\">\n",
        "<font face=\"XB Zar\" size=5>\n",
        "</font>\n",
        "<font face=\"XB Zar\" size=3>\n",
        "     <br>\n",
        "نمودار loss بر حسب epoch را برای داده‌های train و validation رسم کنید.\n",
        "    </font>\n",
        "</div>"
      ]
    },
    {
      "cell_type": "code",
      "execution_count": null,
      "metadata": {
        "id": "bAKTiXnu-Maj",
        "outputId": "ab046f1a-8ad1-4f6f-d794-410bf06e70e1"
      },
      "outputs": [
        {
          "data": {
            "image/png": "[encoded data removed]",
            "text/plain": [
              "<Figure size 640x480 with 1 Axes>"
            ]
          },
          "metadata": {},
          "output_type": "display_data"
        }
      ],
      "source": [
        "# todo: plot the train and validation loss by epoch\n",
        "# plot them seperately\n",
        "plt.plot(train_loss_arr, label=\"train loss\")\n",
        "plt.xlabel(\"epoch\")\n",
        "plt.ylabel(\"Training loss\")\n",
        "plt.show()"
      ]
    },
    {
      "cell_type": "code",
      "execution_count": null,
      "metadata": {
        "id": "VgXA_UNi-Maj",
        "outputId": "8b6e9b45-e588-44bc-8c52-5286d3d50390"
      },
      "outputs": [
        {
          "data": {
            "image/png": "[encoded data removed]",
            "text/plain": [
              "<Figure size 640x480 with 1 Axes>"
            ]
          },
          "metadata": {},
          "output_type": "display_data"
        }
      ],
      "source": [
        "plt.plot(val_loss_arr, label=\"val loss\", color=\"red\")\n",
        "plt.xlabel(\"epoch\")\n",
        "plt.ylabel(\"Validation loss\")\n",
        "plt.show()"
      ]
    },
    {
      "cell_type": "markdown",
      "metadata": {
        "id": "AoqvWh2p-Mak"
      },
      "source": [
        "<div dir=\"rtl\">\n",
        "<font face=\"XB Zar\" size=5>\n",
        "</font>\n",
        "<font face=\"XB Zar\" size=3>\n",
        "     <br>\n",
        "نمودار f1 score بر حسب epoch را برای داده‌های train و validation رسم کنید.\n",
        "    </font>\n",
        "</div>"
      ]
    },
    {
      "cell_type": "code",
      "execution_count": null,
      "metadata": {
        "id": "V6uQU4oN-Mak",
        "outputId": "b9131883-82f8-41da-becd-a7803cf62bde"
      },
      "outputs": [
        {
          "data": {
            "image/png": "[encoded data removed]",
            "text/plain": [
              "<Figure size 640x480 with 1 Axes>"
            ]
          },
          "metadata": {},
          "output_type": "display_data"
        }
      ],
      "source": [
        "# todo: plot the f1 score by epoch\n",
        "plt.plot(f1_macro_scores_train, label=\"train f1 score\")\n",
        "plt.plot(f1_macro_scores_val, label=\"val f1 score\")\n",
        "plt.legend()\n",
        "plt.show()"
      ]
    },
    {
      "cell_type": "markdown",
      "metadata": {
        "id": "-bB9D3ao-Mak"
      },
      "source": [
        "## Evaluate model"
      ]
    },
    {
      "cell_type": "markdown",
      "metadata": {
        "id": "_WqW9LCQ-Mak"
      },
      "source": [
        "<div dir=\"rtl\">\n",
        "<font face=\"XB Zar\" size=5>\n",
        "</font>\n",
        "<font face=\"XB Zar\" size=3>\n",
        "     <br>\n",
        "حال داده‌ی test را به مدلتان دهید و بر اساس خروجی‌ها موارد زیر را به دست آورید.\n",
        "    <br>\n",
        "    <br>\n",
        "    <ul>\n",
        "        <li>accuracy</li>\n",
        "        <li>Loss</li>\n",
        "        <li>F1-Macro</li>\n",
        "        <li>F1-Micro</li>\n",
        "        <li>Confusion matrix</li>\n",
        "        <li>Macro-average precision</li>\n",
        "        <li>Macro-average recall</li>\n",
        "        <li>Micro-average precision</li>\n",
        "        <li>Micro-average recall</li>\n",
        "    </ul>\n",
        "    </font>\n",
        "</div>"
      ]
    },
    {
      "cell_type": "code",
      "execution_count": null,
      "metadata": {
        "id": "wSIEXM9H-Mak",
        "outputId": "4e7c46ba-b69a-47dd-a989-e09a58294eab"
      },
      "outputs": [
        {
          "name": "stdout",
          "output_type": "stream",
          "text": [
            "Test\n"
          ]
        },
        {
          "name": "stderr",
          "output_type": "stream",
          "text": [
            "100%|██████████| 81/81 [00:00<00:00, 356.09it/s]\n"
          ]
        },
        {
          "name": "stdout",
          "output_type": "stream",
          "text": [
            "Test Loss: 0.33003068264619806\t F1 score macro: 0.5957372179616404\n",
            "Accuracy: 0.8648126689841638\n",
            "Macro Average Precision: 0.90594809589223\n",
            "Macro Average Recall: 0.614612062179023\n",
            "Micro Average Precision: 0.8648126689841638\n",
            "Micro Average Recall: 0.8648126689841638\n",
            "F-1 score macro: 0.5957372179616404\n",
            "F-1 score micro: 0.8648126689841638\n"
          ]
        },
        {
          "data": {
            "image/png": "[encoded data removed]",
            "text/plain": [
              "<Figure size 640x480 with 2 Axes>"
            ]
          },
          "metadata": {},
          "output_type": "display_data"
        }
      ],
      "source": [
        "from sklearn.metrics import (\n",
        "    accuracy_score,\n",
        "    precision_score,\n",
        "    recall_score,\n",
        "    f1_score,\n",
        "    confusion_matrix,\n",
        ")\n",
        "import seaborn as sns\n",
        "\n",
        "# todo: evaluate the model on the test set\n",
        "# print the required metrics\n",
        "model.eval()\n",
        "eval_loss, predicted_labels, true_labels, f1_score_macro = eval_epoch(\n",
        "    model, criterion, test_loader, test_mode=True\n",
        ")\n",
        "\n",
        "print(f\"Test Loss: {eval_loss}\\t F1 score macro: {f1_score_macro}\")\n",
        "print(f\"Accuracy: {accuracy_score(true_labels, predicted_labels)}\")\n",
        "print(\n",
        "    f\"Macro Average Precision: {precision_score(true_labels, predicted_labels, average='macro')}\"\n",
        ")\n",
        "print(\n",
        "    f\"Macro Average Recall: {recall_score(true_labels, predicted_labels, average='macro')}\"\n",
        ")\n",
        "print(\n",
        "    f\"Micro Average Precision: {precision_score(true_labels, predicted_labels, average='micro')}\"\n",
        ")\n",
        "print(\n",
        "    f\"Micro Average Recall: {recall_score(true_labels, predicted_labels, average='micro')}\"\n",
        ")\n",
        "print(f\"F-1 score macro: {f1_score(true_labels, predicted_labels, average='macro')}\")\n",
        "print(f\"F-1 score micro: {f1_score(true_labels, predicted_labels, average='micro')}\")\n",
        "\n",
        "# Draw confusion matrix\n",
        "cm = confusion_matrix(true_labels, predicted_labels)\n",
        "sns.heatmap(cm, annot=True, cmap=\"Reds\", fmt=\"d\")\n",
        "plt.show()"
      ]
    },
    {
      "cell_type": "markdown",
      "metadata": {
        "id": "hgCd3cGc-Mak"
      },
      "source": [
        "<div dir=\"rtl\">\n",
        "<font face=\"XB Zar\" size=3>\n",
        "     <br>\n",
        "در نهایت در این قسمت تابعی بنویسید که یک متن را به عنوان ورودی بگیرد و بر اساس مدلتان برچسب‌ مناسب را به آن بدهد.\n",
        "    <br>\n",
        "    <br>\n",
        "    </font>\n",
        "</div>\n",
        "    "
      ]
    },
    {
      "cell_type": "code",
      "execution_count": null,
      "metadata": {
        "id": "ycHm_ott-Mak"
      },
      "outputs": [],
      "source": [
        "def predict(x):\n",
        "    \"\"\"\n",
        "    predict the class code of a given query\n",
        "    :param x: the query\n",
        "    :return: the class of the query in the form of real strings.\n",
        "    \"\"\"\n",
        "    # todo\n",
        "    x = FastText_model.get_query_embedding(x, TF_IDF_model.vectorizer)\n",
        "    x = torch.tensor(x, dtype=torch.float32)\n",
        "    x = x.to(device)\n",
        "    x = x.view(x.shape[0], -1)\n",
        "    predicted_label = model(x)\n",
        "    predicted_class = predicted_label.argmax(dim=1)\n",
        "    if predicted_class == 0:\n",
        "        predicted_class = \"cv.CV\"\n",
        "    elif predicted_class == 1:\n",
        "        predicted_class = \"cs.LG\"\n",
        "    elif predicted_class == 2:\n",
        "        predicted_class = \"stat.ML\"\n",
        "    else:\n",
        "        raise ValueError(\"Invalid class\")\n",
        "    return predicted_class"
      ]
    },
    {
      "cell_type": "code",
      "execution_count": null,
      "metadata": {
        "id": "Rk5z7Zp_-Mak",
        "outputId": "de92fba4-6c81-498e-c6a4-0fd7e3a41f8e"
      },
      "outputs": [
        {
          "data": {
            "text/plain": [
              "'cs.LG'"
            ]
          },
          "execution_count": 76,
          "metadata": {},
          "output_type": "execute_result"
        }
      ],
      "source": [
        "predict(\"hardware and computerc architecture is good\")"
      ]
    },
    {
      "cell_type": "code",
      "execution_count": null,
      "metadata": {
        "id": "RUqo_4EO-Mak"
      },
      "outputs": [],
      "source": [
        "PATH = \"nn_fasttext_model.pt\"\n",
        "\n",
        "# Save\n",
        "torch.save(model, PATH)"
      ]
    },
    {
      "cell_type": "markdown",
      "metadata": {
        "id": "_gcBJKJ2-Mal"
      },
      "source": [
        "<div dir=\"rtl\">\n",
        "<font face=\"XB Zar\" size=5>\n",
        "    <h1>\n",
        "    <b>دسته بندی با استفاده از مدل های زبانی (۴۰ نمره)</b>\n",
        "    </h1>\n",
        "    <p></p>\n",
        "    <p></p>\n",
        "</font>\n",
        "<font face=\"XB Zar\" size=3>\n",
        "     <br>\n",
        "در این قسمت قرار است تا به کمک language modelهای از پیش آموزش شده \n",
        "و fine-tune کردن آن‌ها طبقه‌بند خودمان را درست کنیم.\n",
        "</font>\n",
        "</div>\n",
        "   "
      ]
    },
    {
      "cell_type": "markdown",
      "metadata": {
        "id": "TqiZFslx-Mal"
      },
      "source": [
        "## Requirements"
      ]
    },
    {
      "cell_type": "code",
      "execution_count": 83,
      "metadata": {
        "id": "tBMm4kBH-Mal"
      },
      "outputs": [],
      "source": [
        "import torch\n",
        "import nltk\n",
        "import numpy as np\n",
        "import pandas as pd\n",
        "from tqdm import tqdm\n",
        "from nltk import word_tokenize\n",
        "import string\n",
        "from sklearn.model_selection import train_test_split\n",
        "import torch\n",
        "from transformers import (\n",
        "    BertTokenizer,\n",
        "    BertForSequenceClassification,\n",
        "    TrainingArguments,\n",
        "    Trainer,\n",
        ")\n",
        "from sklearn.metrics import precision_recall_fscore_support\n",
        "from sklearn.metrics import recall_score\n",
        "from sklearn.metrics import f1_score\n",
        "from sklearn.metrics import accuracy_score\n",
        "from sklearn.metrics import confusion_matrix, ConfusionMatrixDisplay\n",
        "import random"
      ]
    },
    {
      "cell_type": "markdown",
      "metadata": {
        "id": "hQo5ziUQ-Mal"
      },
      "source": [
        "## Read and preprocess data"
      ]
    },
    {
      "cell_type": "markdown",
      "metadata": {
        "id": "IMFQsXEr-Mal"
      },
      "source": [
        "\n",
        "<div dir=\"rtl\">\n",
        "<font face=\"XB Zar\" size=5>\n",
        "</font>\n",
        "<font face=\"XB Zar\" size=3>\n",
        "     <br>\n",
        "در ابتدا دیتا را لود کنید. آن را تمیز کنید یا به عبارتی EDA مناسب در حدی که داده‌های null یا موارد این‌چنینی نداشته باشیم، بر روی آن انجام دهید.\n",
        " پیش پردازش‌های مورد نیاز که در فاز قبل با آن آشنا شدید را روی داده انجام دهید.\n",
        "    برای کتگوری هر مقاله برچسب اول آن را از دیتاست در نظر بگیرید.\n",
        "</font>\n",
        "</div>"
      ]
    },
    {
      "cell_type": "code",
      "execution_count": null,
      "metadata": {
        "id": "w5UAi0Nf-Mal"
      },
      "outputs": [],
      "source": [
        "# Already Done! In the previous sections"
      ]
    },
    {
      "cell_type": "code",
      "execution_count": 84,
      "metadata": {
        "colab": {
          "base_uri": "https://localhost:8080/",
          "height": 35
        },
        "id": "xPlEyzBv-Mal",
        "outputId": "eb651fc6-81a5-4dd9-d82a-daa8a1089fd3"
      },
      "outputs": [
        {
          "output_type": "execute_result",
          "data": {
            "text/plain": [
              "'stereo matching one widely used techniques inferring depth stereo images owing robustness speed beco'"
            ],
            "application/vnd.google.colaboratory.intrinsic+json": {
              "type": "string"
            }
          },
          "metadata": {},
          "execution_count": 84
        }
      ],
      "source": [
        "texts = [\" \".join(it) for it in preprocessed_total]\n",
        "texts[0][:100]"
      ]
    },
    {
      "cell_type": "code",
      "execution_count": 91,
      "metadata": {
        "colab": {
          "base_uri": "https://localhost:8080/"
        },
        "id": "ZyQAvU_6-Mal",
        "outputId": "a74d0b08-2d99-4210-8cdd-98dcdcea4fd2"
      },
      "outputs": [
        {
          "output_type": "execute_result",
          "data": {
            "text/plain": [
              "array([0, 0, 0, ..., 2, 0, 2])"
            ]
          },
          "metadata": {},
          "execution_count": 91
        }
      ],
      "source": [
        "labels"
      ]
    },
    {
      "cell_type": "markdown",
      "metadata": {
        "id": "MYkj-AI6-Mal"
      },
      "source": [
        "## Prepare data for model"
      ]
    },
    {
      "cell_type": "markdown",
      "metadata": {
        "id": "6Omcv9QU-Mal"
      },
      "source": [
        "\n",
        "<div dir=\"rtl\">\n",
        "<font face=\"XB Zar\" size=5>\n",
        "</font>\n",
        "<font face=\"XB Zar\" size=3>\n",
        "     <br>\n",
        "     در این قسمت برچسب‌ها و متن‌ها را برای مدل آماده کنید.\n",
        "     برای متن هم عنوان و هم چکیده را در نظر بگیرید و این دو را به هم بچسبانید.\n",
        "     به صورت رندم، ۱۰۰۰۰ داده را برای تمرین انتخاب کنید.\n",
        "     همچنین جدا‌سازی داده‌ها را انجام دهید.\n",
        "     در این بخش کافی است تا داده‌ها را به دو دسته‌ی آموزش و تست تقسیم کنید. 80% داده‌ها برای آموزش و 20% را برای تست قرار دهید.\n",
        "    </font>\n",
        "</div>"
      ]
    },
    {
      "cell_type": "code",
      "execution_count": 92,
      "metadata": {
        "id": "M0uNpul7-Mal"
      },
      "outputs": [],
      "source": [
        "# todo\n",
        "# calculate labels\n",
        "# calulcate final texts\n",
        "# select 10000 data randomly\n",
        "# split data into train and test\n",
        "\n",
        "\n",
        "random_state = 1\n",
        "X_train, X_test, y_train, y_test = train_test_split(\n",
        "    texts, labels, test_size=0.2, random_state=random_state\n",
        ")"
      ]
    },
    {
      "cell_type": "code",
      "source": [
        "X_train = X_train[:10000]\n",
        "y_train = y_train[:10000]\n",
        "X_test = X_test[:10000]\n",
        "y_test = y_test[:10000]"
      ],
      "metadata": {
        "id": "FfH_ObCxVXMn"
      },
      "execution_count": 93,
      "outputs": []
    },
    {
      "cell_type": "markdown",
      "metadata": {
        "id": "hlUYII0_-Mal"
      },
      "source": [
        "## Transformer based classification"
      ]
    },
    {
      "cell_type": "markdown",
      "metadata": {
        "id": "aYjlsVb4-Mam"
      },
      "source": [
        "\n",
        "<div dir=\"rtl\">\n",
        "<font face=\"XB Zar\" size=5>\n",
        "</font>\n",
        "<font face=\"XB Zar\" size=3>\n",
        "     <br>\n",
        "مدلی که در این قسمت استفاده می‌کنیم مدل معروف bert می‌باشد.\n",
        "    برای این کار از کتابخانه transformers استفاده می‌کنیم.\n",
        "    مدل و tokenizer مربوطه را لود کنید.\n",
        "    <br><b><u>\n",
        "    به کمک داده‌های قسمت قبل و به کمک \n",
        "    Trainer\n",
        "    مربوط به کتاب‌خانه‌ی transformers عملیات fine-tune را انجام دهید.\n",
        "    <br>\n",
        "    همچنین یکبار وزن‌های مدل برت را فریز کنید و فقط دسته‌بند مربوطه را آموزش دهید.\n",
        "    </u></b><br>\n",
        "    مطالعه‌ی بیشتر کتاب‌خانه‌ی transformers بسیار توصیه می‌شود.\n",
        "    </font>\n",
        "</div>"
      ]
    },
    {
      "cell_type": "code",
      "execution_count": null,
      "metadata": {
        "colab": {
          "base_uri": "https://localhost:8080/",
          "height": 250,
          "referenced_widgets": [
            "bf03b967dd9e46739176080d1ebde044",
            "a6359bec2cae40e5a652945eb2db030e",
            "fa7a1a237cb94b928a2d607a0a73c8ae",
            "1feef5a0a55e41d38b62e347fd26768a",
            "1f03fa54e2c5408188ee69bf73cead9c",
            "a02ed874953c4fbb95d92502b334dea8",
            "1a0a2e12600e40c0b0d256c6f593360e",
            "457d489b532c435bb24f3fb2e9f09c4a",
            "8cd97cbeeb7b48749494d549fc50e07b",
            "5e5ab05b13794e17b642d4a62d59448d",
            "d4dddff49c9240f1baf285c9fec12ce7",
            "8036324d832a4159be8c814667990c98",
            "580fe55e48b84238ba6e21ed81300d27",
            "8307866b080841f4a5d47897771ddf17",
            "dc7e3719cc2d4fed982934e8b92c88ec",
            "5a8fa21657e9413ba557bd4aa0c74e10",
            "3f1b9884cb4d404fa5ebf55800c9062b",
            "4fab8d324c3445fe9b4ac602668701d8",
            "91e1fd61f1824debbffe978a0adab931",
            "90ebd9eaf36145bda64416ca1c35abae",
            "9b1cf8f399f247e6b6af8afcf0fd5d0e",
            "365d538c3efb4d398e15973770ca5300",
            "c9404b3ef14f4df197345c038fd567d8",
            "3f8d89b26b2d4b5bac5b7e7a0ce58ca0",
            "330f8ee2ce67410f9a80301ee040866f",
            "6aeabca29f0c4ed7a8b09e194d8be57d",
            "dae71983537449e083fe847968d98dfe",
            "35e51fb0f2104886b2fb54f21560d961",
            "b4c96f7b5ff04e22a32f0089028c672e",
            "13402e5c6c144441b2b7400a7ce4cb68",
            "87dc2a73ce8944c9af71eb808fa20fb1",
            "06d189d5704c47dc830bd38f804a2fb3",
            "e548e38bed724ae2a5270bfe2e951619",
            "9685f3b4521d42d28c2e47a2d4866e87",
            "1076c4a5ba0d4cbba556f5d60b094876",
            "be132f7c255d49d6a3571e4803934c48",
            "6d77d07f8328489682d365d1ee76dc2f",
            "e243cc999c9f45b2af30f082763435d2",
            "6d1e85c017a445279dc0a2cd429ac3ec",
            "49e230f87d7d47439d4abfbc9a68db3d",
            "b200408275fc4d789dd140f72ffe8fea",
            "7f1fe4de92e54920b7ca6570ca73a9d8",
            "ae66fd753a324bf39c756430bcafce3d",
            "0abd39b81251448aabd1e0eefda68d78"
          ]
        },
        "id": "D9TgoObc-Mam",
        "outputId": "543460c6-307a-43be-800f-2718ff081097"
      },
      "outputs": [
        {
          "output_type": "display_data",
          "data": {
            "text/plain": [
              "Downloading (…)lve/main/config.json:   0%|          | 0.00/570 [00:00<?, ?B/s]"
            ],
            "application/vnd.jupyter.widget-view+json": {
              "version_major": 2,
              "version_minor": 0,
              "model_id": "bf03b967dd9e46739176080d1ebde044"
            }
          },
          "metadata": {}
        },
        {
          "output_type": "display_data",
          "data": {
            "text/plain": [
              "Downloading pytorch_model.bin:   0%|          | 0.00/440M [00:00<?, ?B/s]"
            ],
            "application/vnd.jupyter.widget-view+json": {
              "version_major": 2,
              "version_minor": 0,
              "model_id": "8036324d832a4159be8c814667990c98"
            }
          },
          "metadata": {}
        },
        {
          "output_type": "stream",
          "name": "stderr",
          "text": [
            "Some weights of the model checkpoint at bert-base-uncased were not used when initializing BertForSequenceClassification: ['cls.predictions.transform.dense.weight', 'cls.seq_relationship.weight', 'cls.predictions.transform.LayerNorm.bias', 'cls.seq_relationship.bias', 'cls.predictions.decoder.weight', 'cls.predictions.bias', 'cls.predictions.transform.LayerNorm.weight', 'cls.predictions.transform.dense.bias']\n",
            "- This IS expected if you are initializing BertForSequenceClassification from the checkpoint of a model trained on another task or with another architecture (e.g. initializing a BertForSequenceClassification model from a BertForPreTraining model).\n",
            "- This IS NOT expected if you are initializing BertForSequenceClassification from the checkpoint of a model that you expect to be exactly identical (initializing a BertForSequenceClassification model from a BertForSequenceClassification model).\n",
            "Some weights of BertForSequenceClassification were not initialized from the model checkpoint at bert-base-uncased and are newly initialized: ['classifier.weight', 'classifier.bias']\n",
            "You should probably TRAIN this model on a down-stream task to be able to use it for predictions and inference.\n"
          ]
        },
        {
          "output_type": "display_data",
          "data": {
            "text/plain": [
              "Downloading (…)solve/main/vocab.txt:   0%|          | 0.00/232k [00:00<?, ?B/s]"
            ],
            "application/vnd.jupyter.widget-view+json": {
              "version_major": 2,
              "version_minor": 0,
              "model_id": "c9404b3ef14f4df197345c038fd567d8"
            }
          },
          "metadata": {}
        },
        {
          "output_type": "display_data",
          "data": {
            "text/plain": [
              "Downloading (…)okenizer_config.json:   0%|          | 0.00/28.0 [00:00<?, ?B/s]"
            ],
            "application/vnd.jupyter.widget-view+json": {
              "version_major": 2,
              "version_minor": 0,
              "model_id": "9685f3b4521d42d28c2e47a2d4866e87"
            }
          },
          "metadata": {}
        }
      ],
      "source": [
        "MODEL_NAME = \"bert-base-uncased\"\n",
        "device = torch.device(\n",
        "    \"mps\"\n",
        "    if torch.backends.mps.is_available()\n",
        "    else \"cuda\"\n",
        "    if torch.cuda.is_available()\n",
        "    else \"cpu\"\n",
        ")\n",
        "\n",
        "# todo\n",
        "# you can add more cells here if you need\n",
        "model = BertForSequenceClassification.from_pretrained(MODEL_NAME, num_labels=3)\n",
        "tokenizer = BertTokenizer.from_pretrained(MODEL_NAME)"
      ]
    },
    {
      "cell_type": "code",
      "execution_count": 94,
      "metadata": {
        "id": "K-CD5ehn-Mam"
      },
      "outputs": [],
      "source": [
        "# todo\n",
        "train_encodings, test_encodings, label_train, label_test = train_test_split(\n",
        "    texts, labels, test_size=0.2, random_state=random_state\n",
        ")"
      ]
    },
    {
      "cell_type": "code",
      "source": [
        "train_encodings = train_encodings[:10000]\n",
        "label_train = label_train[:10000]\n",
        "test_encodings = test_encodings[:10000]\n",
        "label_test = label_test[:10000]"
      ],
      "metadata": {
        "id": "zBOH0ho0Vrw7"
      },
      "execution_count": 95,
      "outputs": []
    },
    {
      "cell_type": "code",
      "execution_count": 96,
      "metadata": {
        "id": "7kgrkLkP-Mam"
      },
      "outputs": [],
      "source": [
        "# todo\n",
        "class CustomDataset(torch.utils.data.Dataset):\n",
        "    def __init__(self, encodings, labels):\n",
        "        self.encodings = encodings\n",
        "        self.labels = labels\n",
        "\n",
        "    def __getitem__(self, idx):\n",
        "        txt = self.encodings[idx]\n",
        "        label = self.labels[idx]\n",
        "\n",
        "        encoding = tokenizer.encode_plus(\n",
        "            txt,\n",
        "            add_special_tokens=True,\n",
        "            return_tensors=\"pt\",\n",
        "            max_length=256,\n",
        "            truncation=True,\n",
        "            padding=\"max_length\",\n",
        "        )\n",
        "\n",
        "        return {\n",
        "            \"input_ids\": encoding[\"input_ids\"].squeeze(),\n",
        "            \"attention_mask\": encoding[\"attention_mask\"].squeeze(),\n",
        "            \"labels\": torch.tensor(label),\n",
        "        }\n",
        "\n",
        "    def __len__(self):\n",
        "        return len(self.labels)\n",
        "\n",
        "\n",
        "train_dataset = CustomDataset(train_encodings, y_train)\n",
        "test_dataset = CustomDataset(test_encodings, y_test)"
      ]
    },
    {
      "cell_type": "code",
      "execution_count": 97,
      "metadata": {
        "id": "bFxdqKUb-Mam"
      },
      "outputs": [],
      "source": [
        "from torch.utils.data import DataLoader\n",
        "\n",
        "train_loader = DataLoader(train_dataset, batch_size=8, shuffle=True)\n",
        "val_loader = DataLoader(test_dataset, batch_size=8, shuffle=False)"
      ]
    },
    {
      "cell_type": "code",
      "source": [
        "def compute_metrics(pred):\n",
        "    labels = pred.label_ids\n",
        "    predictions = pred.predictions.argmax(-1)\n",
        "    \n",
        "    precision, recall, f1, _ = precision_recall_fscore_support(labels, predictions, average='macro')\n",
        "    \n",
        "    return {\n",
        "        'precision': precision,\n",
        "        'recall': recall,\n",
        "        'f1': f1\n",
        "    }"
      ],
      "metadata": {
        "id": "WxyrT_tLY61L"
      },
      "execution_count": 99,
      "outputs": []
    },
    {
      "cell_type": "code",
      "execution_count": 100,
      "metadata": {
        "colab": {
          "base_uri": "https://localhost:8080/",
          "height": 242
        },
        "id": "yaB17fFq-Mam",
        "outputId": "c113c070-af6c-4c19-f446-5c8fe78cfe74"
      },
      "outputs": [
        {
          "output_type": "stream",
          "name": "stderr",
          "text": [
            "/usr/local/lib/python3.10/dist-packages/transformers/optimization.py:391: FutureWarning: This implementation of AdamW is deprecated and will be removed in a future version. Use the PyTorch implementation torch.optim.AdamW instead, or set `no_deprecation_warning=True` to disable this warning\n",
            "  warnings.warn(\n"
          ]
        },
        {
          "output_type": "display_data",
          "data": {
            "text/plain": [
              "<IPython.core.display.HTML object>"
            ],
            "text/html": [
              "\n",
              "    <div>\n",
              "      \n",
              "      <progress value='2500' max='2500' style='width:300px; height:20px; vertical-align: middle;'></progress>\n",
              "      [2500/2500 22:11, Epoch 2/2]\n",
              "    </div>\n",
              "    <table border=\"1\" class=\"dataframe\">\n",
              "  <thead>\n",
              " <tr style=\"text-align: left;\">\n",
              "      <th>Epoch</th>\n",
              "      <th>Training Loss</th>\n",
              "      <th>Validation Loss</th>\n",
              "      <th>Precision</th>\n",
              "      <th>Recall</th>\n",
              "      <th>F1</th>\n",
              "    </tr>\n",
              "  </thead>\n",
              "  <tbody>\n",
              "    <tr>\n",
              "      <td>1</td>\n",
              "      <td>0.575500</td>\n",
              "      <td>0.516775</td>\n",
              "      <td>0.764031</td>\n",
              "      <td>0.742355</td>\n",
              "      <td>0.751420</td>\n",
              "    </tr>\n",
              "    <tr>\n",
              "      <td>2</td>\n",
              "      <td>0.272200</td>\n",
              "      <td>0.539419</td>\n",
              "      <td>0.761746</td>\n",
              "      <td>0.739534</td>\n",
              "      <td>0.749380</td>\n",
              "    </tr>\n",
              "  </tbody>\n",
              "</table><p>"
            ]
          },
          "metadata": {}
        },
        {
          "output_type": "execute_result",
          "data": {
            "text/plain": [
              "TrainOutput(global_step=2500, training_loss=0.24485196822583674, metrics={'train_runtime': 1332.0789, 'train_samples_per_second': 15.014, 'train_steps_per_second': 1.877, 'total_flos': 2631134177280000.0, 'train_loss': 0.24485196822583674, 'epoch': 2.0})"
            ]
          },
          "metadata": {},
          "execution_count": 100
        }
      ],
      "source": [
        "model = model.to(device)\n",
        "\n",
        "training_args = TrainingArguments(\n",
        "    output_dir=\"./results\",\n",
        "    num_train_epochs=2,\n",
        "    per_device_train_batch_size=8,\n",
        "    per_device_eval_batch_size=8,\n",
        "    warmup_steps=500,\n",
        "    weight_decay=0.001,\n",
        "    logging_dir=\"./logs\",\n",
        "    logging_steps=10,\n",
        "    load_best_model_at_end=True,\n",
        "    evaluation_strategy=\"epoch\",\n",
        "    save_strategy=\"epoch\",\n",
        "    metric_for_best_model=\"f1\",\n",
        "    greater_is_better=True,\n",
        ")\n",
        "\n",
        "trainer = Trainer(\n",
        "    model=model,\n",
        "    args=training_args,\n",
        "    train_dataset=train_dataset,\n",
        "    eval_dataset=test_dataset,\n",
        "    compute_metrics=compute_metrics,\n",
        ")\n",
        "\n",
        "trainer.train()"
      ]
    },
    {
      "cell_type": "code",
      "execution_count": 102,
      "metadata": {
        "id": "xVkZv4c0-Mam",
        "colab": {
          "base_uri": "https://localhost:8080/",
          "height": 395
        },
        "outputId": "2be3cf44-7c24-43ea-f4fa-a259dc795c3f"
      },
      "outputs": [
        {
          "output_type": "stream",
          "name": "stderr",
          "text": [
            "Some weights of the model checkpoint at bert-base-uncased were not used when initializing BertForSequenceClassification: ['cls.predictions.transform.dense.weight', 'cls.seq_relationship.weight', 'cls.predictions.transform.LayerNorm.bias', 'cls.seq_relationship.bias', 'cls.predictions.decoder.weight', 'cls.predictions.bias', 'cls.predictions.transform.LayerNorm.weight', 'cls.predictions.transform.dense.bias']\n",
            "- This IS expected if you are initializing BertForSequenceClassification from the checkpoint of a model trained on another task or with another architecture (e.g. initializing a BertForSequenceClassification model from a BertForPreTraining model).\n",
            "- This IS NOT expected if you are initializing BertForSequenceClassification from the checkpoint of a model that you expect to be exactly identical (initializing a BertForSequenceClassification model from a BertForSequenceClassification model).\n",
            "Some weights of BertForSequenceClassification were not initialized from the model checkpoint at bert-base-uncased and are newly initialized: ['classifier.weight', 'classifier.bias']\n",
            "You should probably TRAIN this model on a down-stream task to be able to use it for predictions and inference.\n",
            "/usr/local/lib/python3.10/dist-packages/transformers/optimization.py:391: FutureWarning: This implementation of AdamW is deprecated and will be removed in a future version. Use the PyTorch implementation torch.optim.AdamW instead, or set `no_deprecation_warning=True` to disable this warning\n",
            "  warnings.warn(\n"
          ]
        },
        {
          "output_type": "display_data",
          "data": {
            "text/plain": [
              "<IPython.core.display.HTML object>"
            ],
            "text/html": [
              "\n",
              "    <div>\n",
              "      \n",
              "      <progress value='2500' max='2500' style='width:300px; height:20px; vertical-align: middle;'></progress>\n",
              "      [2500/2500 12:21, Epoch 2/2]\n",
              "    </div>\n",
              "    <table border=\"1\" class=\"dataframe\">\n",
              "  <thead>\n",
              " <tr style=\"text-align: left;\">\n",
              "      <th>Epoch</th>\n",
              "      <th>Training Loss</th>\n",
              "      <th>Validation Loss</th>\n",
              "      <th>Precision</th>\n",
              "      <th>Recall</th>\n",
              "      <th>F1</th>\n",
              "    </tr>\n",
              "  </thead>\n",
              "  <tbody>\n",
              "    <tr>\n",
              "      <td>1</td>\n",
              "      <td>0.888200</td>\n",
              "      <td>0.813358</td>\n",
              "      <td>0.459971</td>\n",
              "      <td>0.374047</td>\n",
              "      <td>0.318162</td>\n",
              "    </tr>\n",
              "    <tr>\n",
              "      <td>2</td>\n",
              "      <td>0.865200</td>\n",
              "      <td>0.793122</td>\n",
              "      <td>0.470667</td>\n",
              "      <td>0.450168</td>\n",
              "      <td>0.433768</td>\n",
              "    </tr>\n",
              "  </tbody>\n",
              "</table><p>"
            ]
          },
          "metadata": {}
        },
        {
          "output_type": "stream",
          "name": "stderr",
          "text": [
            "/usr/local/lib/python3.10/dist-packages/sklearn/metrics/_classification.py:1344: UndefinedMetricWarning: Precision and F-score are ill-defined and being set to 0.0 in labels with no predicted samples. Use `zero_division` parameter to control this behavior.\n",
            "  _warn_prf(average, modifier, msg_start, len(result))\n",
            "/usr/local/lib/python3.10/dist-packages/sklearn/metrics/_classification.py:1344: UndefinedMetricWarning: Precision and F-score are ill-defined and being set to 0.0 in labels with no predicted samples. Use `zero_division` parameter to control this behavior.\n",
            "  _warn_prf(average, modifier, msg_start, len(result))\n"
          ]
        },
        {
          "output_type": "execute_result",
          "data": {
            "text/plain": [
              "TrainOutput(global_step=2500, training_loss=0.860349822807312, metrics={'train_runtime': 741.6442, 'train_samples_per_second': 26.967, 'train_steps_per_second': 3.371, 'total_flos': 2634099025920000.0, 'train_loss': 0.860349822807312, 'epoch': 2.0})"
            ]
          },
          "metadata": {},
          "execution_count": 102
        }
      ],
      "source": [
        "# todo\n",
        "# freeze bert weights and then train model_2\n",
        "import torch.nn as nn\n",
        "\n",
        "model_2 = BertForSequenceClassification.from_pretrained(MODEL_NAME, num_labels=3)\n",
        "\n",
        "for name, param in model_2.named_parameters():\n",
        "    if \"bert\" in name:\n",
        "        param.requires_grad = False\n",
        "\n",
        "model_2.classifier = torch.nn.Sequential(\n",
        "    nn.Linear(model.config.hidden_size, 128),\n",
        "    nn.ReLU(),\n",
        "    nn.Dropout(0.5),\n",
        "    nn.Linear(128, 3),\n",
        ")\n",
        "\n",
        "model_2 = model_2.to(device)\n",
        "\n",
        "training_args = TrainingArguments(\n",
        "    output_dir=\"./results\",\n",
        "    num_train_epochs=2,\n",
        "    per_device_train_batch_size=8,\n",
        "    per_device_eval_batch_size=8,\n",
        "    warmup_steps=500,\n",
        "    weight_decay=0.001,\n",
        "    logging_dir=\"./logs\",\n",
        "    logging_steps=10,\n",
        "    load_best_model_at_end=True,\n",
        "    evaluation_strategy=\"epoch\",\n",
        "    save_strategy=\"epoch\",\n",
        "    metric_for_best_model=\"f1\",\n",
        "    greater_is_better=True,\n",
        ")\n",
        "\n",
        "trainer = Trainer(\n",
        "    model=model_2,\n",
        "    args=training_args,\n",
        "    train_dataset=train_dataset,\n",
        "    eval_dataset=test_dataset,\n",
        "    compute_metrics=compute_metrics,\n",
        ")\n",
        "\n",
        "trainer.train()"
      ]
    },
    {
      "cell_type": "markdown",
      "metadata": {
        "id": "sWOKoDba-Mam"
      },
      "source": [
        "## Evaluate model"
      ]
    },
    {
      "cell_type": "markdown",
      "metadata": {
        "id": "UF1HTooJ-Mam"
      },
      "source": [
        "<div dir=\"rtl\">\n",
        "<font face=\"XB Zar\" size=3>\n",
        "     <br>\n",
        "حال داده‌ی test را به هر دو مدل بدهید و بر اساس خروجی‌ها موارد زیر را به دست آورید.\n",
        "    <br>\n",
        "    <br>\n",
        "    <ul>\n",
        "        <li>accuracy</li>\n",
        "        <li>F1-Macro</li>\n",
        "        <li>F1-Micro</li>\n",
        "        <li>Confusion matrix</li>\n",
        "        <li>Macro-average precision</li>\n",
        "        <li>Macro-average recall</li>\n",
        "        <li>Micro-average precision</li>\n",
        "        <li>Micro-average recall</li>\n",
        "    </ul>\n",
        "    </font>\n",
        "</div>"
      ]
    },
    {
      "cell_type": "code",
      "execution_count": 105,
      "metadata": {
        "id": "8U5eSS2I-Mam",
        "colab": {
          "base_uri": "https://localhost:8080/"
        },
        "outputId": "dfcf9dc4-8a9c-4cda-e5fe-316398e6ad43"
      },
      "outputs": [
        {
          "output_type": "stream",
          "name": "stderr",
          "text": [
            "100%|██████████| 1250/1250 [05:21<00:00,  3.89it/s]\n"
          ]
        }
      ],
      "source": [
        "import seaborn as sns\n",
        "from sklearn.metrics import precision_score\n",
        "\n",
        "# you can add more cells here if you need\n",
        "# todo\n",
        "y_pred_transformers = []\n",
        "y_pred_transformers_2 = []\n",
        "y_true = []\n",
        "\n",
        "for batch in tqdm(val_loader):\n",
        "    input_ids = batch[\"input_ids\"].to(device)\n",
        "    attention_mask = batch[\"attention_mask\"].to(device)\n",
        "    labels = batch[\"labels\"].to(device)\n",
        "\n",
        "    with torch.no_grad():\n",
        "        outputs = model(input_ids, attention_mask=attention_mask)\n",
        "\n",
        "    y_pred_transformers.extend(outputs.logits.argmax(-1).tolist())\n",
        "    y_true.extend(labels.tolist())\n",
        "\n",
        "    with torch.no_grad():\n",
        "        outputs = model_2(input_ids, attention_mask=attention_mask)\n",
        "\n",
        "    y_pred_transformers_2.extend(outputs.logits.argmax(-1).tolist())\n"
      ]
    },
    {
      "cell_type": "code",
      "source": [
        "import matplotlib.pyplot as plt\n",
        "\n",
        "# todo\n",
        "print(\"Accuracy of BERT is:\", accuracy_score(y_true, y_pred_transformers))\n",
        "print(\"Accuracy of BERT_2 is:\", accuracy_score(y_true, y_pred_transformers_2))\n",
        "\n",
        "print(\n",
        "    \"F1 score(Macro) of BERT is:\",\n",
        "    f1_score(y_true, y_pred_transformers, average=\"macro\"),\n",
        ")\n",
        "print(\n",
        "    \"F1 score(Micro) of BERT is:\",\n",
        "    f1_score(y_true, y_pred_transformers, average=\"micro\"),\n",
        ")\n",
        "print(\n",
        "    \"F1 score(Macro) of BERT_2 is:\",\n",
        "    f1_score(y_true, y_pred_transformers_2, average=\"macro\"),\n",
        ")\n",
        "print(\n",
        "    \"F1 score(Micro) of BERT_2 is:\",\n",
        "    f1_score(y_true, y_pred_transformers_2, average=\"micro\"),\n",
        ")\n",
        "\n",
        "print(\n",
        "    \"Precision score(Macro) of BERT is:\",\n",
        "    precision_score(y_true, y_pred_transformers, average=\"macro\"),\n",
        ")\n",
        "print(\n",
        "    \"Precision score(Micro) of BERT is:\",\n",
        "    precision_score(y_true, y_pred_transformers, average=\"micro\"),\n",
        ")\n",
        "print(\n",
        "    \"Precision score(Macro) of BERT_2 is:\",\n",
        "    precision_score(y_true, y_pred_transformers_2, average=\"macro\"),\n",
        ")\n",
        "print(\n",
        "    \"Precision score(Micro) of BERT_2 is:\",\n",
        "    precision_score(y_true, y_pred_transformers_2, average=\"micro\"),\n",
        ")\n",
        "\n",
        "print(\n",
        "    \"Recall score(Macro) of BERT is:\",\n",
        "    recall_score(y_true, y_pred_transformers, average=\"macro\"),\n",
        ")\n",
        "print(\n",
        "    \"Recall score(Micro) of BERT is:\",\n",
        "    recall_score(y_true, y_pred_transformers, average=\"micro\"),\n",
        ")\n",
        "print(\n",
        "    \"Recall score(Macro) of BERT_2 is:\",\n",
        "    recall_score(y_true, y_pred_transformers_2, average=\"macro\"),\n",
        ")\n",
        "print(\n",
        "    \"Recall score(Micro) of BERT_2 is:\",\n",
        "    recall_score(y_true, y_pred_transformers_2, average=\"micro\"),\n",
        ")\n",
        "\n",
        "# Confusion Matrix\n",
        "print(\"Confusion Matrix of BERT is:\")\n",
        "\n",
        "sns.heatmap(\n",
        "    confusion_matrix(y_true, y_pred_transformers), annot=True, fmt=\"d\", cmap=\"Blues\"\n",
        ")\n",
        "plt.show()\n",
        "\n",
        "print(\"Confusion Matrix of BERT_2 is:\")\n",
        "sns.heatmap(\n",
        "    confusion_matrix(y_true, y_pred_transformers_2), annot=True, fmt=\"d\", cmap=\"Reds\"\n",
        ")\n",
        "plt.show()"
      ],
      "metadata": {
        "colab": {
          "base_uri": "https://localhost:8080/",
          "height": 1000
        },
        "id": "mzxXKONhjpcK",
        "outputId": "35dc1227-5fa0-4035-b418-4ca6bae14d96"
      },
      "execution_count": 108,
      "outputs": [
        {
          "output_type": "stream",
          "name": "stdout",
          "text": [
            "Accuracy of BERT is: 0.8871\n",
            "Accuracy of BERT_2 is: 0.6766\n",
            "F1 score(Macro) of BERT is: 0.7514202705214661\n",
            "F1 score(Micro) of BERT is: 0.8871\n",
            "F1 score(Macro) of BERT_2 is: 0.433768081202285\n",
            "F1 score(Micro) of BERT_2 is: 0.6766\n",
            "Precision score(Macro) of BERT is: 0.7640305900280396\n",
            "Precision score(Micro) of BERT is: 0.8871\n",
            "Precision score(Macro) of BERT_2 is: 0.47066686052072254\n",
            "Precision score(Micro) of BERT_2 is: 0.6766\n",
            "Recall score(Macro) of BERT is: 0.7423548084977778\n",
            "Recall score(Micro) of BERT is: 0.8871\n",
            "Recall score(Macro) of BERT_2 is: 0.4501677601441938\n",
            "Recall score(Micro) of BERT_2 is: 0.6766\n",
            "Confusion Matrix of BERT is:\n"
          ]
        },
        {
          "output_type": "stream",
          "name": "stderr",
          "text": [
            "/usr/local/lib/python3.10/dist-packages/sklearn/metrics/_classification.py:1344: UndefinedMetricWarning: Precision is ill-defined and being set to 0.0 in labels with no predicted samples. Use `zero_division` parameter to control this behavior.\n",
            "  _warn_prf(average, modifier, msg_start, len(result))\n"
          ]
        },
        {
          "output_type": "display_data",
          "data": {
            "text/plain": [
              "<Figure size 640x480 with 2 Axes>"
            ],
            "image/png": "[encoded data removed]"
          },
          "metadata": {}
        },
        {
          "output_type": "stream",
          "name": "stdout",
          "text": [
            "Confusion Matrix of BERT_2 is:\n"
          ]
        },
        {
          "output_type": "display_data",
          "data": {
            "text/plain": [
              "<Figure size 640x480 with 2 Axes>"
            ],
            "image/png": "[encoded data removed]"
          },
          "metadata": {}
        }
      ]
    },
    {
      "cell_type": "markdown",
      "metadata": {
        "id": "wGiE21Mc-Man"
      },
      "source": [
        "<div dir=\"rtl\">\n",
        "<font face=\"XB Zar\" size=3>\n",
        "     <br>\n",
        "     نتایج به دست آمده برای دو مدل آموزش داده شده را مقایسه کنید و سپس نتایج مدل بهتر را با خروجی‌های fasttext که در قسمت قبل استخراج کردید نیز مقایسه کنید و تحلیل‌های خود را بنویسید.\n",
        "    <br>\n",
        "    <br>\n",
        "    </font>\n",
        "</div>"
      ]
    },
    {
      "cell_type": "markdown",
      "metadata": {
        "id": "ZEygAnAx-Man"
      },
      "source": [
        "<div dir=\"rtl\">\n",
        "<font face=\"XB Zar\" size=3>\n",
        "پاسخ خود را در این قسمت بنویسید\n",
        "</font>\n",
        "</div>"
      ]
    },
    {
      "cell_type": "markdown",
      "metadata": {
        "id": "4CZS8yzZ-Man"
      },
      "source": [
        "_Explanation_:\n",
        "\n",
        "..."
      ]
    },
    {
      "cell_type": "markdown",
      "metadata": {
        "id": "O1C341WM-Man"
      },
      "source": [
        "<div dir=\"rtl\">\n",
        "<font face=\"XB Zar\" size=3>\n",
        "     <br>\n",
        "در نهایت در این قسمت تابعی بنویسید که یک متن را به عنوان ورودی بگیرد و بر اساس مدلتان برچسب‌ مناسب را به آن بدهد.\n",
        "    <br>\n",
        "    <br>\n",
        "    </font>\n",
        "</div>\n",
        "    "
      ]
    },
    {
      "cell_type": "code",
      "execution_count": 113,
      "metadata": {
        "id": "DyKt-gpd-Man"
      },
      "outputs": [],
      "source": [
        "def predict(x, model):\n",
        "    \"\"\"\n",
        "    predict the class code of a given query\n",
        "    :param x: the query\n",
        "    :return: the class of the query in the form of real strings.\n",
        "    \"\"\"\n",
        "    # todo\n",
        "    embedd = tokenizer.encode_plus(\n",
        "        x,\n",
        "        add_special_tokens=True,\n",
        "        return_tensors=\"pt\",\n",
        "        padding=\"max_length\",\n",
        "        truncation=True,\n",
        "        max_length=256,\n",
        "    )\n",
        "    embedd = embedd.to(device)\n",
        "\n",
        "    predicted_class = model(**embedd).logits.argmax(-1).item()\n",
        "    if predicted_class == 0:\n",
        "        predicted_class = \"cv.CV\"\n",
        "    elif predicted_class == 1:\n",
        "        predicted_class = \"cv.ML\"\n",
        "    elif predicted_class == 2:\n",
        "        predicted_class = \"stat.ML\"\n",
        "    else:\n",
        "        raise ValueError(\"Invalid class code\")\n",
        "\n",
        "    return predicted_class"
      ]
    },
    {
      "cell_type": "code",
      "execution_count": 115,
      "metadata": {
        "id": "EhBiAYT8-Man",
        "colab": {
          "base_uri": "https://localhost:8080/",
          "height": 35
        },
        "outputId": "6ca8ff79-0e3e-4954-d1a6-4596b5c09a69"
      },
      "outputs": [
        {
          "output_type": "execute_result",
          "data": {
            "text/plain": [
              "'cv.ML'"
            ],
            "application/vnd.google.colaboratory.intrinsic+json": {
              "type": "string"
            }
          },
          "metadata": {},
          "execution_count": 115
        }
      ],
      "source": [
        "predict(\"machine learning is kind of fun!\", model)"
      ]
    },
    {
      "cell_type": "code",
      "execution_count": 103,
      "metadata": {
        "id": "G1Gpmnsd-Man"
      },
      "outputs": [],
      "source": [
        "# It is highly recommended to save your final models\n",
        "# todo\n",
        "torch.save(model.state_dict(), \"bert_first_model.pt\")\n",
        "torch.save(model_2.state_dict(), \"bert_second_model.pt\")"
      ]
    },
    {
      "cell_type": "markdown",
      "metadata": {
        "id": "ysW7xp67-Man"
      },
      "source": [
        "<div dir=\"rtl\">\n",
        "<font face=\"XB Zar\" size=5>\n",
        "    <h2>\n",
        "    <b>جستجو و بازیابی اسناد در دسته‌های مختلف</b>\n",
        "    </h2>\n",
        "</font>\n",
        "<font face=\"XB Zar\" size=4>\n",
        "در این بخش می‌خواهیم به تابع search مربوط به فاز قبل قابلیتی اضافه کنیم که بر اساس آن بتوان جستجو و بازیابی پرسمان را به یک دسته خاص محدود کرد و یا مشخص کرد که جستجو بر روی تمام اسناد انجام شود. همانند فاز قبل:\n",
        "<br>\n",
        " پرسمانی که از کاربر می‌گیرید را در مجموعه اسناد نمایه شده جست و جو کنید. توجه داشته باشید که جست و جویی که انجام می‌دهید هم باید در عنوان مقاله و هم در چکیده آن انجام شود. در نهایت، اسناد باید به ترتیب امتیاز نهایی‌شان برگردانده شوند. امتیاز نهایی هر سند نیز از جمع وزن‌دار امتیاز جستجو در عنوان و جستجو در چکیده مقاله به دست می‌آید.\n",
        "<br>\n",
        "ورودی‌های تابع search در این فاز، همانند فاز قبل است؛ تنها ورودی category به آن اضافه شده است. در صورتی که ورودی category برابر all باشد، جستجو در تمامی اسناد انجام می‌شود. در صورتی که category برابر نام یک دسته باشد، جستجو تنها در دسته گفته شده انجام می‌شود.\n",
        "<br>\n",
        "(برای این قسمت از کدهایی که در فاز قبل زده‌اید استفاده کنید و قابلیت گفته شده را به آن اضافه کنید.)\n",
        "</font>\n",
        "</div>"
      ]
    },
    {
      "cell_type": "code",
      "execution_count": null,
      "metadata": {
        "id": "CFPqism1-Man"
      },
      "outputs": [],
      "source": [
        "def search(\n",
        "    title_query: str,\n",
        "    abstract_query: str,\n",
        "    max_result_count: int,\n",
        "    method: str = \"ltn-lnn\",\n",
        "    weight: float = 0.5,\n",
        "    print=False,\n",
        "    category=\"all\",\n",
        "):\n",
        "    \"\"\"\n",
        "    Finds relevant documents to query\n",
        "\n",
        "    Parameters\n",
        "    ---------------------------------------------------------------------------------------------------\n",
        "    max_result_count: Return top 'max_result_count' docs which have the highest scores.\n",
        "                      notice that if max_result_count = -1, then you have to return all docs\n",
        "\n",
        "    mode: 'detailed' for searching in title and text separately.\n",
        "          'overall' for all words, and weighted by where the word apears on.\n",
        "\n",
        "    method: 'ltn-lnn' or 'ltc-lnc' or 'okapi25'\n",
        "\n",
        "    category: 'all' for searching in all documents.\n",
        "              'category_name' for searching in a specific category with category_name label.\n",
        "\n",
        "    Returns\n",
        "    ----------------------------------------------------------------------------------------------------\n",
        "    list\n",
        "    Retreived documents with snippet\n",
        "    \"\"\"\n",
        "    # TODO: retun top 'max_result_count' documents for your searched query"
      ]
    },
    {
      "cell_type": "markdown",
      "metadata": {
        "id": "PJft5Uuh-Man"
      },
      "source": [
        "<div dir=\"rtl\">\n",
        "<font face=\"XB Zar\" size=6>\n",
        "    <h1>\n",
        "    <b>خوشه‌بندی (۴۰ نمره)</b>\n",
        "    </h1>\n",
        "    <p></p>\n",
        "    <p></p>\n",
        "</font>\n",
        "<font face=\"XB Zar\" size=3>\n",
        "در این قسمت شما به خوشه‌بندی اسناد و استفاده از آن خوشه‌ها برای اهداف مختلف میپردازید. برای این منظور، ابتدا برای هر سند، بردار جاسازی (Embedding) تولید کرده و با استفاده از دو الگوریتم kmeans و خوشه‌بندی سلسله‌مراتبی (Hierarchical Clustering)، خوشه‌ها را ایجاد می‌کنید.\n",
        "</font>\n",
        "</div>"
      ]
    },
    {
      "cell_type": "markdown",
      "metadata": {
        "id": "GsF8DqDw-Man"
      },
      "source": [
        "<div dir=\"rtl\">\n",
        "<font face=\"XB Zar\" size=5>\n",
        "    <h2>\n",
        "    <b>استخراج بردار جاسازی اسناد</b>\n",
        "    </h2>\n",
        "    <p></p>\n",
        "    <p></p>\n",
        "</font>\n",
        "<font face=\"XB Zar\" size=3>\n",
        "اگرچه امکان ایجاد بردار جاسازی برای هر سند با استفاده از روش ‌Bag of Words نیز وجود دارد، اما برای اینکه احتمالا بتوانید به نتابج بهتری در خوشه‌بندی برسید، در این قسمت از مدل‌های زبانی برمبنای مبدل‌ها (Transformers) برای استخراج این بردارها استفاده می‌کنید.\n",
        "برای این منظور می‌توانید از\n",
        "<a href=\"https://huggingface.co/\">HuggingFace</a>\n",
        "  و مدل‌های متعددی که در آن وجود دارد استفاده کنید.\n",
        "  <br>\n",
        "  در تابع extract_embedding پیاده‌سازی مورد نیاز را انجام دهید. این تابع لیستی از اسناد را به عنوان ورودی دریافت میکند و در خروجی لیستی از بردار‌های جاسازی متناظر با هر عنصر در ورودی را برمی‌گرداند.\n",
        "  <br>\n",
        "برای محاسبه بردار جاسازی هر سند، روش های مختلفی وجود دارد. استفاده از بردار جاسازی توکن CLS در مدل ‌BERT، میانگین‌گیری (وزن‌دار یا بدون وزن) از بردارهای جاسازی هر کلمه ورودی و ... از روش‌های موجود هستند که می‌توانید به دلخواه خود انتخاب کنید.\n",
        "</font>\n",
        "</div>"
      ]
    },
    {
      "cell_type": "code",
      "execution_count": null,
      "metadata": {
        "id": "6-B39GDl-Mao"
      },
      "outputs": [],
      "source": [
        "## ؟ points\n",
        "\n",
        "from typing import List\n",
        "\n",
        "\n",
        "def extract_embedding(doc_list: List):\n",
        "    \"\"\"Extracts embedding vector for each document in doc_list\n",
        "\n",
        "    Parameters\n",
        "    ----------\n",
        "    doc_list : List\n",
        "        A list of documents\n",
        "\n",
        "    Returns\n",
        "    -------\n",
        "    list\n",
        "        A list of embedding vectors\n",
        "    \"\"\"\n",
        "\n",
        "    # TODO: Extract a vector for each input document using a transformer-based language model\n",
        "    pass\n",
        "\n",
        "\n",
        "docs_embedding = extract_embedding(\n",
        "    [str, str, str, ...]\n",
        ")  # return [[NUM, NUM, NUM, ...], [NUM, NUM, NUM, ...], [NUM, NUM, NUM, ...]]"
      ]
    },
    {
      "cell_type": "markdown",
      "metadata": {
        "id": "BEfJFfuL-Mao"
      },
      "source": [
        "<div dir=\"rtl\">\n",
        "<font face=\"XB Zar\" size=5>\n",
        "    <h2>\n",
        "    <b>کاهش بعد بردارها برای رسم نمودار دوبعدی</b>\n",
        "    </h2>\n",
        "    <p></p>\n",
        "    <p></p>\n",
        "</font>\n",
        "<font face=\"XB Zar\" size=3>\n",
        "برای اینکه بتوانید در مراحل بعدی، نتایج خوشه‌بندی را مشاهده کنید، در این قسمت به پیاده‌سازی تابع کاهش بعد بردارهای جاسازی با استفاده از روش T-SNE می‌پردازید.\n",
        "برای اینکار تابع convert_to_2d_tsne را پیاده‌سازی می‌کنید که لیستی از بردارهای جاسازی را به عنوان ورودی دریافت می‌کند و در خروجی، لیستی از بردارهای جاسازی کاهش بعد داده شده به دو بعد را تولید می‌کند. برای پیاده سازی این تابع می‌توانید از کتابخانه‌های آماده استفاده کنید.\n",
        "<br>\n",
        "توجه کنید که از بردارهای خروجی این قسمت <u>صرفا برای رسم نمودار</u> استفاده می‌کنید و تمامی مراحلی که در ادامه طی می‌کنید (به جز رسم نمودار)، باید با استفاده از بردارهای کاهش بعد داده <u>نشده</u> انجام شوند.\n",
        "</font>\n",
        "</div>"
      ]
    },
    {
      "cell_type": "code",
      "execution_count": null,
      "metadata": {
        "id": "6Yczubzr-Mao"
      },
      "outputs": [],
      "source": [
        "## ؟ points\n",
        "\n",
        "from typing import List\n",
        "\n",
        "\n",
        "def convert_to_2d_tsne(emb_vecs: List):\n",
        "    \"\"\"Converts each raw embedding vector to 2d vector\n",
        "\n",
        "    Parameters\n",
        "    ----------\n",
        "    emb_vecs : List\n",
        "        A list of vectors\n",
        "\n",
        "    Returns\n",
        "    -------\n",
        "    list\n",
        "        A list of 2d vectors\n",
        "    \"\"\"\n",
        "\n",
        "    # TODO: Convert each input vector to 2d vector\n",
        "    pass\n",
        "\n",
        "\n",
        "docs_embedding_2d = convert_to_2d_tsne(\n",
        "    [[NUM, NUM, NUM, ...], [NUM, NUM, NUM, ...], [NUM, NUM, NUM, ...]]\n",
        ")  # return [[NUM, NUM], [NUM, NUM], [NUM, NUM], ...]"
      ]
    },
    {
      "cell_type": "markdown",
      "metadata": {
        "id": "OqQflkcj-Mao"
      },
      "source": [
        "<div dir=\"rtl\">\n",
        "<font face=\"XB Zar\" size=5>\n",
        "    <h2>\n",
        "    <b>رسم نمودار</b>\n",
        "    </h2>\n",
        "    <p></p>\n",
        "    <p></p>\n",
        "</font>\n",
        "<font face=\"XB Zar\" size=3>\n",
        "در این قسمت، تابع plot_docs را پیاده‌سازی می‌کنید که لیستی از بردارهای کاهش بعد داده شده و لیستی از شماره‌ خوشه‌‌های هربردار (برای رنگ‌آمیزی نقاط) را به عنوان ورودی دریافت کرده و نمودار دوبعدی ای را رسم می‌کند که در آن به هر خوشه یک رنگ مجزا اختصاص داده شده است و هر سند به عنوان یک نقطه نشان داده می‌شود که به رنگ خوشه‌ای است که به آن نسبت داده شده است. \n",
        "</font>\n",
        "</div>\n",
        "\n"
      ]
    },
    {
      "cell_type": "code",
      "execution_count": null,
      "metadata": {
        "id": "DtwUU8U0-Mao"
      },
      "outputs": [],
      "source": [
        "## ؟ points\n",
        "\n",
        "from typing import List\n",
        "\n",
        "\n",
        "def plot_docs(emb_vecs_2d: List, labels: List):\n",
        "    \"\"\"Draws a 2d plot of input vectors\n",
        "\n",
        "    Parameters\n",
        "    ----------\n",
        "    emb_2d_vecs : List\n",
        "        A list of 2d vectors\n",
        "\n",
        "    Returns\n",
        "    -------\n",
        "    \"\"\"\n",
        "\n",
        "    # TODO: Draw a 2d plot from input vectors and color each cluster with specific color.\n",
        "    pass\n",
        "\n",
        "\n",
        "plot_docs([[NUM, NUM], [NUM, NUM], [NUM, NUM], ...])"
      ]
    },
    {
      "cell_type": "markdown",
      "metadata": {
        "id": "bKXwfIkd-Mao"
      },
      "source": [
        "<div dir=\"rtl\">\n",
        "<font face=\"XB Zar\" size=5>\n",
        "    <h2>\n",
        "    <b>خوشه‌بندی مستندها</b>\n",
        "    </h2>\n",
        "    <p></p>\n",
        "    <p></p>\n",
        "</font>\n",
        "<font face=\"XB Zar\" size=3>\n",
        "در این قسمت شما به خوشه‌بندی اسناد با استفاده از بردارهای جاسازی مستخرج از مدل زبانی با دو روش Kmeans و خوشه‌بندی سلسله‌مراتبی می‌پردازید.\n",
        "</font>\n",
        "</div>"
      ]
    },
    {
      "cell_type": "markdown",
      "metadata": {
        "id": "fIMOKqKP-Mao"
      },
      "source": [
        "<div dir=\"rtl\">\n",
        "<font face=\"XB Zar\" size=4>\n",
        "    <h3>\n",
        "    <b>روش K-means</b>\n",
        "    </h3>\n",
        "    <p></p>\n",
        "    <p></p>\n",
        "</font>\n",
        "<font face=\"XB Zar\" size=3>\n",
        "در این قسمت، شما ابتدا الگوریتم خوشه‌بندی K-means را \n",
        "<u><b>از پایه</b></u>\n",
        " پیاده‌سازی کرده و سپس با استفاده از آن، خوشه‌های اسناد را ایجاد می‌کنید. الگوریتم را با استفاده از چند مقدار مختلف تعداد خوشه‌ها (k) اجرا کنید. در هربار اجرا، با استفاده از تعدادی از اسناد موجود در هر خوشه، موضوع آن خوشه را تعیین کرده و خوشه‌بندی حاصله را با استفاده از بردار‌های دوبعدی قسمت قبل، رسم کنید. با اینکار، پیاده‌سازی خود و همچنین کارایی این الگوریتم در خوشه‌بندی اسناد و قرار دادن اسناد مشابه در خوشه‌های یکسان را بررسی کنید.\n",
        "<br>\n",
        " نمودار silhouette score برای مقدار‌های محتلف k را رسم کرده و silhouette analysis برای انتخاب k مناسب انجام دهید. \n",
        " همچنین با استفاده از داده‌های دارای برچسب، مقدار purity به ازای k را رسم کرده و مقدار purity برای k نهایی را گزارش کنید.\n",
        "<br>\n",
        "پیاده‌سازی خود را در تابع cluster_kmeans قرار دهید. این تابع یک لیست از بردارهای جاسازی دریافت کرده و در خروجی، مختصات مرکز هر خوشه را به همراه لیستی از شماره خوشه‌های متناظر با هر بردار جاسازی تولید می‌کند.\n",
        "توجه کنید که الگوریتم می‌بایست از پایه پیاده‌سازی شود و امکان استفاده از پیاده‌سازی‌های آماده آن وجود ندارد.\n",
        "</font>\n",
        "</div>"
      ]
    },
    {
      "cell_type": "code",
      "execution_count": null,
      "metadata": {
        "id": "bu25zgBT-Mao"
      },
      "outputs": [],
      "source": [
        "## ؟ points\n",
        "\n",
        "from typing import List\n",
        "\n",
        "\n",
        "def cluster_kmeans(emb_vecs: List, n_clusters: int):\n",
        "    \"\"\"Clusters input vectors using K-means method\n",
        "\n",
        "    Parameters\n",
        "    ----------\n",
        "    emb_vecs : List\n",
        "        A list of vectors\n",
        "\n",
        "    Returns\n",
        "    -------\n",
        "    list\n",
        "        Two lists: 1) A list containing cluster centers 2) A list containing cluster index for each input vector\n",
        "    \"\"\"\n",
        "\n",
        "    # TODO: Implement K-means method\n",
        "    pass\n",
        "\n",
        "\n",
        "cluster_centers, cluster_kmeans = cluster_kmeans(\n",
        "    [[NUM, NUM, NUM, ...], [NUM, NUM, NUM, ...], [NUM, NUM, NUM, ...]]\n",
        ")  # return [NUM, NUM, NUM, ...]"
      ]
    },
    {
      "cell_type": "code",
      "execution_count": null,
      "metadata": {
        "id": "kqVeADOf-Mao"
      },
      "outputs": [],
      "source": [
        "from sklearn.metrics import silhouette_samples, silhouette_score\n",
        "\n",
        "# TODO: silhouette analysis"
      ]
    },
    {
      "cell_type": "code",
      "execution_count": null,
      "metadata": {
        "id": "7NlP9V4V-Map"
      },
      "outputs": [],
      "source": [
        "# TODO: plot purity for different value of k"
      ]
    },
    {
      "cell_type": "markdown",
      "metadata": {
        "id": "rYAn72TS-Map"
      },
      "source": [
        "<div dir=\"rtl\">\n",
        "<font face=\"XB Zar\" size=4>\n",
        "    <h3>\n",
        "    <b>روش خوشه‌بندی سلسله‌مراتبی (Hierarchical Clustering)</b>\n",
        "    </h3>\n",
        "    <p></p>\n",
        "    <p></p>\n",
        "</font>\n",
        "<font face=\"XB Zar\" size=3>\n",
        "تکنیک خوشه‌بندی سلسله مراتبی یکی از تکنیک‌های خوشه‌بندی در یادگیری ماشین است. در این قسمت شما می‌توانید از لایببری scipy یا هر لایبرری دیگری در پایتون استفاده کنید تا داده‌ها را به صورت سلسله‌مراتبی خوشه‌بندی کنید. سپس می‌توانید خوشه‌ها را با matplotlib مشاهده کنید.\n",
        "</font>\n",
        "</div>"
      ]
    },
    {
      "cell_type": "code",
      "execution_count": null,
      "metadata": {
        "id": "a5c3IJJO-Map"
      },
      "outputs": [],
      "source": [
        "import scipy.cluster.hierarchy as shc\n",
        "import matplotlib.pyplot as plt\n",
        "\n",
        "# TODO"
      ]
    },
    {
      "cell_type": "markdown",
      "metadata": {
        "id": "_zI93ER6-Map"
      },
      "source": [
        "<div dir=\"rtl\">\n",
        "<font face=\"XB Zar\" size=5>\n",
        "    <h2>\n",
        "    <b>خوشه‌بندی خروجی‌های سیستم جستجو فاز ۱</b>\n",
        "    </h2>\n",
        "    <p></p>\n",
        "    <p></p>\n",
        "</font>\n",
        "<font face=\"XB Zar\" size=3>\n",
        "در این قسمت شما به افزودن قابلیت خوشه‌بندی در سیستم جستجویی که در فاز ۱ درس توسعه داده‌اید می‌پردازید. برای این منظور، توابعی که تابحال پیاده‌سازی کرده‌اید را به نحوی به سامانه جستجوی فاز ۱ خود اضافه می‌کنید که اسناد خروجی سامانه را خوشه‌بندی کرده و در نمایش خروجی،‌ اسنادی که در یک خوشه هستند را مشخص کند.\n",
        "می‌توانید با فراخوانی توابعی که در فاز ۱ پیاده‌سازی کرده‌اید و ایجاد تغییر در آن‌ها در سلول زیر، این‌کار را انجام دهید. نحوه پیاده‌سازی این بخش به عهده خودتان است.\n",
        "</font>\n",
        "</div>"
      ]
    },
    {
      "cell_type": "code",
      "execution_count": null,
      "metadata": {
        "id": "rmhpdzOd-Map"
      },
      "outputs": [],
      "source": []
    },
    {
      "cell_type": "markdown",
      "metadata": {
        "id": "hEVWDXNd-Map"
      },
      "source": [
        "<div dir=\"rtl\">\n",
        "<font face=\"XB Zar\" size=5>\n",
        "    <h2>\n",
        "    <b>جست‌و‌جوی اسناد مشابه با یک سند</b>\n",
        "    </h2>\n",
        "    <p></p>\n",
        "    <p></p>\n",
        "</font>\n",
        "<font face=\"XB Zar\" size=3>\n",
        "در این قسمت، شما به پیاده‌سازی تابع find_similar_docs می‌پردازید که در آن با دریافت اندیس یک سند در مجموعه دادگان، تعداد اسناد مشابه مورد نظر و لیست بردارهای جاسازی، اندیس اسناد مشابه با آن در مجموعه دادگان را در خروجی تولید می‌کند. برای این منظور، به تعداد num_of_similar_docs تا از نزدیک‌ترین بردارها را به بردار مدنظر پیدا کرده و اندیس آن‌ها را به عنوان خروجی برمیگردانید. اسناد مشابه باید به ترتیب شباهت (مقدار شباهت بردار جاسازی آن‌ها به بردار جاسازی سند ورودی) مرتب شده باشند. انتخاب معیار شباهت برعهده خودتان است.\n",
        "</font>\n",
        "</div>"
      ]
    },
    {
      "cell_type": "code",
      "execution_count": null,
      "metadata": {
        "id": "hFY5cUCg-Map"
      },
      "outputs": [],
      "source": [
        "## ؟ points\n",
        "\n",
        "from typing import List\n",
        "\n",
        "\n",
        "def find_similar_docs(input_doc_index: int, num_of_similar_docs: int, emb_vecs: List):\n",
        "    \"\"\"Finds similar documents to input in dataset\n",
        "\n",
        "    Parameters\n",
        "    ----------\n",
        "    input_doc_index: int\n",
        "        Index of input document vector in emb_vecs list to search for specific paper\n",
        "\n",
        "    num_of_similar_docs:\n",
        "        Number of similar documents to return\n",
        "\n",
        "    emb_vecs : List\n",
        "        A list of vectors corresponding to documents\n",
        "\n",
        "    Returns\n",
        "    -------\n",
        "    List\n",
        "        A list of similar document indexes to input document\n",
        "    \"\"\"\n",
        "\n",
        "    # TODO: Implement a function to find similar documents to input document.\n",
        "    pass\n",
        "\n",
        "\n",
        "find_similar_docs(\n",
        "    int, int, [[NUM, NUM, NUM, ...], [NUM, NUM, NUM, ...], [NUM, NUM, NUM, ...]]\n",
        ")"
      ]
    }
  ],
  "metadata": {
    "kernelspec": {
      "display_name": "Python 3",
      "name": "python3"
    },
    "language_info": {
      "codemirror_mode": {
        "name": "ipython",
        "version": 3
      },
      "file_extension": ".py",
      "mimetype": "text/x-python",
      "name": "python",
      "nbconvert_exporter": "python",
      "pygments_lexer": "ipython3",
      "version": "3.10.8"
    },
    "orig_nbformat": 4,
    "colab": {
      "provenance": [],
      "gpuType": "T4"
    },
    "accelerator": "GPU",
    "widgets": {
      "application/vnd.jupyter.widget-state+json": {
        "bf03b967dd9e46739176080d1ebde044": {
          "model_module": "@jupyter-widgets/controls",
          "model_name": "HBoxModel",
          "model_module_version": "1.5.0",
          "state": {
            "_dom_classes": [],
            "_model_module": "@jupyter-widgets/controls",
            "_model_module_version": "1.5.0",
            "_model_name": "HBoxModel",
            "_view_count": null,
            "_view_module": "@jupyter-widgets/controls",
            "_view_module_version": "1.5.0",
            "_view_name": "HBoxView",
            "box_style": "",
            "children": [
              "IPY_MODEL_a6359bec2cae40e5a652945eb2db030e",
              "IPY_MODEL_fa7a1a237cb94b928a2d607a0a73c8ae",
              "IPY_MODEL_1feef5a0a55e41d38b62e347fd26768a"
            ],
            "layout": "IPY_MODEL_1f03fa54e2c5408188ee69bf73cead9c"
          }
        },
        "a6359bec2cae40e5a652945eb2db030e": {
          "model_module": "@jupyter-widgets/controls",
          "model_name": "HTMLModel",
          "model_module_version": "1.5.0",
          "state": {
            "_dom_classes": [],
            "_model_module": "@jupyter-widgets/controls",
            "_model_module_version": "1.5.0",
            "_model_name": "HTMLModel",
            "_view_count": null,
            "_view_module": "@jupyter-widgets/controls",
            "_view_module_version": "1.5.0",
            "_view_name": "HTMLView",
            "description": "",
            "description_tooltip": null,
            "layout": "IPY_MODEL_a02ed874953c4fbb95d92502b334dea8",
            "placeholder": "​",
            "style": "IPY_MODEL_1a0a2e12600e40c0b0d256c6f593360e",
            "value": "Downloading (…)lve/main/config.json: 100%"
          }
        },
        "fa7a1a237cb94b928a2d607a0a73c8ae": {
          "model_module": "@jupyter-widgets/controls",
          "model_name": "FloatProgressModel",
          "model_module_version": "1.5.0",
          "state": {
            "_dom_classes": [],
            "_model_module": "@jupyter-widgets/controls",
            "_model_module_version": "1.5.0",
            "_model_name": "FloatProgressModel",
            "_view_count": null,
            "_view_module": "@jupyter-widgets/controls",
            "_view_module_version": "1.5.0",
            "_view_name": "ProgressView",
            "bar_style": "success",
            "description": "",
            "description_tooltip": null,
            "layout": "IPY_MODEL_457d489b532c435bb24f3fb2e9f09c4a",
            "max": 570,
            "min": 0,
            "orientation": "horizontal",
            "style": "IPY_MODEL_8cd97cbeeb7b48749494d549fc50e07b",
            "value": 570
          }
        },
        "1feef5a0a55e41d38b62e347fd26768a": {
          "model_module": "@jupyter-widgets/controls",
          "model_name": "HTMLModel",
          "model_module_version": "1.5.0",
          "state": {
            "_dom_classes": [],
            "_model_module": "@jupyter-widgets/controls",
            "_model_module_version": "1.5.0",
            "_model_name": "HTMLModel",
            "_view_count": null,
            "_view_module": "@jupyter-widgets/controls",
            "_view_module_version": "1.5.0",
            "_view_name": "HTMLView",
            "description": "",
            "description_tooltip": null,
            "layout": "IPY_MODEL_5e5ab05b13794e17b642d4a62d59448d",
            "placeholder": "​",
            "style": "IPY_MODEL_d4dddff49c9240f1baf285c9fec12ce7",
            "value": " 570/570 [00:00&lt;00:00, 28.3kB/s]"
          }
        },
        "1f03fa54e2c5408188ee69bf73cead9c": {
          "model_module": "@jupyter-widgets/base",
          "model_name": "LayoutModel",
          "model_module_version": "1.2.0",
          "state": {
            "_model_module": "@jupyter-widgets/base",
            "_model_module_version": "1.2.0",
            "_model_name": "LayoutModel",
            "_view_count": null,
            "_view_module": "@jupyter-widgets/base",
            "_view_module_version": "1.2.0",
            "_view_name": "LayoutView",
            "align_content": null,
            "align_items": null,
            "align_self": null,
            "border": null,
            "bottom": null,
            "display": null,
            "flex": null,
            "flex_flow": null,
            "grid_area": null,
            "grid_auto_columns": null,
            "grid_auto_flow": null,
            "grid_auto_rows": null,
            "grid_column": null,
            "grid_gap": null,
            "grid_row": null,
            "grid_template_areas": null,
            "grid_template_columns": null,
            "grid_template_rows": null,
            "height": null,
            "justify_content": null,
            "justify_items": null,
            "left": null,
            "margin": null,
            "max_height": null,
            "max_width": null,
            "min_height": null,
            "min_width": null,
            "object_fit": null,
            "object_position": null,
            "order": null,
            "overflow": null,
            "overflow_x": null,
            "overflow_y": null,
            "padding": null,
            "right": null,
            "top": null,
            "visibility": null,
            "width": null
          }
        },
        "a02ed874953c4fbb95d92502b334dea8": {
          "model_module": "@jupyter-widgets/base",
          "model_name": "LayoutModel",
          "model_module_version": "1.2.0",
          "state": {
            "_model_module": "@jupyter-widgets/base",
            "_model_module_version": "1.2.0",
            "_model_name": "LayoutModel",
            "_view_count": null,
            "_view_module": "@jupyter-widgets/base",
            "_view_module_version": "1.2.0",
            "_view_name": "LayoutView",
            "align_content": null,
            "align_items": null,
            "align_self": null,
            "border": null,
            "bottom": null,
            "display": null,
            "flex": null,
            "flex_flow": null,
            "grid_area": null,
            "grid_auto_columns": null,
            "grid_auto_flow": null,
            "grid_auto_rows": null,
            "grid_column": null,
            "grid_gap": null,
            "grid_row": null,
            "grid_template_areas": null,
            "grid_template_columns": null,
            "grid_template_rows": null,
            "height": null,
            "justify_content": null,
            "justify_items": null,
            "left": null,
            "margin": null,
            "max_height": null,
            "max_width": null,
            "min_height": null,
            "min_width": null,
            "object_fit": null,
            "object_position": null,
            "order": null,
            "overflow": null,
            "overflow_x": null,
            "overflow_y": null,
            "padding": null,
            "right": null,
            "top": null,
            "visibility": null,
            "width": null
          }
        },
        "1a0a2e12600e40c0b0d256c6f593360e": {
          "model_module": "@jupyter-widgets/controls",
          "model_name": "DescriptionStyleModel",
          "model_module_version": "1.5.0",
          "state": {
            "_model_module": "@jupyter-widgets/controls",
            "_model_module_version": "1.5.0",
            "_model_name": "DescriptionStyleModel",
            "_view_count": null,
            "_view_module": "@jupyter-widgets/base",
            "_view_module_version": "1.2.0",
            "_view_name": "StyleView",
            "description_width": ""
          }
        },
        "457d489b532c435bb24f3fb2e9f09c4a": {
          "model_module": "@jupyter-widgets/base",
          "model_name": "LayoutModel",
          "model_module_version": "1.2.0",
          "state": {
            "_model_module": "@jupyter-widgets/base",
            "_model_module_version": "1.2.0",
            "_model_name": "LayoutModel",
            "_view_count": null,
            "_view_module": "@jupyter-widgets/base",
            "_view_module_version": "1.2.0",
            "_view_name": "LayoutView",
            "align_content": null,
            "align_items": null,
            "align_self": null,
            "border": null,
            "bottom": null,
            "display": null,
            "flex": null,
            "flex_flow": null,
            "grid_area": null,
            "grid_auto_columns": null,
            "grid_auto_flow": null,
            "grid_auto_rows": null,
            "grid_column": null,
            "grid_gap": null,
            "grid_row": null,
            "grid_template_areas": null,
            "grid_template_columns": null,
            "grid_template_rows": null,
            "height": null,
            "justify_content": null,
            "justify_items": null,
            "left": null,
            "margin": null,
            "max_height": null,
            "max_width": null,
            "min_height": null,
            "min_width": null,
            "object_fit": null,
            "object_position": null,
            "order": null,
            "overflow": null,
            "overflow_x": null,
            "overflow_y": null,
            "padding": null,
            "right": null,
            "top": null,
            "visibility": null,
            "width": null
          }
        },
        "8cd97cbeeb7b48749494d549fc50e07b": {
          "model_module": "@jupyter-widgets/controls",
          "model_name": "ProgressStyleModel",
          "model_module_version": "1.5.0",
          "state": {
            "_model_module": "@jupyter-widgets/controls",
            "_model_module_version": "1.5.0",
            "_model_name": "ProgressStyleModel",
            "_view_count": null,
            "_view_module": "@jupyter-widgets/base",
            "_view_module_version": "1.2.0",
            "_view_name": "StyleView",
            "bar_color": null,
            "description_width": ""
          }
        },
        "5e5ab05b13794e17b642d4a62d59448d": {
          "model_module": "@jupyter-widgets/base",
          "model_name": "LayoutModel",
          "model_module_version": "1.2.0",
          "state": {
            "_model_module": "@jupyter-widgets/base",
            "_model_module_version": "1.2.0",
            "_model_name": "LayoutModel",
            "_view_count": null,
            "_view_module": "@jupyter-widgets/base",
            "_view_module_version": "1.2.0",
            "_view_name": "LayoutView",
            "align_content": null,
            "align_items": null,
            "align_self": null,
            "border": null,
            "bottom": null,
            "display": null,
            "flex": null,
            "flex_flow": null,
            "grid_area": null,
            "grid_auto_columns": null,
            "grid_auto_flow": null,
            "grid_auto_rows": null,
            "grid_column": null,
            "grid_gap": null,
            "grid_row": null,
            "grid_template_areas": null,
            "grid_template_columns": null,
            "grid_template_rows": null,
            "height": null,
            "justify_content": null,
            "justify_items": null,
            "left": null,
            "margin": null,
            "max_height": null,
            "max_width": null,
            "min_height": null,
            "min_width": null,
            "object_fit": null,
            "object_position": null,
            "order": null,
            "overflow": null,
            "overflow_x": null,
            "overflow_y": null,
            "padding": null,
            "right": null,
            "top": null,
            "visibility": null,
            "width": null
          }
        },
        "d4dddff49c9240f1baf285c9fec12ce7": {
          "model_module": "@jupyter-widgets/controls",
          "model_name": "DescriptionStyleModel",
          "model_module_version": "1.5.0",
          "state": {
            "_model_module": "@jupyter-widgets/controls",
            "_model_module_version": "1.5.0",
            "_model_name": "DescriptionStyleModel",
            "_view_count": null,
            "_view_module": "@jupyter-widgets/base",
            "_view_module_version": "1.2.0",
            "_view_name": "StyleView",
            "description_width": ""
          }
        },
        "8036324d832a4159be8c814667990c98": {
          "model_module": "@jupyter-widgets/controls",
          "model_name": "HBoxModel",
          "model_module_version": "1.5.0",
          "state": {
            "_dom_classes": [],
            "_model_module": "@jupyter-widgets/controls",
            "_model_module_version": "1.5.0",
            "_model_name": "HBoxModel",
            "_view_count": null,
            "_view_module": "@jupyter-widgets/controls",
            "_view_module_version": "1.5.0",
            "_view_name": "HBoxView",
            "box_style": "",
            "children": [
              "IPY_MODEL_580fe55e48b84238ba6e21ed81300d27",
              "IPY_MODEL_8307866b080841f4a5d47897771ddf17",
              "IPY_MODEL_dc7e3719cc2d4fed982934e8b92c88ec"
            ],
            "layout": "IPY_MODEL_5a8fa21657e9413ba557bd4aa0c74e10"
          }
        },
        "580fe55e48b84238ba6e21ed81300d27": {
          "model_module": "@jupyter-widgets/controls",
          "model_name": "HTMLModel",
          "model_module_version": "1.5.0",
          "state": {
            "_dom_classes": [],
            "_model_module": "@jupyter-widgets/controls",
            "_model_module_version": "1.5.0",
            "_model_name": "HTMLModel",
            "_view_count": null,
            "_view_module": "@jupyter-widgets/controls",
            "_view_module_version": "1.5.0",
            "_view_name": "HTMLView",
            "description": "",
            "description_tooltip": null,
            "layout": "IPY_MODEL_3f1b9884cb4d404fa5ebf55800c9062b",
            "placeholder": "​",
            "style": "IPY_MODEL_4fab8d324c3445fe9b4ac602668701d8",
            "value": "Downloading pytorch_model.bin: 100%"
          }
        },
        "8307866b080841f4a5d47897771ddf17": {
          "model_module": "@jupyter-widgets/controls",
          "model_name": "FloatProgressModel",
          "model_module_version": "1.5.0",
          "state": {
            "_dom_classes": [],
            "_model_module": "@jupyter-widgets/controls",
            "_model_module_version": "1.5.0",
            "_model_name": "FloatProgressModel",
            "_view_count": null,
            "_view_module": "@jupyter-widgets/controls",
            "_view_module_version": "1.5.0",
            "_view_name": "ProgressView",
            "bar_style": "success",
            "description": "",
            "description_tooltip": null,
            "layout": "IPY_MODEL_91e1fd61f1824debbffe978a0adab931",
            "max": 440473133,
            "min": 0,
            "orientation": "horizontal",
            "style": "IPY_MODEL_90ebd9eaf36145bda64416ca1c35abae",
            "value": 440473133
          }
        },
        "dc7e3719cc2d4fed982934e8b92c88ec": {
          "model_module": "@jupyter-widgets/controls",
          "model_name": "HTMLModel",
          "model_module_version": "1.5.0",
          "state": {
            "_dom_classes": [],
            "_model_module": "@jupyter-widgets/controls",
            "_model_module_version": "1.5.0",
            "_model_name": "HTMLModel",
            "_view_count": null,
            "_view_module": "@jupyter-widgets/controls",
            "_view_module_version": "1.5.0",
            "_view_name": "HTMLView",
            "description": "",
            "description_tooltip": null,
            "layout": "IPY_MODEL_9b1cf8f399f247e6b6af8afcf0fd5d0e",
            "placeholder": "​",
            "style": "IPY_MODEL_365d538c3efb4d398e15973770ca5300",
            "value": " 440M/440M [00:05&lt;00:00, 119MB/s]"
          }
        },
        "5a8fa21657e9413ba557bd4aa0c74e10": {
          "model_module": "@jupyter-widgets/base",
          "model_name": "LayoutModel",
          "model_module_version": "1.2.0",
          "state": {
            "_model_module": "@jupyter-widgets/base",
            "_model_module_version": "1.2.0",
            "_model_name": "LayoutModel",
            "_view_count": null,
            "_view_module": "@jupyter-widgets/base",
            "_view_module_version": "1.2.0",
            "_view_name": "LayoutView",
            "align_content": null,
            "align_items": null,
            "align_self": null,
            "border": null,
            "bottom": null,
            "display": null,
            "flex": null,
            "flex_flow": null,
            "grid_area": null,
            "grid_auto_columns": null,
            "grid_auto_flow": null,
            "grid_auto_rows": null,
            "grid_column": null,
            "grid_gap": null,
            "grid_row": null,
            "grid_template_areas": null,
            "grid_template_columns": null,
            "grid_template_rows": null,
            "height": null,
            "justify_content": null,
            "justify_items": null,
            "left": null,
            "margin": null,
            "max_height": null,
            "max_width": null,
            "min_height": null,
            "min_width": null,
            "object_fit": null,
            "object_position": null,
            "order": null,
            "overflow": null,
            "overflow_x": null,
            "overflow_y": null,
            "padding": null,
            "right": null,
            "top": null,
            "visibility": null,
            "width": null
          }
        },
        "3f1b9884cb4d404fa5ebf55800c9062b": {
          "model_module": "@jupyter-widgets/base",
          "model_name": "LayoutModel",
          "model_module_version": "1.2.0",
          "state": {
            "_model_module": "@jupyter-widgets/base",
            "_model_module_version": "1.2.0",
            "_model_name": "LayoutModel",
            "_view_count": null,
            "_view_module": "@jupyter-widgets/base",
            "_view_module_version": "1.2.0",
            "_view_name": "LayoutView",
            "align_content": null,
            "align_items": null,
            "align_self": null,
            "border": null,
            "bottom": null,
            "display": null,
            "flex": null,
            "flex_flow": null,
            "grid_area": null,
            "grid_auto_columns": null,
            "grid_auto_flow": null,
            "grid_auto_rows": null,
            "grid_column": null,
            "grid_gap": null,
            "grid_row": null,
            "grid_template_areas": null,
            "grid_template_columns": null,
            "grid_template_rows": null,
            "height": null,
            "justify_content": null,
            "justify_items": null,
            "left": null,
            "margin": null,
            "max_height": null,
            "max_width": null,
            "min_height": null,
            "min_width": null,
            "object_fit": null,
            "object_position": null,
            "order": null,
            "overflow": null,
            "overflow_x": null,
            "overflow_y": null,
            "padding": null,
            "right": null,
            "top": null,
            "visibility": null,
            "width": null
          }
        },
        "4fab8d324c3445fe9b4ac602668701d8": {
          "model_module": "@jupyter-widgets/controls",
          "model_name": "DescriptionStyleModel",
          "model_module_version": "1.5.0",
          "state": {
            "_model_module": "@jupyter-widgets/controls",
            "_model_module_version": "1.5.0",
            "_model_name": "DescriptionStyleModel",
            "_view_count": null,
            "_view_module": "@jupyter-widgets/base",
            "_view_module_version": "1.2.0",
            "_view_name": "StyleView",
            "description_width": ""
          }
        },
        "91e1fd61f1824debbffe978a0adab931": {
          "model_module": "@jupyter-widgets/base",
          "model_name": "LayoutModel",
          "model_module_version": "1.2.0",
          "state": {
            "_model_module": "@jupyter-widgets/base",
            "_model_module_version": "1.2.0",
            "_model_name": "LayoutModel",
            "_view_count": null,
            "_view_module": "@jupyter-widgets/base",
            "_view_module_version": "1.2.0",
            "_view_name": "LayoutView",
            "align_content": null,
            "align_items": null,
            "align_self": null,
            "border": null,
            "bottom": null,
            "display": null,
            "flex": null,
            "flex_flow": null,
            "grid_area": null,
            "grid_auto_columns": null,
            "grid_auto_flow": null,
            "grid_auto_rows": null,
            "grid_column": null,
            "grid_gap": null,
            "grid_row": null,
            "grid_template_areas": null,
            "grid_template_columns": null,
            "grid_template_rows": null,
            "height": null,
            "justify_content": null,
            "justify_items": null,
            "left": null,
            "margin": null,
            "max_height": null,
            "max_width": null,
            "min_height": null,
            "min_width": null,
            "object_fit": null,
            "object_position": null,
            "order": null,
            "overflow": null,
            "overflow_x": null,
            "overflow_y": null,
            "padding": null,
            "right": null,
            "top": null,
            "visibility": null,
            "width": null
          }
        },
        "90ebd9eaf36145bda64416ca1c35abae": {
          "model_module": "@jupyter-widgets/controls",
          "model_name": "ProgressStyleModel",
          "model_module_version": "1.5.0",
          "state": {
            "_model_module": "@jupyter-widgets/controls",
            "_model_module_version": "1.5.0",
            "_model_name": "ProgressStyleModel",
            "_view_count": null,
            "_view_module": "@jupyter-widgets/base",
            "_view_module_version": "1.2.0",
            "_view_name": "StyleView",
            "bar_color": null,
            "description_width": ""
          }
        },
        "9b1cf8f399f247e6b6af8afcf0fd5d0e": {
          "model_module": "@jupyter-widgets/base",
          "model_name": "LayoutModel",
          "model_module_version": "1.2.0",
          "state": {
            "_model_module": "@jupyter-widgets/base",
            "_model_module_version": "1.2.0",
            "_model_name": "LayoutModel",
            "_view_count": null,
            "_view_module": "@jupyter-widgets/base",
            "_view_module_version": "1.2.0",
            "_view_name": "LayoutView",
            "align_content": null,
            "align_items": null,
            "align_self": null,
            "border": null,
            "bottom": null,
            "display": null,
            "flex": null,
            "flex_flow": null,
            "grid_area": null,
            "grid_auto_columns": null,
            "grid_auto_flow": null,
            "grid_auto_rows": null,
            "grid_column": null,
            "grid_gap": null,
            "grid_row": null,
            "grid_template_areas": null,
            "grid_template_columns": null,
            "grid_template_rows": null,
            "height": null,
            "justify_content": null,
            "justify_items": null,
            "left": null,
            "margin": null,
            "max_height": null,
            "max_width": null,
            "min_height": null,
            "min_width": null,
            "object_fit": null,
            "object_position": null,
            "order": null,
            "overflow": null,
            "overflow_x": null,
            "overflow_y": null,
            "padding": null,
            "right": null,
            "top": null,
            "visibility": null,
            "width": null
          }
        },
        "365d538c3efb4d398e15973770ca5300": {
          "model_module": "@jupyter-widgets/controls",
          "model_name": "DescriptionStyleModel",
          "model_module_version": "1.5.0",
          "state": {
            "_model_module": "@jupyter-widgets/controls",
            "_model_module_version": "1.5.0",
            "_model_name": "DescriptionStyleModel",
            "_view_count": null,
            "_view_module": "@jupyter-widgets/base",
            "_view_module_version": "1.2.0",
            "_view_name": "StyleView",
            "description_width": ""
          }
        },
        "c9404b3ef14f4df197345c038fd567d8": {
          "model_module": "@jupyter-widgets/controls",
          "model_name": "HBoxModel",
          "model_module_version": "1.5.0",
          "state": {
            "_dom_classes": [],
            "_model_module": "@jupyter-widgets/controls",
            "_model_module_version": "1.5.0",
            "_model_name": "HBoxModel",
            "_view_count": null,
            "_view_module": "@jupyter-widgets/controls",
            "_view_module_version": "1.5.0",
            "_view_name": "HBoxView",
            "box_style": "",
            "children": [
              "IPY_MODEL_3f8d89b26b2d4b5bac5b7e7a0ce58ca0",
              "IPY_MODEL_330f8ee2ce67410f9a80301ee040866f",
              "IPY_MODEL_6aeabca29f0c4ed7a8b09e194d8be57d"
            ],
            "layout": "IPY_MODEL_dae71983537449e083fe847968d98dfe"
          }
        },
        "3f8d89b26b2d4b5bac5b7e7a0ce58ca0": {
          "model_module": "@jupyter-widgets/controls",
          "model_name": "HTMLModel",
          "model_module_version": "1.5.0",
          "state": {
            "_dom_classes": [],
            "_model_module": "@jupyter-widgets/controls",
            "_model_module_version": "1.5.0",
            "_model_name": "HTMLModel",
            "_view_count": null,
            "_view_module": "@jupyter-widgets/controls",
            "_view_module_version": "1.5.0",
            "_view_name": "HTMLView",
            "description": "",
            "description_tooltip": null,
            "layout": "IPY_MODEL_35e51fb0f2104886b2fb54f21560d961",
            "placeholder": "​",
            "style": "IPY_MODEL_b4c96f7b5ff04e22a32f0089028c672e",
            "value": "Downloading (…)solve/main/vocab.txt: 100%"
          }
        },
        "330f8ee2ce67410f9a80301ee040866f": {
          "model_module": "@jupyter-widgets/controls",
          "model_name": "FloatProgressModel",
          "model_module_version": "1.5.0",
          "state": {
            "_dom_classes": [],
            "_model_module": "@jupyter-widgets/controls",
            "_model_module_version": "1.5.0",
            "_model_name": "FloatProgressModel",
            "_view_count": null,
            "_view_module": "@jupyter-widgets/controls",
            "_view_module_version": "1.5.0",
            "_view_name": "ProgressView",
            "bar_style": "success",
            "description": "",
            "description_tooltip": null,
            "layout": "IPY_MODEL_13402e5c6c144441b2b7400a7ce4cb68",
            "max": 231508,
            "min": 0,
            "orientation": "horizontal",
            "style": "IPY_MODEL_87dc2a73ce8944c9af71eb808fa20fb1",
            "value": 231508
          }
        },
        "6aeabca29f0c4ed7a8b09e194d8be57d": {
          "model_module": "@jupyter-widgets/controls",
          "model_name": "HTMLModel",
          "model_module_version": "1.5.0",
          "state": {
            "_dom_classes": [],
            "_model_module": "@jupyter-widgets/controls",
            "_model_module_version": "1.5.0",
            "_model_name": "HTMLModel",
            "_view_count": null,
            "_view_module": "@jupyter-widgets/controls",
            "_view_module_version": "1.5.0",
            "_view_name": "HTMLView",
            "description": "",
            "description_tooltip": null,
            "layout": "IPY_MODEL_06d189d5704c47dc830bd38f804a2fb3",
            "placeholder": "​",
            "style": "IPY_MODEL_e548e38bed724ae2a5270bfe2e951619",
            "value": " 232k/232k [00:00&lt;00:00, 4.15MB/s]"
          }
        },
        "dae71983537449e083fe847968d98dfe": {
          "model_module": "@jupyter-widgets/base",
          "model_name": "LayoutModel",
          "model_module_version": "1.2.0",
          "state": {
            "_model_module": "@jupyter-widgets/base",
            "_model_module_version": "1.2.0",
            "_model_name": "LayoutModel",
            "_view_count": null,
            "_view_module": "@jupyter-widgets/base",
            "_view_module_version": "1.2.0",
            "_view_name": "LayoutView",
            "align_content": null,
            "align_items": null,
            "align_self": null,
            "border": null,
            "bottom": null,
            "display": null,
            "flex": null,
            "flex_flow": null,
            "grid_area": null,
            "grid_auto_columns": null,
            "grid_auto_flow": null,
            "grid_auto_rows": null,
            "grid_column": null,
            "grid_gap": null,
            "grid_row": null,
            "grid_template_areas": null,
            "grid_template_columns": null,
            "grid_template_rows": null,
            "height": null,
            "justify_content": null,
            "justify_items": null,
            "left": null,
            "margin": null,
            "max_height": null,
            "max_width": null,
            "min_height": null,
            "min_width": null,
            "object_fit": null,
            "object_position": null,
            "order": null,
            "overflow": null,
            "overflow_x": null,
            "overflow_y": null,
            "padding": null,
            "right": null,
            "top": null,
            "visibility": null,
            "width": null
          }
        },
        "35e51fb0f2104886b2fb54f21560d961": {
          "model_module": "@jupyter-widgets/base",
          "model_name": "LayoutModel",
          "model_module_version": "1.2.0",
          "state": {
            "_model_module": "@jupyter-widgets/base",
            "_model_module_version": "1.2.0",
            "_model_name": "LayoutModel",
            "_view_count": null,
            "_view_module": "@jupyter-widgets/base",
            "_view_module_version": "1.2.0",
            "_view_name": "LayoutView",
            "align_content": null,
            "align_items": null,
            "align_self": null,
            "border": null,
            "bottom": null,
            "display": null,
            "flex": null,
            "flex_flow": null,
            "grid_area": null,
            "grid_auto_columns": null,
            "grid_auto_flow": null,
            "grid_auto_rows": null,
            "grid_column": null,
            "grid_gap": null,
            "grid_row": null,
            "grid_template_areas": null,
            "grid_template_columns": null,
            "grid_template_rows": null,
            "height": null,
            "justify_content": null,
            "justify_items": null,
            "left": null,
            "margin": null,
            "max_height": null,
            "max_width": null,
            "min_height": null,
            "min_width": null,
            "object_fit": null,
            "object_position": null,
            "order": null,
            "overflow": null,
            "overflow_x": null,
            "overflow_y": null,
            "padding": null,
            "right": null,
            "top": null,
            "visibility": null,
            "width": null
          }
        },
        "b4c96f7b5ff04e22a32f0089028c672e": {
          "model_module": "@jupyter-widgets/controls",
          "model_name": "DescriptionStyleModel",
          "model_module_version": "1.5.0",
          "state": {
            "_model_module": "@jupyter-widgets/controls",
            "_model_module_version": "1.5.0",
            "_model_name": "DescriptionStyleModel",
            "_view_count": null,
            "_view_module": "@jupyter-widgets/base",
            "_view_module_version": "1.2.0",
            "_view_name": "StyleView",
            "description_width": ""
          }
        },
        "13402e5c6c144441b2b7400a7ce4cb68": {
          "model_module": "@jupyter-widgets/base",
          "model_name": "LayoutModel",
          "model_module_version": "1.2.0",
          "state": {
            "_model_module": "@jupyter-widgets/base",
            "_model_module_version": "1.2.0",
            "_model_name": "LayoutModel",
            "_view_count": null,
            "_view_module": "@jupyter-widgets/base",
            "_view_module_version": "1.2.0",
            "_view_name": "LayoutView",
            "align_content": null,
            "align_items": null,
            "align_self": null,
            "border": null,
            "bottom": null,
            "display": null,
            "flex": null,
            "flex_flow": null,
            "grid_area": null,
            "grid_auto_columns": null,
            "grid_auto_flow": null,
            "grid_auto_rows": null,
            "grid_column": null,
            "grid_gap": null,
            "grid_row": null,
            "grid_template_areas": null,
            "grid_template_columns": null,
            "grid_template_rows": null,
            "height": null,
            "justify_content": null,
            "justify_items": null,
            "left": null,
            "margin": null,
            "max_height": null,
            "max_width": null,
            "min_height": null,
            "min_width": null,
            "object_fit": null,
            "object_position": null,
            "order": null,
            "overflow": null,
            "overflow_x": null,
            "overflow_y": null,
            "padding": null,
            "right": null,
            "top": null,
            "visibility": null,
            "width": null
          }
        },
        "87dc2a73ce8944c9af71eb808fa20fb1": {
          "model_module": "@jupyter-widgets/controls",
          "model_name": "ProgressStyleModel",
          "model_module_version": "1.5.0",
          "state": {
            "_model_module": "@jupyter-widgets/controls",
            "_model_module_version": "1.5.0",
            "_model_name": "ProgressStyleModel",
            "_view_count": null,
            "_view_module": "@jupyter-widgets/base",
            "_view_module_version": "1.2.0",
            "_view_name": "StyleView",
            "bar_color": null,
            "description_width": ""
          }
        },
        "06d189d5704c47dc830bd38f804a2fb3": {
          "model_module": "@jupyter-widgets/base",
          "model_name": "LayoutModel",
          "model_module_version": "1.2.0",
          "state": {
            "_model_module": "@jupyter-widgets/base",
            "_model_module_version": "1.2.0",
            "_model_name": "LayoutModel",
            "_view_count": null,
            "_view_module": "@jupyter-widgets/base",
            "_view_module_version": "1.2.0",
            "_view_name": "LayoutView",
            "align_content": null,
            "align_items": null,
            "align_self": null,
            "border": null,
            "bottom": null,
            "display": null,
            "flex": null,
            "flex_flow": null,
            "grid_area": null,
            "grid_auto_columns": null,
            "grid_auto_flow": null,
            "grid_auto_rows": null,
            "grid_column": null,
            "grid_gap": null,
            "grid_row": null,
            "grid_template_areas": null,
            "grid_template_columns": null,
            "grid_template_rows": null,
            "height": null,
            "justify_content": null,
            "justify_items": null,
            "left": null,
            "margin": null,
            "max_height": null,
            "max_width": null,
            "min_height": null,
            "min_width": null,
            "object_fit": null,
            "object_position": null,
            "order": null,
            "overflow": null,
            "overflow_x": null,
            "overflow_y": null,
            "padding": null,
            "right": null,
            "top": null,
            "visibility": null,
            "width": null
          }
        },
        "e548e38bed724ae2a5270bfe2e951619": {
          "model_module": "@jupyter-widgets/controls",
          "model_name": "DescriptionStyleModel",
          "model_module_version": "1.5.0",
          "state": {
            "_model_module": "@jupyter-widgets/controls",
            "_model_module_version": "1.5.0",
            "_model_name": "DescriptionStyleModel",
            "_view_count": null,
            "_view_module": "@jupyter-widgets/base",
            "_view_module_version": "1.2.0",
            "_view_name": "StyleView",
            "description_width": ""
          }
        },
        "9685f3b4521d42d28c2e47a2d4866e87": {
          "model_module": "@jupyter-widgets/controls",
          "model_name": "HBoxModel",
          "model_module_version": "1.5.0",
          "state": {
            "_dom_classes": [],
            "_model_module": "@jupyter-widgets/controls",
            "_model_module_version": "1.5.0",
            "_model_name": "HBoxModel",
            "_view_count": null,
            "_view_module": "@jupyter-widgets/controls",
            "_view_module_version": "1.5.0",
            "_view_name": "HBoxView",
            "box_style": "",
            "children": [
              "IPY_MODEL_1076c4a5ba0d4cbba556f5d60b094876",
              "IPY_MODEL_be132f7c255d49d6a3571e4803934c48",
              "IPY_MODEL_6d77d07f8328489682d365d1ee76dc2f"
            ],
            "layout": "IPY_MODEL_e243cc999c9f45b2af30f082763435d2"
          }
        },
        "1076c4a5ba0d4cbba556f5d60b094876": {
          "model_module": "@jupyter-widgets/controls",
          "model_name": "HTMLModel",
          "model_module_version": "1.5.0",
          "state": {
            "_dom_classes": [],
            "_model_module": "@jupyter-widgets/controls",
            "_model_module_version": "1.5.0",
            "_model_name": "HTMLModel",
            "_view_count": null,
            "_view_module": "@jupyter-widgets/controls",
            "_view_module_version": "1.5.0",
            "_view_name": "HTMLView",
            "description": "",
            "description_tooltip": null,
            "layout": "IPY_MODEL_6d1e85c017a445279dc0a2cd429ac3ec",
            "placeholder": "​",
            "style": "IPY_MODEL_49e230f87d7d47439d4abfbc9a68db3d",
            "value": "Downloading (…)okenizer_config.json: 100%"
          }
        },
        "be132f7c255d49d6a3571e4803934c48": {
          "model_module": "@jupyter-widgets/controls",
          "model_name": "FloatProgressModel",
          "model_module_version": "1.5.0",
          "state": {
            "_dom_classes": [],
            "_model_module": "@jupyter-widgets/controls",
            "_model_module_version": "1.5.0",
            "_model_name": "FloatProgressModel",
            "_view_count": null,
            "_view_module": "@jupyter-widgets/controls",
            "_view_module_version": "1.5.0",
            "_view_name": "ProgressView",
            "bar_style": "success",
            "description": "",
            "description_tooltip": null,
            "layout": "IPY_MODEL_b200408275fc4d789dd140f72ffe8fea",
            "max": 28,
            "min": 0,
            "orientation": "horizontal",
            "style": "IPY_MODEL_7f1fe4de92e54920b7ca6570ca73a9d8",
            "value": 28
          }
        },
        "6d77d07f8328489682d365d1ee76dc2f": {
          "model_module": "@jupyter-widgets/controls",
          "model_name": "HTMLModel",
          "model_module_version": "1.5.0",
          "state": {
            "_dom_classes": [],
            "_model_module": "@jupyter-widgets/controls",
            "_model_module_version": "1.5.0",
            "_model_name": "HTMLModel",
            "_view_count": null,
            "_view_module": "@jupyter-widgets/controls",
            "_view_module_version": "1.5.0",
            "_view_name": "HTMLView",
            "description": "",
            "description_tooltip": null,
            "layout": "IPY_MODEL_ae66fd753a324bf39c756430bcafce3d",
            "placeholder": "​",
            "style": "IPY_MODEL_0abd39b81251448aabd1e0eefda68d78",
            "value": " 28.0/28.0 [00:00&lt;00:00, 1.46kB/s]"
          }
        },
        "e243cc999c9f45b2af30f082763435d2": {
          "model_module": "@jupyter-widgets/base",
          "model_name": "LayoutModel",
          "model_module_version": "1.2.0",
          "state": {
            "_model_module": "@jupyter-widgets/base",
            "_model_module_version": "1.2.0",
            "_model_name": "LayoutModel",
            "_view_count": null,
            "_view_module": "@jupyter-widgets/base",
            "_view_module_version": "1.2.0",
            "_view_name": "LayoutView",
            "align_content": null,
            "align_items": null,
            "align_self": null,
            "border": null,
            "bottom": null,
            "display": null,
            "flex": null,
            "flex_flow": null,
            "grid_area": null,
            "grid_auto_columns": null,
            "grid_auto_flow": null,
            "grid_auto_rows": null,
            "grid_column": null,
            "grid_gap": null,
            "grid_row": null,
            "grid_template_areas": null,
            "grid_template_columns": null,
            "grid_template_rows": null,
            "height": null,
            "justify_content": null,
            "justify_items": null,
            "left": null,
            "margin": null,
            "max_height": null,
            "max_width": null,
            "min_height": null,
            "min_width": null,
            "object_fit": null,
            "object_position": null,
            "order": null,
            "overflow": null,
            "overflow_x": null,
            "overflow_y": null,
            "padding": null,
            "right": null,
            "top": null,
            "visibility": null,
            "width": null
          }
        },
        "6d1e85c017a445279dc0a2cd429ac3ec": {
          "model_module": "@jupyter-widgets/base",
          "model_name": "LayoutModel",
          "model_module_version": "1.2.0",
          "state": {
            "_model_module": "@jupyter-widgets/base",
            "_model_module_version": "1.2.0",
            "_model_name": "LayoutModel",
            "_view_count": null,
            "_view_module": "@jupyter-widgets/base",
            "_view_module_version": "1.2.0",
            "_view_name": "LayoutView",
            "align_content": null,
            "align_items": null,
            "align_self": null,
            "border": null,
            "bottom": null,
            "display": null,
            "flex": null,
            "flex_flow": null,
            "grid_area": null,
            "grid_auto_columns": null,
            "grid_auto_flow": null,
            "grid_auto_rows": null,
            "grid_column": null,
            "grid_gap": null,
            "grid_row": null,
            "grid_template_areas": null,
            "grid_template_columns": null,
            "grid_template_rows": null,
            "height": null,
            "justify_content": null,
            "justify_items": null,
            "left": null,
            "margin": null,
            "max_height": null,
            "max_width": null,
            "min_height": null,
            "min_width": null,
            "object_fit": null,
            "object_position": null,
            "order": null,
            "overflow": null,
            "overflow_x": null,
            "overflow_y": null,
            "padding": null,
            "right": null,
            "top": null,
            "visibility": null,
            "width": null
          }
        },
        "49e230f87d7d47439d4abfbc9a68db3d": {
          "model_module": "@jupyter-widgets/controls",
          "model_name": "DescriptionStyleModel",
          "model_module_version": "1.5.0",
          "state": {
            "_model_module": "@jupyter-widgets/controls",
            "_model_module_version": "1.5.0",
            "_model_name": "DescriptionStyleModel",
            "_view_count": null,
            "_view_module": "@jupyter-widgets/base",
            "_view_module_version": "1.2.0",
            "_view_name": "StyleView",
            "description_width": ""
          }
        },
        "b200408275fc4d789dd140f72ffe8fea": {
          "model_module": "@jupyter-widgets/base",
          "model_name": "LayoutModel",
          "model_module_version": "1.2.0",
          "state": {
            "_model_module": "@jupyter-widgets/base",
            "_model_module_version": "1.2.0",
            "_model_name": "LayoutModel",
            "_view_count": null,
            "_view_module": "@jupyter-widgets/base",
            "_view_module_version": "1.2.0",
            "_view_name": "LayoutView",
            "align_content": null,
            "align_items": null,
            "align_self": null,
            "border": null,
            "bottom": null,
            "display": null,
            "flex": null,
            "flex_flow": null,
            "grid_area": null,
            "grid_auto_columns": null,
            "grid_auto_flow": null,
            "grid_auto_rows": null,
            "grid_column": null,
            "grid_gap": null,
            "grid_row": null,
            "grid_template_areas": null,
            "grid_template_columns": null,
            "grid_template_rows": null,
            "height": null,
            "justify_content": null,
            "justify_items": null,
            "left": null,
            "margin": null,
            "max_height": null,
            "max_width": null,
            "min_height": null,
            "min_width": null,
            "object_fit": null,
            "object_position": null,
            "order": null,
            "overflow": null,
            "overflow_x": null,
            "overflow_y": null,
            "padding": null,
            "right": null,
            "top": null,
            "visibility": null,
            "width": null
          }
        },
        "7f1fe4de92e54920b7ca6570ca73a9d8": {
          "model_module": "@jupyter-widgets/controls",
          "model_name": "ProgressStyleModel",
          "model_module_version": "1.5.0",
          "state": {
            "_model_module": "@jupyter-widgets/controls",
            "_model_module_version": "1.5.0",
            "_model_name": "ProgressStyleModel",
            "_view_count": null,
            "_view_module": "@jupyter-widgets/base",
            "_view_module_version": "1.2.0",
            "_view_name": "StyleView",
            "bar_color": null,
            "description_width": ""
          }
        },
        "ae66fd753a324bf39c756430bcafce3d": {
          "model_module": "@jupyter-widgets/base",
          "model_name": "LayoutModel",
          "model_module_version": "1.2.0",
          "state": {
            "_model_module": "@jupyter-widgets/base",
            "_model_module_version": "1.2.0",
            "_model_name": "LayoutModel",
            "_view_count": null,
            "_view_module": "@jupyter-widgets/base",
            "_view_module_version": "1.2.0",
            "_view_name": "LayoutView",
            "align_content": null,
            "align_items": null,
            "align_self": null,
            "border": null,
            "bottom": null,
            "display": null,
            "flex": null,
            "flex_flow": null,
            "grid_area": null,
            "grid_auto_columns": null,
            "grid_auto_flow": null,
            "grid_auto_rows": null,
            "grid_column": null,
            "grid_gap": null,
            "grid_row": null,
            "grid_template_areas": null,
            "grid_template_columns": null,
            "grid_template_rows": null,
            "height": null,
            "justify_content": null,
            "justify_items": null,
            "left": null,
            "margin": null,
            "max_height": null,
            "max_width": null,
            "min_height": null,
            "min_width": null,
            "object_fit": null,
            "object_position": null,
            "order": null,
            "overflow": null,
            "overflow_x": null,
            "overflow_y": null,
            "padding": null,
            "right": null,
            "top": null,
            "visibility": null,
            "width": null
          }
        },
        "0abd39b81251448aabd1e0eefda68d78": {
          "model_module": "@jupyter-widgets/controls",
          "model_name": "DescriptionStyleModel",
          "model_module_version": "1.5.0",
          "state": {
            "_model_module": "@jupyter-widgets/controls",
            "_model_module_version": "1.5.0",
            "_model_name": "DescriptionStyleModel",
            "_view_count": null,
            "_view_module": "@jupyter-widgets/base",
            "_view_module_version": "1.2.0",
            "_view_name": "StyleView",
            "description_width": ""
          }
        }
      }
    }
  },
  "nbformat": 4,
  "nbformat_minor": 0
}